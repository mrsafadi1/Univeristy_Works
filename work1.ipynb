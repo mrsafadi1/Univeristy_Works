{
 "cells": [
  {
   "cell_type": "code",
   "execution_count": 181,
   "metadata": {},
   "outputs": [],
   "source": [
    "import pandas as pd\n",
    "import matplotlib.pyplot as plt\n",
    "import matplotlib.ticker as mtick\n",
    "import seaborn as sns\n",
    "%matplotlib inline\n",
    "import numpy as np\n",
    "from sklearn.preprocessing import OneHotEncoder\n",
    "from sklearn.ensemble import RandomForestRegressor\n",
    "from sklearn.model_selection import train_test_split\n",
    "from IPython.display import display\n",
    "from sklearn.metrics import mean_squared_error\n",
    "from scipy.stats import ttest_ind\n",
    "from sklearn.cluster import KMeans\n",
    "from sklearn.mixture import GaussianMixture\n",
    "from sklearn import datasets \n",
    "from sklearn.model_selection import cross_val_score\n",
    "from sklearn.tree import DecisionTreeClassifier\n",
    "from sklearn import metrics\n",
    "from sklearn.model_selection import GridSearchCV\n",
    "RSEED = 1234\n",
    "import warnings\n",
    "warnings.filterwarnings(\"ignore\",category=FutureWarning)"
   ]
  },
  {
   "cell_type": "markdown",
   "metadata": {},
   "source": [
    "#  סעיף 1 : טעינת הנתונים"
   ]
  },
  {
   "cell_type": "code",
   "execution_count": 3,
   "metadata": {},
   "outputs": [],
   "source": [
    "knesset21 = pd.read_csv('C:\\\\Users\\\\HP\\\\Downloads\\\\votes21.csv', encoding=\"ISO-8859-8\")\n",
    "knesset22 = pd.read_csv('C:\\\\Users\\\\HP\\\\Downloads\\\\votes22.csv', encoding=\"ISO-8859-8\")\n",
    "knesset23 = pd.read_csv('C:\\\\Users\\\\HP\\\\Downloads\\\\votes23.csv', encoding=\"ISO-8859-8\")\n",
    "cities = pd.read_excel('C:\\\\Users\\\\HP\\\\Desktop\\\\cities.xlsx',converters={'קואורדינטות':str})\n",
    "\n",
    "# change names of columns to avoid bugs when summing two columns later\n",
    "knesset21.rename(columns ={'אמת':'_אמת', 'מחל':'_מחל' ,'טב':'_טב'}, inplace=True)\n",
    "knesset22.rename(columns = {'אמת':'_אמת', 'מחל':'_מחל' ,'טב':'_טב'}, inplace=True)\n",
    "\n"
   ]
  },
  {
   "cell_type": "markdown",
   "metadata": {},
   "source": [
    "## בדיקת תקינות הטעינה: מספר הרשומות בכל קובץ"
   ]
  },
  {
   "cell_type": "code",
   "execution_count": 4,
   "metadata": {},
   "outputs": [
    {
     "name": "stdout",
     "output_type": "stream",
     "text": [
      "[1214, 1214, 1214, 1482]\n"
     ]
    }
   ],
   "source": [
    "print([len(a.index) for a in (knesset21,knesset22, knesset23, cities)])"
   ]
  },
  {
   "cell_type": "markdown",
   "metadata": {},
   "source": [
    "## השוואת העמודות: אילו שמות של רשימות אינן משותפות\n",
    "\n",
    "\n",
    "היו שינויים ברשימות בין מערכות בחירות\n",
    "\n",
    "אנחנו ננסה לייצג את התוצאות ע\"י איחוד של רשימות בבחירות ה21 וה22 אם הם התאחדו בבחירות ה\n",
    "23\n"
   ]
  },
  {
   "cell_type": "code",
   "execution_count": 5,
   "metadata": {},
   "outputs": [
    {
     "name": "stdout",
     "output_type": "stream",
     "text": [
      "in k21 but not 22: {'קף', 'ן', 'צק', 'יץ', 'דעם', 'ןך', 'קן', 'ךק', 'זנ', 'ץז', 'נז', 'ןנ', 'קי', 'ףץ', 'זי', 'ףנ', 'ין', 'ר', 'ום', 'ףך', 'זך', 'נר', 'ףי', 'ץי'}\n",
      "in k22 but not 21: {'זן', 'קך', 'צן', 'קץ', 'סמל ועדה', 'כי', 'יף', 'צ', 'כף', 'יק', 'רק', 'ודעם', 'זכ', 'ינ'}\n",
      "in k23 but not 21: {'טב', 'קך', 'נק', 'כן', 'קץ', 'סמל ועדה', 'מחל', 'ני', 'יף', 'Unnamed: 37', 'יק', 'ודעם', 'אמת', 'יר', 'ינ'}\n",
      "in all: {'פה', 'זץ', 'כשרים', 'בזב', 'י', 'כ', 'סמל ישוב', 'ל', 'נץ', 'פסולים', 'שם ישוב', 'ז', 'ףז', 'ק', 'מצביעים', 'יז', 'נ', 'שס', 'ץ', 'ג'}\n",
      "['שם ישוב', 'סמל ישוב', 'בזב', 'מצביעים', 'פסולים', 'כשרים', 'ג', 'ז', 'זץ', 'י', 'יז', 'כ', 'ל', 'נ', 'נץ', 'פה', 'ףז', 'ץ', 'ק', 'שס']\n"
     ]
    }
   ],
   "source": [
    "cols21, cols22, cols23 = [set(a.columns) for a in (knesset21, knesset22, knesset23)]\n",
    "print('in k21 but not 22:', cols21 - cols22)\n",
    "print('in k22 but not 21:',cols22- cols21)\n",
    "\n",
    "print('in k23 but not 21:', cols23 - cols21)\n",
    "\n",
    "print('in all:', cols21 & cols22 & cols23)\n",
    "\n",
    "cols_all = [c for c in knesset23.columns if c in cols21 & cols22 & cols23]\n",
    "print(cols_all)"
   ]
  },
  {
   "cell_type": "markdown",
   "metadata": {},
   "source": [
    "\n",
    "## עקרונות לאיחוד הקבצים\n",
    "1. הפתקים של מרצ ואמת יאוחדו ברשימות של כנסת 21 22\n",
    "1. הפתקים ום, דעם יאוחדו ברשימות של כנסת 21\n",
    "1. הפתקים נ,טב יאוחדו ברשימות של כנסת 21\n",
    "1. הפתקים כ,מחל יאוחדו ברשימות של 21\n",
    "1. הפתקים כף,טב יאוחדו ברשימות של 22\n",
    "1. הפתקים של כל המפלגות שלא עברו את אחוז החסימה יאוחדו ל\"השאר\""
   ]
  },
  {
   "cell_type": "markdown",
   "metadata": {},
   "source": [
    "## combine the 3 results into a single dataframe"
   ]
  },
  {
   "cell_type": "code",
   "execution_count": 6,
   "metadata": {},
   "outputs": [
    {
     "name": "stdout",
     "output_type": "stream",
     "text": [
      "Index(['knesset', 'שם ישוב', 'סמל ישוב', 'בזב', 'מצביעים', 'פסולים', 'כשרים',\n",
      "       'אמת', 'ג', 'ודעם', 'טב', 'ל', 'מחל', 'פה', 'שס'],\n",
      "      dtype='object')\n",
      "3642\n"
     ]
    }
   ],
   "source": [
    "cols = ['knesset',\n",
    "    'שם ישוב', 'סמל ישוב', 'בזב', 'מצביעים', 'פסולים', 'כשרים', \n",
    "        'אמת', 'ג', 'ודעם', 'טב', \n",
    "         'ל', 'מחל', 'פה', 'שס']\n",
    "\n",
    "parties = cols[-8:]\n",
    "\n",
    "knesset21['אמת']  = knesset21['_אמת'] + knesset21['מרצ']\n",
    "knesset21['ודעם']  = knesset21['ום'] + knesset21['דעם']\n",
    "knesset21['טב']  = knesset21['_טב'] + knesset21['נ']\n",
    "knesset21['מחל']  = knesset21['_מחל'] + knesset21['כ']\n",
    "\n",
    "knesset22['טב'] = knesset22['_טב']\n",
    "knesset22['אמת']  = knesset22['_אמת'] + knesset22['מרצ']\n",
    "\n",
    "knesset22['מחל']  = knesset22['_מחל'] + knesset22['כ']\n",
    "\n",
    "\n",
    "knesset21['knesset'] = 21\n",
    "knesset22['knesset'] = 22\n",
    "knesset23['knesset'] = 23\n",
    "\n",
    "\n",
    "knesset = pd.DataFrame(columns = cols)\n",
    "knesset = knesset.append(knesset21[cols]).append(knesset22[cols]).append(knesset23[cols])\n",
    "\n",
    "print(knesset.columns)\n",
    "print(len(knesset.index))"
   ]
  },
  {
   "cell_type": "code",
   "execution_count": 7,
   "metadata": {},
   "outputs": [
    {
     "data": {
      "text/plain": [
       "['אמת', 'ג', 'ודעם', 'טב', 'ל', 'מחל', 'פה', 'שס']"
      ]
     },
     "execution_count": 7,
     "metadata": {},
     "output_type": "execute_result"
    }
   ],
   "source": [
    "parties"
   ]
  },
  {
   "cell_type": "markdown",
   "metadata": {},
   "source": [
    "### add columns for political blocs\n",
    "\n",
    "למרות האיחוד מספר המפלגות עדיין גדול ואם ננסה לצייר גרפים הם יצאו מפורטים מדי ולכן מבלבלים.\n",
    "\n",
    "לכן נצמצם ל-3 גושים פעילים בלבד\n",
    "\n",
    "ועוד קטגוריה \"אחרים\" למפלגות שלא עברו את אחוז החסימה\n",
    "\n"
   ]
  },
  {
   "cell_type": "code",
   "execution_count": 8,
   "metadata": {},
   "outputs": [],
   "source": [
    "# הוספת עמודות לגושים פוליטיים\n",
    "knesset['bloc_right'] = knesset[['מחל','שס','ג','טב']].sum(axis=1)\n",
    "knesset['bloc_center'] = knesset[['פה','ל']].sum(axis=1)\n",
    "knesset['bloc_left'] = knesset[['ודעם','אמת']].sum(axis=1)\n",
    "knesset['bloc_rest'] = knesset['כשרים'] - knesset[parties].sum(axis=1)"
   ]
  },
  {
   "cell_type": "markdown",
   "metadata": {},
   "source": [
    "## סעיף 2 : טבלאות + גרפים"
   ]
  },
  {
   "cell_type": "markdown",
   "metadata": {},
   "source": [
    "### סיכום תוצאות ברמה הארצית לפי מפלגות - טבלה"
   ]
  },
  {
   "cell_type": "code",
   "execution_count": 9,
   "metadata": {},
   "outputs": [
    {
     "data": {
      "text/html": [
       "<div>\n",
       "<style scoped>\n",
       "    .dataframe tbody tr th:only-of-type {\n",
       "        vertical-align: middle;\n",
       "    }\n",
       "\n",
       "    .dataframe tbody tr th {\n",
       "        vertical-align: top;\n",
       "    }\n",
       "\n",
       "    .dataframe thead th {\n",
       "        text-align: right;\n",
       "    }\n",
       "</style>\n",
       "<table border=\"1\" class=\"dataframe\">\n",
       "  <thead>\n",
       "    <tr style=\"text-align: right;\">\n",
       "      <th></th>\n",
       "      <th>אמת</th>\n",
       "      <th>ג</th>\n",
       "      <th>ודעם</th>\n",
       "      <th>טב</th>\n",
       "      <th>ל</th>\n",
       "      <th>מחל</th>\n",
       "      <th>פה</th>\n",
       "      <th>שס</th>\n",
       "      <th>כשרים</th>\n",
       "    </tr>\n",
       "    <tr>\n",
       "      <th>knesset</th>\n",
       "      <th></th>\n",
       "      <th></th>\n",
       "      <th></th>\n",
       "      <th></th>\n",
       "      <th></th>\n",
       "      <th></th>\n",
       "      <th></th>\n",
       "      <th></th>\n",
       "      <th></th>\n",
       "    </tr>\n",
       "  </thead>\n",
       "  <tbody>\n",
       "    <tr>\n",
       "      <th>21</th>\n",
       "      <td>347343</td>\n",
       "      <td>249049</td>\n",
       "      <td>337108</td>\n",
       "      <td>298066</td>\n",
       "      <td>173004</td>\n",
       "      <td>1293126</td>\n",
       "      <td>1125881</td>\n",
       "      <td>258275</td>\n",
       "      <td>4309270</td>\n",
       "    </tr>\n",
       "    <tr>\n",
       "      <th>22</th>\n",
       "      <td>405277</td>\n",
       "      <td>268775</td>\n",
       "      <td>470211</td>\n",
       "      <td>260655</td>\n",
       "      <td>310154</td>\n",
       "      <td>1113617</td>\n",
       "      <td>1151214</td>\n",
       "      <td>330199</td>\n",
       "      <td>4436806</td>\n",
       "    </tr>\n",
       "    <tr>\n",
       "      <th>23</th>\n",
       "      <td>267480</td>\n",
       "      <td>274437</td>\n",
       "      <td>581507</td>\n",
       "      <td>240689</td>\n",
       "      <td>263365</td>\n",
       "      <td>1352449</td>\n",
       "      <td>1220381</td>\n",
       "      <td>352853</td>\n",
       "      <td>4590062</td>\n",
       "    </tr>\n",
       "  </tbody>\n",
       "</table>\n",
       "</div>"
      ],
      "text/plain": [
       "            אמת       ג    ודעם      טב       ל      מחל       פה      שס  \\\n",
       "knesset                                                                     \n",
       "21       347343  249049  337108  298066  173004  1293126  1125881  258275   \n",
       "22       405277  268775  470211  260655  310154  1113617  1151214  330199   \n",
       "23       267480  274437  581507  240689  263365  1352449  1220381  352853   \n",
       "\n",
       "           כשרים  \n",
       "knesset           \n",
       "21       4309270  \n",
       "22       4436806  \n",
       "23       4590062  "
      ]
     },
     "execution_count": 9,
     "metadata": {},
     "output_type": "execute_result"
    }
   ],
   "source": [
    "israel_total = knesset.groupby('knesset')[parties+['כשרים']].sum()\n",
    "israel_total\n"
   ]
  },
  {
   "cell_type": "code",
   "execution_count": 10,
   "metadata": {},
   "outputs": [
    {
     "data": {
      "text/html": [
       "<div>\n",
       "<style scoped>\n",
       "    .dataframe tbody tr th:only-of-type {\n",
       "        vertical-align: middle;\n",
       "    }\n",
       "\n",
       "    .dataframe tbody tr th {\n",
       "        vertical-align: top;\n",
       "    }\n",
       "\n",
       "    .dataframe thead th {\n",
       "        text-align: right;\n",
       "    }\n",
       "</style>\n",
       "<table border=\"1\" class=\"dataframe\">\n",
       "  <thead>\n",
       "    <tr style=\"text-align: right;\">\n",
       "      <th></th>\n",
       "      <th>אמת</th>\n",
       "      <th>ג</th>\n",
       "      <th>ודעם</th>\n",
       "      <th>טב</th>\n",
       "      <th>ל</th>\n",
       "      <th>מחל</th>\n",
       "      <th>פה</th>\n",
       "      <th>שס</th>\n",
       "      <th>אחר</th>\n",
       "      <th>סך הכל</th>\n",
       "    </tr>\n",
       "    <tr>\n",
       "      <th>knesset</th>\n",
       "      <th></th>\n",
       "      <th></th>\n",
       "      <th></th>\n",
       "      <th></th>\n",
       "      <th></th>\n",
       "      <th></th>\n",
       "      <th></th>\n",
       "      <th></th>\n",
       "      <th></th>\n",
       "      <th></th>\n",
       "    </tr>\n",
       "  </thead>\n",
       "  <tbody>\n",
       "    <tr>\n",
       "      <th>21</th>\n",
       "      <td>8.1%</td>\n",
       "      <td>5.8%</td>\n",
       "      <td>7.8%</td>\n",
       "      <td>6.9%</td>\n",
       "      <td>4.0%</td>\n",
       "      <td>30.0%</td>\n",
       "      <td>26.1%</td>\n",
       "      <td>6.0%</td>\n",
       "      <td>5.3%</td>\n",
       "      <td>100.0%</td>\n",
       "    </tr>\n",
       "    <tr>\n",
       "      <th>22</th>\n",
       "      <td>9.1%</td>\n",
       "      <td>6.1%</td>\n",
       "      <td>10.6%</td>\n",
       "      <td>5.9%</td>\n",
       "      <td>7.0%</td>\n",
       "      <td>25.1%</td>\n",
       "      <td>25.9%</td>\n",
       "      <td>7.4%</td>\n",
       "      <td>2.9%</td>\n",
       "      <td>100.0%</td>\n",
       "    </tr>\n",
       "    <tr>\n",
       "      <th>23</th>\n",
       "      <td>5.8%</td>\n",
       "      <td>6.0%</td>\n",
       "      <td>12.7%</td>\n",
       "      <td>5.2%</td>\n",
       "      <td>5.7%</td>\n",
       "      <td>29.5%</td>\n",
       "      <td>26.6%</td>\n",
       "      <td>7.7%</td>\n",
       "      <td>0.8%</td>\n",
       "      <td>100.0%</td>\n",
       "    </tr>\n",
       "  </tbody>\n",
       "</table>\n",
       "</div>"
      ],
      "text/plain": [
       "          אמת     ג   ודעם    טב     ל    מחל     פה    שס   אחר  סך הכל\n",
       "knesset                                                                 \n",
       "21       8.1%  5.8%   7.8%  6.9%  4.0%  30.0%  26.1%  6.0%  5.3%  100.0%\n",
       "22       9.1%  6.1%  10.6%  5.9%  7.0%  25.1%  25.9%  7.4%  2.9%  100.0%\n",
       "23       5.8%  6.0%  12.7%  5.2%  5.7%  29.5%  26.6%  7.7%  0.8%  100.0%"
      ]
     },
     "execution_count": 10,
     "metadata": {},
     "output_type": "execute_result"
    }
   ],
   "source": [
    "israel_total = knesset.groupby('knesset')[parties+['כשרים']].sum()\n",
    "\n",
    "israel_total.iloc[:,:] = israel_total.values / israel_total['כשרים'].values[:,np.newaxis]\n",
    "#israel_total = israel_total.div(israel_total['כשרים'].astype(float))\n",
    "israel_total.insert(8,'אחר',israel_total['כשרים']-israel_total[parties].sum(axis=1),True)\n",
    "israel_total.rename(columns={\"כשרים\": \"סך הכל\"},inplace=True)\n",
    "israel_total.applymap(lambda f: '{:.1%}'.format(f))"
   ]
  },
  {
   "cell_type": "code",
   "execution_count": 11,
   "metadata": {},
   "outputs": [
    {
     "data": {
      "text/plain": [
       "Index(['knesset', 'שם ישוב', 'סמל ישוב', 'בזב', 'מצביעים', 'פסולים', 'כשרים',\n",
       "       'אמת', 'ג', 'ודעם', 'טב', 'ל', 'מחל', 'פה', 'שס', 'bloc_right',\n",
       "       'bloc_center', 'bloc_left', 'bloc_rest'],\n",
       "      dtype='object')"
      ]
     },
     "execution_count": 11,
     "metadata": {},
     "output_type": "execute_result"
    }
   ],
   "source": [
    "knesset.columns"
   ]
  },
  {
   "cell_type": "markdown",
   "metadata": {},
   "source": [
    "\n",
    "##  סיכום תוצאות ברמה הארצית לפי גושים פוליטיים\n"
   ]
  },
  {
   "cell_type": "code",
   "execution_count": 12,
   "metadata": {},
   "outputs": [
    {
     "data": {
      "text/html": [
       "<div>\n",
       "<style scoped>\n",
       "    .dataframe tbody tr th:only-of-type {\n",
       "        vertical-align: middle;\n",
       "    }\n",
       "\n",
       "    .dataframe tbody tr th {\n",
       "        vertical-align: top;\n",
       "    }\n",
       "\n",
       "    .dataframe thead th {\n",
       "        text-align: right;\n",
       "    }\n",
       "</style>\n",
       "<table border=\"1\" class=\"dataframe\">\n",
       "  <thead>\n",
       "    <tr style=\"text-align: right;\">\n",
       "      <th></th>\n",
       "      <th>knesset</th>\n",
       "      <th>kosher</th>\n",
       "      <th>bloc_right</th>\n",
       "      <th>bloc_center</th>\n",
       "      <th>bloc_left</th>\n",
       "      <th>bloc_rest</th>\n",
       "    </tr>\n",
       "  </thead>\n",
       "  <tbody>\n",
       "    <tr>\n",
       "      <th>0</th>\n",
       "      <td>21</td>\n",
       "      <td>371</td>\n",
       "      <td>223.0</td>\n",
       "      <td>104.0</td>\n",
       "      <td>26.0</td>\n",
       "      <td>18</td>\n",
       "    </tr>\n",
       "    <tr>\n",
       "      <th>1</th>\n",
       "      <td>21</td>\n",
       "      <td>235</td>\n",
       "      <td>223.0</td>\n",
       "      <td>5.0</td>\n",
       "      <td>5.0</td>\n",
       "      <td>2</td>\n",
       "    </tr>\n",
       "    <tr>\n",
       "      <th>2</th>\n",
       "      <td>21</td>\n",
       "      <td>288</td>\n",
       "      <td>121.0</td>\n",
       "      <td>113.0</td>\n",
       "      <td>31.0</td>\n",
       "      <td>23</td>\n",
       "    </tr>\n",
       "    <tr>\n",
       "      <th>3</th>\n",
       "      <td>21</td>\n",
       "      <td>403</td>\n",
       "      <td>63.0</td>\n",
       "      <td>251.0</td>\n",
       "      <td>61.0</td>\n",
       "      <td>28</td>\n",
       "    </tr>\n",
       "    <tr>\n",
       "      <th>4</th>\n",
       "      <td>21</td>\n",
       "      <td>215</td>\n",
       "      <td>202.0</td>\n",
       "      <td>5.0</td>\n",
       "      <td>1.0</td>\n",
       "      <td>7</td>\n",
       "    </tr>\n",
       "    <tr>\n",
       "      <th>...</th>\n",
       "      <td>...</td>\n",
       "      <td>...</td>\n",
       "      <td>...</td>\n",
       "      <td>...</td>\n",
       "      <td>...</td>\n",
       "      <td>...</td>\n",
       "    </tr>\n",
       "    <tr>\n",
       "      <th>1209</th>\n",
       "      <td>23</td>\n",
       "      <td>414</td>\n",
       "      <td>341.0</td>\n",
       "      <td>64.0</td>\n",
       "      <td>5.0</td>\n",
       "      <td>4</td>\n",
       "    </tr>\n",
       "    <tr>\n",
       "      <th>1210</th>\n",
       "      <td>23</td>\n",
       "      <td>1615</td>\n",
       "      <td>1410.0</td>\n",
       "      <td>120.0</td>\n",
       "      <td>31.0</td>\n",
       "      <td>54</td>\n",
       "    </tr>\n",
       "    <tr>\n",
       "      <th>1211</th>\n",
       "      <td>23</td>\n",
       "      <td>48</td>\n",
       "      <td>0.0</td>\n",
       "      <td>4.0</td>\n",
       "      <td>43.0</td>\n",
       "      <td>1</td>\n",
       "    </tr>\n",
       "    <tr>\n",
       "      <th>1212</th>\n",
       "      <td>23</td>\n",
       "      <td>206</td>\n",
       "      <td>40.0</td>\n",
       "      <td>2.0</td>\n",
       "      <td>160.0</td>\n",
       "      <td>4</td>\n",
       "    </tr>\n",
       "    <tr>\n",
       "      <th>1213</th>\n",
       "      <td>23</td>\n",
       "      <td>471</td>\n",
       "      <td>393.0</td>\n",
       "      <td>66.0</td>\n",
       "      <td>9.0</td>\n",
       "      <td>3</td>\n",
       "    </tr>\n",
       "  </tbody>\n",
       "</table>\n",
       "<p>3642 rows × 6 columns</p>\n",
       "</div>"
      ],
      "text/plain": [
       "     knesset kosher  bloc_right  bloc_center  bloc_left bloc_rest\n",
       "0         21    371       223.0        104.0       26.0        18\n",
       "1         21    235       223.0          5.0        5.0         2\n",
       "2         21    288       121.0        113.0       31.0        23\n",
       "3         21    403        63.0        251.0       61.0        28\n",
       "4         21    215       202.0          5.0        1.0         7\n",
       "...      ...    ...         ...          ...        ...       ...\n",
       "1209      23    414       341.0         64.0        5.0         4\n",
       "1210      23   1615      1410.0        120.0       31.0        54\n",
       "1211      23     48         0.0          4.0       43.0         1\n",
       "1212      23    206        40.0          2.0      160.0         4\n",
       "1213      23    471       393.0         66.0        9.0         3\n",
       "\n",
       "[3642 rows x 6 columns]"
      ]
     },
     "execution_count": 12,
     "metadata": {},
     "output_type": "execute_result"
    }
   ],
   "source": [
    "blocs = ['bloc_' + b for b in ['right','center','left','rest']]\n",
    "\n",
    "by_bloc_by_election = knesset[ ['knesset','כשרים']+blocs].rename(columns={'כשרים':'kosher'}).copy()#.groupby('knesset',as_index=False).su\n",
    "\n",
    "by_bloc_by_election"
   ]
  },
  {
   "cell_type": "code",
   "execution_count": 13,
   "metadata": {},
   "outputs": [],
   "source": [
    "# נתקלתי בבאג כלשהו שאילץ אותי לפצל לשתי dataframe\n",
    "a = by_bloc_by_election[['knesset', 'kosher', 'bloc_rest']].groupby('knesset',as_index=False).sum()\n",
    "b = by_bloc_by_election[['knesset','bloc_right','bloc_center','bloc_left']].groupby('knesset',as_index=False).sum()\n",
    "\n",
    "by_bloc_by_election_relative = pd.merge(right=b,left=a)\n",
    "# סידור מחדש של העמודות\n",
    "by_bloc_by_election_relative = by_bloc_by_election_relative[['knesset', 'kosher','bloc_right','bloc_center','bloc_left','bloc_rest']]\n",
    "by_bloc_by_election_relative = 100*by_bloc_by_election_relative.div(by_bloc_by_election_relative['kosher'],axis=0)\n",
    "by_bloc_by_election_relative['knesset'] = [21,22,23]\n",
    "by_bloc_by_election_relative.set_index('knesset',inplace=True)"
   ]
  },
  {
   "cell_type": "code",
   "execution_count": 14,
   "metadata": {},
   "outputs": [
    {
     "data": {
      "image/png": "[encoded data removed]",
      "text/plain": [
       "<Figure size 576x432 with 1 Axes>"
      ]
     },
     "metadata": {
      "needs_background": "light"
     },
     "output_type": "display_data"
    }
   ],
   "source": [
    "\n",
    "by_bloc_by_election_relative.drop('kosher',axis=1).plot(kind='bar',stacked='true',figsize=(8,6))\n",
    "tt = 'הצבעה לפי גושים לפי מערכות בחירות'\n",
    "plt.gca().yaxis.set_major_formatter(mtick.PercentFormatter())\n",
    "plt.title(tt[::-1],fontsize=16);"
   ]
  },
  {
   "cell_type": "markdown",
   "metadata": {},
   "source": [
    "## הבנת הנתונים בקובץ הישובים\n",
    "\n",
    "כשמתחילים לעבוד עם קובץ מקובל להסתכל עליו הסתכלות כללית: מה העמודות, ולנסות להבין לפחות את העיקריות שבהן.\n",
    "\n",
    "כאן השתמשתי בשילוב של הקואורדינטות ושל המחוז כדי להציג מפה שבה נראים בבירור המחוזות"
   ]
  },
  {
   "cell_type": "code",
   "execution_count": 15,
   "metadata": {},
   "outputs": [
    {
     "data": {
      "text/plain": [
       "Index(['שם יישוב', 'סמל יישוב', 'תעתיק', 'מחוז', 'נפה', 'אזור טבעי',\n",
       "       'מעמד מונציפאלי', 'שיוך מטרופוליני', 'דת יישוב',\n",
       "       'סך הכל אוכלוסייה 2018', 'יהודים ואחרים', 'מזה: יהודים', 'ערבים',\n",
       "       'שנת ייסוד', 'צורת יישוב שוטפת', 'השתייכות ארגונית', 'קואורדינטות',\n",
       "       'גובה', 'ועדת תכנון', 'מרחב משטרה', 'שנה', 'שם יישוב באנגלית',\n",
       "       'אשכול רשויות מקומיות'],\n",
       "      dtype='object')"
      ]
     },
     "execution_count": 15,
     "metadata": {},
     "output_type": "execute_result"
    }
   ],
   "source": [
    "cities.columns"
   ]
  },
  {
   "cell_type": "code",
   "execution_count": 16,
   "metadata": {},
   "outputs": [
    {
     "data": {
      "text/plain": [
       "array([623., 111., 245., 311., 241., 324., 212., 611., 411., 234., 112.,\n",
       "       244., 612., 294.,  nan, 622., 292., 323., 412., 614., 512., 626.,\n",
       "       513., 613., 511., 621., 322., 213., 243., 624., 235., 221., 242.,\n",
       "       431., 246., 422., 442., 441., 432., 421., 211., 233., 625., 222.,\n",
       "       237., 236., 293., 232., 231., 321., 627., 214., 291.])"
      ]
     },
     "execution_count": 16,
     "metadata": {},
     "output_type": "execute_result"
    }
   ],
   "source": [
    "# בלי קובץ מלווה אנחנו לא יודעים מה זה אומר\n",
    "cities['אזור טבעי'].unique()"
   ]
  },
  {
   "cell_type": "code",
   "execution_count": 17,
   "metadata": {},
   "outputs": [
    {
     "data": {
      "text/plain": [
       "array([62, 11, 24, 31, 32, 21, 61, 41, 23, 29, 73, 75, 77, 52, 53, 51, 22,\n",
       "       43, 42, 44, 72, 76, 25, 74, 71], dtype=int64)"
      ]
     },
     "execution_count": 17,
     "metadata": {},
     "output_type": "execute_result"
    }
   ],
   "source": [
    "# זו חלוקה גיאוגרפית בעלת כ25 ערכים שונים\n",
    "cities['נפה'].unique()"
   ]
  },
  {
   "cell_type": "code",
   "execution_count": 18,
   "metadata": {},
   "outputs": [
    {
     "data": {
      "text/plain": [
       "array([6, 1, 2, 3, 4, 7, 5], dtype=int64)"
      ]
     },
     "execution_count": 18,
     "metadata": {},
     "output_type": "execute_result"
    }
   ],
   "source": [
    "# זו החלוקה הגיאוגרפית הגסה ביותר\n",
    "cities['מחוז'].unique()"
   ]
  },
  {
   "cell_type": "code",
   "execution_count": 19,
   "metadata": {},
   "outputs": [],
   "source": [
    "# בשלב טעינת הנתונים הגדרתי שעמודת הקוארדינטות תהיה string\n",
    "# עכשיו ניתן לפצל לקואורדינטות צפון-דרום לעומת מזרח-מערב\n",
    "\n",
    "xy = [(float(str(s)[:5]),float(str(s)[5:])) for s in cities['קואורדינטות'] if len(str(s))==10]"
   ]
  },
  {
   "cell_type": "code",
   "execution_count": 20,
   "metadata": {},
   "outputs": [
    {
     "data": {
      "text/plain": [
       "[<matplotlib.lines.Line2D at 0x2612e8d1a08>]"
      ]
     },
     "execution_count": 20,
     "metadata": {},
     "output_type": "execute_result"
    },
    {
     "data": {
      "image/png": "[encoded data removed]",
      "text/plain": [
       "<Figure size 648x648 with 1 Axes>"
      ]
     },
     "metadata": {
      "needs_background": "light"
     },
     "output_type": "display_data"
    }
   ],
   "source": [
    "# כצפוי הקואורדינטות של הישובים משרטטות מפה של המדינה\n",
    "\n",
    "plt.figure(figsize=(9,9))\n",
    "plt.gca().set_aspect('equal', adjustable='box')\n",
    "plt.plot([x for x,y in xy], [y for x,y in xy],'.')"
   ]
  },
  {
   "cell_type": "code",
   "execution_count": 21,
   "metadata": {},
   "outputs": [],
   "source": [
    "# עכשיו נזין את הקואורדינטות כעמודות\n",
    "\n",
    "cities['x_coord']=cities['קואורדינטות'].apply(lambda s: float(str(s)[:5]) if len(str(s))==10 else np.nan)\n",
    "cities['y_coord']=cities['קואורדינטות'].apply(lambda s: float(str(s)[5:]) if len(str(s))==10 else np.nan)"
   ]
  },
  {
   "cell_type": "code",
   "execution_count": 22,
   "metadata": {},
   "outputs": [
    {
     "data": {
      "text/plain": [
       "<matplotlib.axes._subplots.AxesSubplot at 0x2612e905808>"
      ]
     },
     "execution_count": 22,
     "metadata": {},
     "output_type": "execute_result"
    },
    {
     "data": {
      "image/png": "[encoded data removed]",
      "text/plain": [
       "<Figure size 648x648 with 1 Axes>"
      ]
     },
     "metadata": {
      "needs_background": "light"
     },
     "output_type": "display_data"
    }
   ],
   "source": [
    "# בעזרת הקואורדינטות אנו משרטטים מפה של המחוזות\n",
    "\n",
    "plt.figure(figsize=(9,9))\n",
    "plt.gca().set_aspect('equal', adjustable='box')\n",
    "\n",
    "sns.scatterplot(x='x_coord',y='y_coord',style='מחוז',hue='מחוז', data=cities)"
   ]
  },
  {
   "cell_type": "markdown",
   "metadata": {},
   "source": [
    "### צירוף נתוני היישובים לקובץ של תוצאות שלוש מערכות הבחירות"
   ]
  },
  {
   "cell_type": "code",
   "execution_count": 23,
   "metadata": {},
   "outputs": [
    {
     "data": {
      "text/plain": [
       "1216"
      ]
     },
     "execution_count": 23,
     "metadata": {},
     "output_type": "execute_result"
    }
   ],
   "source": [
    "# כמה ישובים מופיעים במערכות בחירות\n",
    "len(set(knesset['סמל ישוב']))\n"
   ]
  },
  {
   "cell_type": "code",
   "execution_count": 24,
   "metadata": {},
   "outputs": [
    {
     "data": {
      "text/plain": [
       "1482"
      ]
     },
     "execution_count": 24,
     "metadata": {},
     "output_type": "execute_result"
    }
   ],
   "source": [
    "# כמה ישובים מופיעים בקובץ ערים\n",
    "len(set(cities['סמל יישוב']))"
   ]
  },
  {
   "cell_type": "code",
   "execution_count": 25,
   "metadata": {},
   "outputs": [
    {
     "data": {
      "text/plain": [
       "1213"
      ]
     },
     "execution_count": 25,
     "metadata": {},
     "output_type": "execute_result"
    }
   ],
   "source": [
    "# קבוצת החיתוך בגודל 1213 מכאן שחסרים שלושה סמלי ישוב\n",
    "len(set(knesset['סמל ישוב']) & set(cities['סמל יישוב']))"
   ]
  },
  {
   "cell_type": "code",
   "execution_count": 26,
   "metadata": {},
   "outputs": [
    {
     "data": {
      "text/plain": [
       "{3400, 9999, 99999}"
      ]
     },
     "execution_count": 26,
     "metadata": {},
     "output_type": "execute_result"
    }
   ],
   "source": [
    "# אלה הם החסרים\n",
    "set(knesset['סמל ישוב']) - set(cities['סמל יישוב'])"
   ]
  },
  {
   "cell_type": "code",
   "execution_count": 27,
   "metadata": {},
   "outputs": [
    {
     "data": {
      "text/html": [
       "<div>\n",
       "<style scoped>\n",
       "    .dataframe tbody tr th:only-of-type {\n",
       "        vertical-align: middle;\n",
       "    }\n",
       "\n",
       "    .dataframe tbody tr th {\n",
       "        vertical-align: top;\n",
       "    }\n",
       "\n",
       "    .dataframe thead th {\n",
       "        text-align: right;\n",
       "    }\n",
       "</style>\n",
       "<table border=\"1\" class=\"dataframe\">\n",
       "  <thead>\n",
       "    <tr style=\"text-align: right;\">\n",
       "      <th></th>\n",
       "      <th>knesset</th>\n",
       "      <th>שם ישוב</th>\n",
       "      <th>סמל ישוב</th>\n",
       "      <th>בזב</th>\n",
       "      <th>מצביעים</th>\n",
       "      <th>פסולים</th>\n",
       "      <th>כשרים</th>\n",
       "      <th>אמת</th>\n",
       "      <th>ג</th>\n",
       "      <th>ודעם</th>\n",
       "      <th>טב</th>\n",
       "      <th>ל</th>\n",
       "      <th>מחל</th>\n",
       "      <th>פה</th>\n",
       "      <th>שס</th>\n",
       "      <th>bloc_right</th>\n",
       "      <th>bloc_center</th>\n",
       "      <th>bloc_left</th>\n",
       "      <th>bloc_rest</th>\n",
       "    </tr>\n",
       "  </thead>\n",
       "  <tbody>\n",
       "    <tr>\n",
       "      <th>1011</th>\n",
       "      <td>21</td>\n",
       "      <td>חברון</td>\n",
       "      <td>3400</td>\n",
       "      <td>285</td>\n",
       "      <td>226</td>\n",
       "      <td>0</td>\n",
       "      <td>226</td>\n",
       "      <td>1</td>\n",
       "      <td>0</td>\n",
       "      <td>0</td>\n",
       "      <td>178</td>\n",
       "      <td>1</td>\n",
       "      <td>18</td>\n",
       "      <td>6</td>\n",
       "      <td>1</td>\n",
       "      <td>197.0</td>\n",
       "      <td>7.0</td>\n",
       "      <td>1.0</td>\n",
       "      <td>21</td>\n",
       "    </tr>\n",
       "    <tr>\n",
       "      <th>1213</th>\n",
       "      <td>21</td>\n",
       "      <td>מעטפות חיצוניות</td>\n",
       "      <td>99999</td>\n",
       "      <td>0</td>\n",
       "      <td>240783</td>\n",
       "      <td>1961</td>\n",
       "      <td>238822</td>\n",
       "      <td>19266</td>\n",
       "      <td>8070</td>\n",
       "      <td>6988</td>\n",
       "      <td>21467</td>\n",
       "      <td>4637</td>\n",
       "      <td>78029</td>\n",
       "      <td>68702</td>\n",
       "      <td>10064</td>\n",
       "      <td>117630.0</td>\n",
       "      <td>73339.0</td>\n",
       "      <td>26254.0</td>\n",
       "      <td>21599</td>\n",
       "    </tr>\n",
       "    <tr>\n",
       "      <th>1011</th>\n",
       "      <td>22</td>\n",
       "      <td>חברון</td>\n",
       "      <td>3400</td>\n",
       "      <td>296</td>\n",
       "      <td>230</td>\n",
       "      <td>0</td>\n",
       "      <td>230</td>\n",
       "      <td>1</td>\n",
       "      <td>3</td>\n",
       "      <td>0</td>\n",
       "      <td>105</td>\n",
       "      <td>1</td>\n",
       "      <td>24</td>\n",
       "      <td>8</td>\n",
       "      <td>1</td>\n",
       "      <td>133.0</td>\n",
       "      <td>9.0</td>\n",
       "      <td>1.0</td>\n",
       "      <td>87</td>\n",
       "    </tr>\n",
       "    <tr>\n",
       "      <th>1213</th>\n",
       "      <td>22</td>\n",
       "      <td>מעטפות חיצוניות</td>\n",
       "      <td>9999</td>\n",
       "      <td>0</td>\n",
       "      <td>282442</td>\n",
       "      <td>2226</td>\n",
       "      <td>280216</td>\n",
       "      <td>27072</td>\n",
       "      <td>11649</td>\n",
       "      <td>11974</td>\n",
       "      <td>24810</td>\n",
       "      <td>14019</td>\n",
       "      <td>77953</td>\n",
       "      <td>84654</td>\n",
       "      <td>17598</td>\n",
       "      <td>132010.0</td>\n",
       "      <td>98673.0</td>\n",
       "      <td>39046.0</td>\n",
       "      <td>10487</td>\n",
       "    </tr>\n",
       "    <tr>\n",
       "      <th>385</th>\n",
       "      <td>23</td>\n",
       "      <td>חברון</td>\n",
       "      <td>3400</td>\n",
       "      <td>297</td>\n",
       "      <td>216</td>\n",
       "      <td>1</td>\n",
       "      <td>215</td>\n",
       "      <td>0</td>\n",
       "      <td>21</td>\n",
       "      <td>0</td>\n",
       "      <td>98</td>\n",
       "      <td>1</td>\n",
       "      <td>45</td>\n",
       "      <td>2</td>\n",
       "      <td>7</td>\n",
       "      <td>171.0</td>\n",
       "      <td>3.0</td>\n",
       "      <td>0.0</td>\n",
       "      <td>41</td>\n",
       "    </tr>\n",
       "    <tr>\n",
       "      <th>712</th>\n",
       "      <td>23</td>\n",
       "      <td>מעטפות חיצוניות</td>\n",
       "      <td>9999</td>\n",
       "      <td>0</td>\n",
       "      <td>330209</td>\n",
       "      <td>2507</td>\n",
       "      <td>327702</td>\n",
       "      <td>24137</td>\n",
       "      <td>13387</td>\n",
       "      <td>18077</td>\n",
       "      <td>27357</td>\n",
       "      <td>12815</td>\n",
       "      <td>107049</td>\n",
       "      <td>97828</td>\n",
       "      <td>23264</td>\n",
       "      <td>171057.0</td>\n",
       "      <td>110643.0</td>\n",
       "      <td>42214.0</td>\n",
       "      <td>3788</td>\n",
       "    </tr>\n",
       "  </tbody>\n",
       "</table>\n",
       "</div>"
      ],
      "text/plain": [
       "     knesset          שם ישוב סמל ישוב  בזב מצביעים פסולים   כשרים    אמת  \\\n",
       "1011      21            חברון     3400  285     226      0     226      1   \n",
       "1213      21  מעטפות חיצוניות    99999    0  240783   1961  238822  19266   \n",
       "1011      22            חברון     3400  296     230      0     230      1   \n",
       "1213      22  מעטפות חיצוניות     9999    0  282442   2226  280216  27072   \n",
       "385       23            חברון     3400  297     216      1     215      0   \n",
       "712       23  מעטפות חיצוניות     9999    0  330209   2507  327702  24137   \n",
       "\n",
       "          ג   ודעם     טב      ל     מחל     פה     שס  bloc_right  \\\n",
       "1011      0      0    178      1      18      6      1       197.0   \n",
       "1213   8070   6988  21467   4637   78029  68702  10064    117630.0   \n",
       "1011      3      0    105      1      24      8      1       133.0   \n",
       "1213  11649  11974  24810  14019   77953  84654  17598    132010.0   \n",
       "385      21      0     98      1      45      2      7       171.0   \n",
       "712   13387  18077  27357  12815  107049  97828  23264    171057.0   \n",
       "\n",
       "      bloc_center  bloc_left bloc_rest  \n",
       "1011          7.0        1.0        21  \n",
       "1213      73339.0    26254.0     21599  \n",
       "1011          9.0        1.0        87  \n",
       "1213      98673.0    39046.0     10487  \n",
       "385           3.0        0.0        41  \n",
       "712      110643.0    42214.0      3788  "
      ]
     },
     "execution_count": 27,
     "metadata": {},
     "output_type": "execute_result"
    }
   ],
   "source": [
    "#עכשיו נבדוק מה הם מייצגים \n",
    "\n",
    "problems = knesset['סמל ישוב'].apply(lambda x: x in [3400, 9999, 99999])\n",
    "knesset[problems]"
   ]
  },
  {
   "cell_type": "markdown",
   "metadata": {},
   "source": [
    "### תוצאות ניתוח ההפרשים ב'סמל ישוב' בין הקבצים\n",
    "\n",
    "אנחנו רואים שלחברון אין קוד ישוב רלוונטי ברשימת הערים. זה יישוב קטן ולכן נוותר עליו\n",
    "\n",
    "המעטפות החיצוניות הם ללא נתון בעלי זכות בחירה ולכן בכל מקרה לא ניתן לעשות עליהם ניתוח\n",
    "\n",
    "מכאן שכשנעשה איחוד של הנתונים, שש השורות האלו ייוסרו מהטבלה\n",
    "\n",
    "אנחנו מוכנים לוותר על האינפורמציה הזו. לחילופין צריך לחפש את חברון בקובץ הערים למקרה שהיא קיימת עם קוד אחר"
   ]
  },
  {
   "cell_type": "code",
   "execution_count": 100,
   "metadata": {},
   "outputs": [],
   "source": [
    "# אלו העמודות מקובץ הערים שנשתמש בהמשך, כל השאר נזרוק\n",
    "required_cols = ['שם יישוב', 'סמל יישוב', 'מחוז', 'נפה',\n",
    "       'מעמד מונציפאלי', 'דת יישוב',\n",
    "       'סך הכל אוכלוסייה 2018', 'מזה: יהודים', 'ערבים',\n",
    "       'אזור טבעי', 'שם יישוב באנגלית',\n",
    "    'צורת יישוב שוטפת']"
   ]
  },
  {
   "cell_type": "markdown",
   "metadata": {},
   "source": [
    "### joining the cities and the knesset poll results"
   ]
  },
  {
   "cell_type": "code",
   "execution_count": 101,
   "metadata": {},
   "outputs": [],
   "source": [
    "cj= cities[required_cols].copy()\n",
    "knesset_cities = pd.merge(left = knesset,\n",
    "                          right= cj,\n",
    "                          left_on = 'סמל ישוב',\n",
    "                          right_on = 'סמל יישוב',\n",
    "                         how='inner')\n"
   ]
  },
  {
   "cell_type": "code",
   "execution_count": 102,
   "metadata": {},
   "outputs": [
    {
     "data": {
      "text/plain": [
       "Index(['knesset', 'שם ישוב', 'סמל ישוב', 'בזב', 'מצביעים', 'פסולים', 'כשרים',\n",
       "       'אמת', 'ג', 'ודעם', 'טב', 'ל', 'מחל', 'פה', 'שס', 'bloc_right',\n",
       "       'bloc_center', 'bloc_left', 'bloc_rest', 'שם יישוב', 'סמל יישוב',\n",
       "       'מחוז', 'נפה', 'מעמד מונציפאלי', 'דת יישוב', 'סך הכל אוכלוסייה 2018',\n",
       "       'מזה: יהודים', 'ערבים', 'אזור טבעי', 'שם יישוב באנגלית',\n",
       "       'צורת יישוב שוטפת'],\n",
       "      dtype='object')"
      ]
     },
     "execution_count": 102,
     "metadata": {},
     "output_type": "execute_result"
    }
   ],
   "source": [
    "# בדיקה שיש את העמודות כמו שציפינו\n",
    "knesset_cities.columns"
   ]
  },
  {
   "cell_type": "code",
   "execution_count": 31,
   "metadata": {},
   "outputs": [
    {
     "data": {
      "text/html": [
       "<div>\n",
       "<style scoped>\n",
       "    .dataframe tbody tr th:only-of-type {\n",
       "        vertical-align: middle;\n",
       "    }\n",
       "\n",
       "    .dataframe tbody tr th {\n",
       "        vertical-align: top;\n",
       "    }\n",
       "\n",
       "    .dataframe thead th {\n",
       "        text-align: right;\n",
       "    }\n",
       "</style>\n",
       "<table border=\"1\" class=\"dataframe\">\n",
       "  <thead>\n",
       "    <tr style=\"text-align: right;\">\n",
       "      <th></th>\n",
       "      <th>0</th>\n",
       "      <th>1</th>\n",
       "      <th>2</th>\n",
       "      <th>3</th>\n",
       "      <th>4</th>\n",
       "    </tr>\n",
       "  </thead>\n",
       "  <tbody>\n",
       "    <tr>\n",
       "      <th>knesset</th>\n",
       "      <td>21</td>\n",
       "      <td>22</td>\n",
       "      <td>23</td>\n",
       "      <td>21</td>\n",
       "      <td>22</td>\n",
       "    </tr>\n",
       "    <tr>\n",
       "      <th>שם ישוב</th>\n",
       "      <td>שחר</td>\n",
       "      <td>שחר</td>\n",
       "      <td>שחר</td>\n",
       "      <td>תירוש</td>\n",
       "      <td>תירוש</td>\n",
       "    </tr>\n",
       "    <tr>\n",
       "      <th>סמל ישוב</th>\n",
       "      <td>7</td>\n",
       "      <td>7</td>\n",
       "      <td>7</td>\n",
       "      <td>10</td>\n",
       "      <td>10</td>\n",
       "    </tr>\n",
       "    <tr>\n",
       "      <th>בזב</th>\n",
       "      <td>516</td>\n",
       "      <td>517</td>\n",
       "      <td>521</td>\n",
       "      <td>333</td>\n",
       "      <td>332</td>\n",
       "    </tr>\n",
       "    <tr>\n",
       "      <th>מצביעים</th>\n",
       "      <td>371</td>\n",
       "      <td>377</td>\n",
       "      <td>387</td>\n",
       "      <td>237</td>\n",
       "      <td>245</td>\n",
       "    </tr>\n",
       "    <tr>\n",
       "      <th>פסולים</th>\n",
       "      <td>0</td>\n",
       "      <td>0</td>\n",
       "      <td>0</td>\n",
       "      <td>2</td>\n",
       "      <td>0</td>\n",
       "    </tr>\n",
       "    <tr>\n",
       "      <th>כשרים</th>\n",
       "      <td>371</td>\n",
       "      <td>377</td>\n",
       "      <td>387</td>\n",
       "      <td>235</td>\n",
       "      <td>245</td>\n",
       "    </tr>\n",
       "    <tr>\n",
       "      <th>אמת</th>\n",
       "      <td>26</td>\n",
       "      <td>44</td>\n",
       "      <td>21</td>\n",
       "      <td>5</td>\n",
       "      <td>2</td>\n",
       "    </tr>\n",
       "    <tr>\n",
       "      <th>ג</th>\n",
       "      <td>2</td>\n",
       "      <td>8</td>\n",
       "      <td>6</td>\n",
       "      <td>3</td>\n",
       "      <td>4</td>\n",
       "    </tr>\n",
       "    <tr>\n",
       "      <th>ודעם</th>\n",
       "      <td>0</td>\n",
       "      <td>0</td>\n",
       "      <td>0</td>\n",
       "      <td>0</td>\n",
       "      <td>0</td>\n",
       "    </tr>\n",
       "    <tr>\n",
       "      <th>טב</th>\n",
       "      <td>26</td>\n",
       "      <td>28</td>\n",
       "      <td>15</td>\n",
       "      <td>14</td>\n",
       "      <td>11</td>\n",
       "    </tr>\n",
       "    <tr>\n",
       "      <th>ל</th>\n",
       "      <td>5</td>\n",
       "      <td>11</td>\n",
       "      <td>11</td>\n",
       "      <td>0</td>\n",
       "      <td>0</td>\n",
       "    </tr>\n",
       "    <tr>\n",
       "      <th>מחל</th>\n",
       "      <td>162</td>\n",
       "      <td>128</td>\n",
       "      <td>175</td>\n",
       "      <td>133</td>\n",
       "      <td>93</td>\n",
       "    </tr>\n",
       "    <tr>\n",
       "      <th>פה</th>\n",
       "      <td>99</td>\n",
       "      <td>98</td>\n",
       "      <td>108</td>\n",
       "      <td>5</td>\n",
       "      <td>6</td>\n",
       "    </tr>\n",
       "    <tr>\n",
       "      <th>שס</th>\n",
       "      <td>33</td>\n",
       "      <td>39</td>\n",
       "      <td>48</td>\n",
       "      <td>73</td>\n",
       "      <td>104</td>\n",
       "    </tr>\n",
       "    <tr>\n",
       "      <th>bloc_right</th>\n",
       "      <td>223</td>\n",
       "      <td>203</td>\n",
       "      <td>244</td>\n",
       "      <td>223</td>\n",
       "      <td>212</td>\n",
       "    </tr>\n",
       "    <tr>\n",
       "      <th>bloc_center</th>\n",
       "      <td>104</td>\n",
       "      <td>109</td>\n",
       "      <td>119</td>\n",
       "      <td>5</td>\n",
       "      <td>6</td>\n",
       "    </tr>\n",
       "    <tr>\n",
       "      <th>bloc_left</th>\n",
       "      <td>26</td>\n",
       "      <td>44</td>\n",
       "      <td>21</td>\n",
       "      <td>5</td>\n",
       "      <td>2</td>\n",
       "    </tr>\n",
       "    <tr>\n",
       "      <th>bloc_rest</th>\n",
       "      <td>18</td>\n",
       "      <td>21</td>\n",
       "      <td>3</td>\n",
       "      <td>2</td>\n",
       "      <td>25</td>\n",
       "    </tr>\n",
       "    <tr>\n",
       "      <th>שם יישוב</th>\n",
       "      <td>שחר</td>\n",
       "      <td>שחר</td>\n",
       "      <td>שחר</td>\n",
       "      <td>תירוש</td>\n",
       "      <td>תירוש</td>\n",
       "    </tr>\n",
       "    <tr>\n",
       "      <th>סמל יישוב</th>\n",
       "      <td>7</td>\n",
       "      <td>7</td>\n",
       "      <td>7</td>\n",
       "      <td>10</td>\n",
       "      <td>10</td>\n",
       "    </tr>\n",
       "    <tr>\n",
       "      <th>מחוז</th>\n",
       "      <td>6</td>\n",
       "      <td>6</td>\n",
       "      <td>6</td>\n",
       "      <td>1</td>\n",
       "      <td>1</td>\n",
       "    </tr>\n",
       "    <tr>\n",
       "      <th>נפה</th>\n",
       "      <td>61</td>\n",
       "      <td>61</td>\n",
       "      <td>61</td>\n",
       "      <td>11</td>\n",
       "      <td>11</td>\n",
       "    </tr>\n",
       "    <tr>\n",
       "      <th>מעמד מונציפאלי</th>\n",
       "      <td>50</td>\n",
       "      <td>50</td>\n",
       "      <td>50</td>\n",
       "      <td>26</td>\n",
       "      <td>26</td>\n",
       "    </tr>\n",
       "    <tr>\n",
       "      <th>דת יישוב</th>\n",
       "      <td>1</td>\n",
       "      <td>1</td>\n",
       "      <td>1</td>\n",
       "      <td>1</td>\n",
       "      <td>1</td>\n",
       "    </tr>\n",
       "    <tr>\n",
       "      <th>סך הכל אוכלוסייה 2018</th>\n",
       "      <td>875</td>\n",
       "      <td>875</td>\n",
       "      <td>875</td>\n",
       "      <td>501</td>\n",
       "      <td>501</td>\n",
       "    </tr>\n",
       "    <tr>\n",
       "      <th>מזה: יהודים</th>\n",
       "      <td>866</td>\n",
       "      <td>866</td>\n",
       "      <td>866</td>\n",
       "      <td>500</td>\n",
       "      <td>500</td>\n",
       "    </tr>\n",
       "    <tr>\n",
       "      <th>ערבים</th>\n",
       "      <td>NaN</td>\n",
       "      <td>NaN</td>\n",
       "      <td>NaN</td>\n",
       "      <td>NaN</td>\n",
       "      <td>NaN</td>\n",
       "    </tr>\n",
       "    <tr>\n",
       "      <th>צורת יישוב שוטפת</th>\n",
       "      <td>310</td>\n",
       "      <td>310</td>\n",
       "      <td>310</td>\n",
       "      <td>310</td>\n",
       "      <td>310</td>\n",
       "    </tr>\n",
       "    <tr>\n",
       "      <th>שם יישוב באנגלית</th>\n",
       "      <td>Shahar</td>\n",
       "      <td>Shahar</td>\n",
       "      <td>Shahar</td>\n",
       "      <td>Tirosh</td>\n",
       "      <td>Tirosh</td>\n",
       "    </tr>\n",
       "  </tbody>\n",
       "</table>\n",
       "</div>"
      ],
      "text/plain": [
       "                            0       1       2       3       4\n",
       "knesset                    21      22      23      21      22\n",
       "שם ישוב                   שחר     שחר     שחר   תירוש   תירוש\n",
       "סמל ישוב                    7       7       7      10      10\n",
       "בזב                       516     517     521     333     332\n",
       "מצביעים                   371     377     387     237     245\n",
       "פסולים                      0       0       0       2       0\n",
       "כשרים                     371     377     387     235     245\n",
       "אמת                        26      44      21       5       2\n",
       "ג                           2       8       6       3       4\n",
       "ודעם                        0       0       0       0       0\n",
       "טב                         26      28      15      14      11\n",
       "ל                           5      11      11       0       0\n",
       "מחל                       162     128     175     133      93\n",
       "פה                         99      98     108       5       6\n",
       "שס                         33      39      48      73     104\n",
       "bloc_right                223     203     244     223     212\n",
       "bloc_center               104     109     119       5       6\n",
       "bloc_left                  26      44      21       5       2\n",
       "bloc_rest                  18      21       3       2      25\n",
       "שם יישוב                  שחר     שחר     שחר   תירוש   תירוש\n",
       "סמל יישוב                   7       7       7      10      10\n",
       "מחוז                        6       6       6       1       1\n",
       "נפה                        61      61      61      11      11\n",
       "מעמד מונציפאלי             50      50      50      26      26\n",
       "דת יישוב                    1       1       1       1       1\n",
       "סך הכל אוכלוסייה 2018     875     875     875     501     501\n",
       "מזה: יהודים               866     866     866     500     500\n",
       "ערבים                     NaN     NaN     NaN     NaN     NaN\n",
       "צורת יישוב שוטפת          310     310     310     310     310\n",
       "שם יישוב באנגלית       Shahar  Shahar  Shahar  Tirosh  Tirosh"
      ]
     },
     "execution_count": 31,
     "metadata": {},
     "output_type": "execute_result"
    }
   ],
   "source": [
    "knesset_cities.head().T"
   ]
  },
  {
   "cell_type": "code",
   "execution_count": 32,
   "metadata": {},
   "outputs": [
    {
     "data": {
      "text/plain": [
       "(3636, 3642)"
      ]
     },
     "execution_count": 32,
     "metadata": {},
     "output_type": "execute_result"
    }
   ],
   "source": [
    "# התוצאה הזו מראה שאכן נפלו 6 שורות כמו שציפינו\n",
    "len(knesset_cities),len(knesset)"
   ]
  },
  {
   "cell_type": "markdown",
   "metadata": {},
   "source": [
    "# סעיף 4\n",
    "\n",
    "### Random Forest\n",
    "נרצה לחזות את כמות הקולות הכשרים של יישוב ביחס לבעלי_זכות_בחירה.\n",
    "נשתמש בתכונות הבאות של יישוב:\n",
    "- אחוז יהודים\n",
    "- צורת ישוב שוטפת\n",
    "- מעמד מוניציפאלי\n",
    "- מחוז\n"
   ]
  },
  {
   "cell_type": "code",
   "execution_count": 33,
   "metadata": {},
   "outputs": [
    {
     "data": {
      "image/png": "[encoded data removed]",
      "text/plain": [
       "<Figure size 432x288 with 1 Axes>"
      ]
     },
     "metadata": {
      "needs_background": "light"
     },
     "output_type": "display_data"
    }
   ],
   "source": [
    "percent_kosher = knesset_cities['כשרים'].values / knesset_cities['בזב'].values\n",
    "percent_jewish = knesset_cities['מזה: יהודים'].fillna(0).values / knesset_cities['סך הכל אוכלוסייה 2018'].fillna(1).values\n",
    "\n",
    "plt.hist(percent_kosher,bins=20);"
   ]
  },
  {
   "cell_type": "code",
   "execution_count": 34,
   "metadata": {},
   "outputs": [
    {
     "data": {
      "image/png": "[encoded data removed]",
      "text/plain": [
       "<Figure size 432x288 with 1 Axes>"
      ]
     },
     "metadata": {
      "needs_background": "light"
     },
     "output_type": "display_data"
    }
   ],
   "source": [
    "plt.hist(percent_jewish,bins=20);"
   ]
  },
  {
   "cell_type": "markdown",
   "metadata": {},
   "source": [
    "### One Hot encoder\n",
    "זה אומר למפות כל ערך של משתנה קטגורי לעמודה אחרת.\n",
    "\n",
    "בכל שורה יהיה 1 רק במקום המתאים לערך של הקטגוריה שהיה באותה שורה\n",
    "\n",
    " OneHotEncoder \n",
    " לשימחתנו יש אובייקט שמבצע את זה באופן אוטומטי"
   ]
  },
  {
   "cell_type": "code",
   "execution_count": 35,
   "metadata": {},
   "outputs": [
    {
     "name": "stdout",
     "output_type": "stream",
     "text": [
      "(3636, 88)\n"
     ]
    }
   ],
   "source": [
    "categorical_cols_for_rf = ['צורת יישוב שוטפת', 'מעמד מונציפאלי', 'מחוז']\n",
    "\n",
    "categorical_onehot = OneHotEncoder(sparse=False).fit_transform(knesset_cities[categorical_cols_for_rf].fillna(0))\n",
    "print(categorical_onehot.shape)\n"
   ]
  },
  {
   "cell_type": "code",
   "execution_count": 36,
   "metadata": {},
   "outputs": [
    {
     "data": {
      "text/html": [
       "<div>\n",
       "<style scoped>\n",
       "    .dataframe tbody tr th:only-of-type {\n",
       "        vertical-align: middle;\n",
       "    }\n",
       "\n",
       "    .dataframe tbody tr th {\n",
       "        vertical-align: top;\n",
       "    }\n",
       "\n",
       "    .dataframe thead th {\n",
       "        text-align: right;\n",
       "    }\n",
       "</style>\n",
       "<table border=\"1\" class=\"dataframe\">\n",
       "  <thead>\n",
       "    <tr style=\"text-align: right;\">\n",
       "      <th></th>\n",
       "      <th>knesset</th>\n",
       "      <th>שם ישוב</th>\n",
       "      <th>סמל ישוב</th>\n",
       "      <th>בזב</th>\n",
       "      <th>מצביעים</th>\n",
       "      <th>פסולים</th>\n",
       "      <th>כשרים</th>\n",
       "      <th>אמת</th>\n",
       "      <th>ג</th>\n",
       "      <th>ודעם</th>\n",
       "      <th>...</th>\n",
       "      <th>סמל יישוב</th>\n",
       "      <th>מחוז</th>\n",
       "      <th>נפה</th>\n",
       "      <th>מעמד מונציפאלי</th>\n",
       "      <th>דת יישוב</th>\n",
       "      <th>סך הכל אוכלוסייה 2018</th>\n",
       "      <th>מזה: יהודים</th>\n",
       "      <th>ערבים</th>\n",
       "      <th>צורת יישוב שוטפת</th>\n",
       "      <th>שם יישוב באנגלית</th>\n",
       "    </tr>\n",
       "  </thead>\n",
       "  <tbody>\n",
       "  </tbody>\n",
       "</table>\n",
       "<p>0 rows × 30 columns</p>\n",
       "</div>"
      ],
      "text/plain": [
       "Empty DataFrame\n",
       "Columns: [knesset, שם ישוב, סמל ישוב, בזב, מצביעים, פסולים, כשרים, אמת, ג, ודעם, טב, ל, מחל, פה, שס, bloc_right, bloc_center, bloc_left, bloc_rest, שם יישוב, סמל יישוב, מחוז, נפה, מעמד מונציפאלי, דת יישוב, סך הכל אוכלוסייה 2018, מזה: יהודים, ערבים, צורת יישוב שוטפת, שם יישוב באנגלית]\n",
       "Index: []\n",
       "\n",
       "[0 rows x 30 columns]"
      ]
     },
     "execution_count": 36,
     "metadata": {},
     "output_type": "execute_result"
    }
   ],
   "source": [
    "# יש ישובים בלי נתוני אוכלוסיה\n",
    "# כדי למנוע nan\n",
    "# הכנסתי בהם ערך של 1\n",
    "\n",
    "knesset_cities[np.isnan(percent_jewish)]"
   ]
  },
  {
   "cell_type": "code",
   "execution_count": 37,
   "metadata": {},
   "outputs": [],
   "source": [
    "# הוצאת היישובים שהם test מהדאטה\n",
    "# חלוקה אקראית של רשימת הישובים הנותרים לtrain, validation"
   ]
  },
  {
   "cell_type": "code",
   "execution_count": 38,
   "metadata": {},
   "outputs": [
    {
     "data": {
      "text/html": [
       "<div>\n",
       "<style scoped>\n",
       "    .dataframe tbody tr th:only-of-type {\n",
       "        vertical-align: middle;\n",
       "    }\n",
       "\n",
       "    .dataframe tbody tr th {\n",
       "        vertical-align: top;\n",
       "    }\n",
       "\n",
       "    .dataframe thead th {\n",
       "        text-align: right;\n",
       "    }\n",
       "</style>\n",
       "<table border=\"1\" class=\"dataframe\">\n",
       "  <thead>\n",
       "    <tr style=\"text-align: right;\">\n",
       "      <th></th>\n",
       "      <th>knesset</th>\n",
       "      <th>שם ישוב</th>\n",
       "      <th>סמל ישוב</th>\n",
       "      <th>בזב</th>\n",
       "      <th>מצביעים</th>\n",
       "      <th>פסולים</th>\n",
       "      <th>כשרים</th>\n",
       "      <th>אמת</th>\n",
       "      <th>ג</th>\n",
       "      <th>ודעם</th>\n",
       "      <th>...</th>\n",
       "      <th>מחוז</th>\n",
       "      <th>נפה</th>\n",
       "      <th>מעמד מונציפאלי</th>\n",
       "      <th>דת יישוב</th>\n",
       "      <th>סך הכל אוכלוסייה 2018</th>\n",
       "      <th>מזה: יהודים</th>\n",
       "      <th>ערבים</th>\n",
       "      <th>צורת יישוב שוטפת</th>\n",
       "      <th>שם יישוב באנגלית</th>\n",
       "      <th>town_set</th>\n",
       "    </tr>\n",
       "  </thead>\n",
       "  <tbody>\n",
       "    <tr>\n",
       "      <th>141</th>\n",
       "      <td>21</td>\n",
       "      <td>איילת השחר</td>\n",
       "      <td>77</td>\n",
       "      <td>812</td>\n",
       "      <td>595</td>\n",
       "      <td>1</td>\n",
       "      <td>594</td>\n",
       "      <td>174</td>\n",
       "      <td>3</td>\n",
       "      <td>0</td>\n",
       "      <td>...</td>\n",
       "      <td>2</td>\n",
       "      <td>21</td>\n",
       "      <td>1.0</td>\n",
       "      <td>1.0</td>\n",
       "      <td>1134.0</td>\n",
       "      <td>1082.0</td>\n",
       "      <td>NaN</td>\n",
       "      <td>330</td>\n",
       "      <td>Ayyelet HaShahar</td>\n",
       "      <td>test</td>\n",
       "    </tr>\n",
       "    <tr>\n",
       "      <th>142</th>\n",
       "      <td>22</td>\n",
       "      <td>איילת השחר</td>\n",
       "      <td>77</td>\n",
       "      <td>814</td>\n",
       "      <td>567</td>\n",
       "      <td>1</td>\n",
       "      <td>566</td>\n",
       "      <td>183</td>\n",
       "      <td>3</td>\n",
       "      <td>0</td>\n",
       "      <td>...</td>\n",
       "      <td>2</td>\n",
       "      <td>21</td>\n",
       "      <td>1.0</td>\n",
       "      <td>1.0</td>\n",
       "      <td>1134.0</td>\n",
       "      <td>1082.0</td>\n",
       "      <td>NaN</td>\n",
       "      <td>330</td>\n",
       "      <td>Ayyelet HaShahar</td>\n",
       "      <td>test</td>\n",
       "    </tr>\n",
       "    <tr>\n",
       "      <th>143</th>\n",
       "      <td>23</td>\n",
       "      <td>איילת השחר</td>\n",
       "      <td>77</td>\n",
       "      <td>818</td>\n",
       "      <td>587</td>\n",
       "      <td>2</td>\n",
       "      <td>585</td>\n",
       "      <td>124</td>\n",
       "      <td>2</td>\n",
       "      <td>2</td>\n",
       "      <td>...</td>\n",
       "      <td>2</td>\n",
       "      <td>21</td>\n",
       "      <td>1.0</td>\n",
       "      <td>1.0</td>\n",
       "      <td>1134.0</td>\n",
       "      <td>1082.0</td>\n",
       "      <td>NaN</td>\n",
       "      <td>330</td>\n",
       "      <td>Ayyelet HaShahar</td>\n",
       "      <td>test</td>\n",
       "    </tr>\n",
       "    <tr>\n",
       "      <th>2997</th>\n",
       "      <td>21</td>\n",
       "      <td>אילת</td>\n",
       "      <td>2600</td>\n",
       "      <td>50304</td>\n",
       "      <td>22851</td>\n",
       "      <td>168</td>\n",
       "      <td>22683</td>\n",
       "      <td>1078</td>\n",
       "      <td>103</td>\n",
       "      <td>114</td>\n",
       "      <td>...</td>\n",
       "      <td>6</td>\n",
       "      <td>62</td>\n",
       "      <td>0.0</td>\n",
       "      <td>1.0</td>\n",
       "      <td>51935.0</td>\n",
       "      <td>41906.0</td>\n",
       "      <td>2260.0</td>\n",
       "      <td>150</td>\n",
       "      <td>Elat</td>\n",
       "      <td>test</td>\n",
       "    </tr>\n",
       "    <tr>\n",
       "      <th>2998</th>\n",
       "      <td>22</td>\n",
       "      <td>אילת</td>\n",
       "      <td>2600</td>\n",
       "      <td>50539</td>\n",
       "      <td>22840</td>\n",
       "      <td>125</td>\n",
       "      <td>22715</td>\n",
       "      <td>1452</td>\n",
       "      <td>280</td>\n",
       "      <td>176</td>\n",
       "      <td>...</td>\n",
       "      <td>6</td>\n",
       "      <td>62</td>\n",
       "      <td>0.0</td>\n",
       "      <td>1.0</td>\n",
       "      <td>51935.0</td>\n",
       "      <td>41906.0</td>\n",
       "      <td>2260.0</td>\n",
       "      <td>150</td>\n",
       "      <td>Elat</td>\n",
       "      <td>test</td>\n",
       "    </tr>\n",
       "    <tr>\n",
       "      <th>2999</th>\n",
       "      <td>23</td>\n",
       "      <td>אילת</td>\n",
       "      <td>2600</td>\n",
       "      <td>50714</td>\n",
       "      <td>22754</td>\n",
       "      <td>118</td>\n",
       "      <td>22636</td>\n",
       "      <td>851</td>\n",
       "      <td>185</td>\n",
       "      <td>237</td>\n",
       "      <td>...</td>\n",
       "      <td>6</td>\n",
       "      <td>62</td>\n",
       "      <td>0.0</td>\n",
       "      <td>1.0</td>\n",
       "      <td>51935.0</td>\n",
       "      <td>41906.0</td>\n",
       "      <td>2260.0</td>\n",
       "      <td>150</td>\n",
       "      <td>Elat</td>\n",
       "      <td>test</td>\n",
       "    </tr>\n",
       "    <tr>\n",
       "      <th>3403</th>\n",
       "      <td>21</td>\n",
       "      <td>חיפה</td>\n",
       "      <td>4000</td>\n",
       "      <td>247866</td>\n",
       "      <td>145606</td>\n",
       "      <td>1028</td>\n",
       "      <td>144578</td>\n",
       "      <td>14919</td>\n",
       "      <td>5210</td>\n",
       "      <td>8783</td>\n",
       "      <td>...</td>\n",
       "      <td>3</td>\n",
       "      <td>31</td>\n",
       "      <td>0.0</td>\n",
       "      <td>4.0</td>\n",
       "      <td>283640.0</td>\n",
       "      <td>217360.0</td>\n",
       "      <td>32697.0</td>\n",
       "      <td>130</td>\n",
       "      <td>Haifa</td>\n",
       "      <td>test</td>\n",
       "    </tr>\n",
       "    <tr>\n",
       "      <th>3404</th>\n",
       "      <td>22</td>\n",
       "      <td>חיפה</td>\n",
       "      <td>4000</td>\n",
       "      <td>248570</td>\n",
       "      <td>144888</td>\n",
       "      <td>846</td>\n",
       "      <td>144042</td>\n",
       "      <td>15760</td>\n",
       "      <td>5629</td>\n",
       "      <td>12697</td>\n",
       "      <td>...</td>\n",
       "      <td>3</td>\n",
       "      <td>31</td>\n",
       "      <td>0.0</td>\n",
       "      <td>4.0</td>\n",
       "      <td>283640.0</td>\n",
       "      <td>217360.0</td>\n",
       "      <td>32697.0</td>\n",
       "      <td>130</td>\n",
       "      <td>Haifa</td>\n",
       "      <td>test</td>\n",
       "    </tr>\n",
       "    <tr>\n",
       "      <th>3405</th>\n",
       "      <td>23</td>\n",
       "      <td>חיפה</td>\n",
       "      <td>4000</td>\n",
       "      <td>249627</td>\n",
       "      <td>145488</td>\n",
       "      <td>863</td>\n",
       "      <td>144625</td>\n",
       "      <td>10395</td>\n",
       "      <td>5604</td>\n",
       "      <td>14915</td>\n",
       "      <td>...</td>\n",
       "      <td>3</td>\n",
       "      <td>31</td>\n",
       "      <td>0.0</td>\n",
       "      <td>4.0</td>\n",
       "      <td>283640.0</td>\n",
       "      <td>217360.0</td>\n",
       "      <td>32697.0</td>\n",
       "      <td>130</td>\n",
       "      <td>Haifa</td>\n",
       "      <td>test</td>\n",
       "    </tr>\n",
       "    <tr>\n",
       "      <th>3475</th>\n",
       "      <td>21</td>\n",
       "      <td>קצרין</td>\n",
       "      <td>4100</td>\n",
       "      <td>6040</td>\n",
       "      <td>3565</td>\n",
       "      <td>38</td>\n",
       "      <td>3527</td>\n",
       "      <td>142</td>\n",
       "      <td>7</td>\n",
       "      <td>1</td>\n",
       "      <td>...</td>\n",
       "      <td>2</td>\n",
       "      <td>29</td>\n",
       "      <td>99.0</td>\n",
       "      <td>1.0</td>\n",
       "      <td>7132.0</td>\n",
       "      <td>5791.0</td>\n",
       "      <td>79.0</td>\n",
       "      <td>180</td>\n",
       "      <td>Qazrin</td>\n",
       "      <td>test</td>\n",
       "    </tr>\n",
       "    <tr>\n",
       "      <th>3476</th>\n",
       "      <td>22</td>\n",
       "      <td>קצרין</td>\n",
       "      <td>4100</td>\n",
       "      <td>6052</td>\n",
       "      <td>3468</td>\n",
       "      <td>28</td>\n",
       "      <td>3440</td>\n",
       "      <td>186</td>\n",
       "      <td>27</td>\n",
       "      <td>1</td>\n",
       "      <td>...</td>\n",
       "      <td>2</td>\n",
       "      <td>29</td>\n",
       "      <td>99.0</td>\n",
       "      <td>1.0</td>\n",
       "      <td>7132.0</td>\n",
       "      <td>5791.0</td>\n",
       "      <td>79.0</td>\n",
       "      <td>180</td>\n",
       "      <td>Qazrin</td>\n",
       "      <td>test</td>\n",
       "    </tr>\n",
       "    <tr>\n",
       "      <th>3477</th>\n",
       "      <td>23</td>\n",
       "      <td>קצרין</td>\n",
       "      <td>4100</td>\n",
       "      <td>6175</td>\n",
       "      <td>3523</td>\n",
       "      <td>25</td>\n",
       "      <td>3498</td>\n",
       "      <td>119</td>\n",
       "      <td>53</td>\n",
       "      <td>7</td>\n",
       "      <td>...</td>\n",
       "      <td>2</td>\n",
       "      <td>29</td>\n",
       "      <td>99.0</td>\n",
       "      <td>1.0</td>\n",
       "      <td>7132.0</td>\n",
       "      <td>5791.0</td>\n",
       "      <td>79.0</td>\n",
       "      <td>180</td>\n",
       "      <td>Qazrin</td>\n",
       "      <td>test</td>\n",
       "    </tr>\n",
       "    <tr>\n",
       "      <th>3565</th>\n",
       "      <td>21</td>\n",
       "      <td>סח'נין</td>\n",
       "      <td>7500</td>\n",
       "      <td>21019</td>\n",
       "      <td>17106</td>\n",
       "      <td>84</td>\n",
       "      <td>17022</td>\n",
       "      <td>496</td>\n",
       "      <td>14</td>\n",
       "      <td>16104</td>\n",
       "      <td>...</td>\n",
       "      <td>2</td>\n",
       "      <td>24</td>\n",
       "      <td>0.0</td>\n",
       "      <td>2.0</td>\n",
       "      <td>31057.0</td>\n",
       "      <td>9.0</td>\n",
       "      <td>31031.0</td>\n",
       "      <td>260</td>\n",
       "      <td>Sakhnin</td>\n",
       "      <td>test</td>\n",
       "    </tr>\n",
       "    <tr>\n",
       "      <th>3566</th>\n",
       "      <td>22</td>\n",
       "      <td>סח'נין</td>\n",
       "      <td>7500</td>\n",
       "      <td>20567</td>\n",
       "      <td>14829</td>\n",
       "      <td>185</td>\n",
       "      <td>14644</td>\n",
       "      <td>667</td>\n",
       "      <td>21</td>\n",
       "      <td>13115</td>\n",
       "      <td>...</td>\n",
       "      <td>2</td>\n",
       "      <td>24</td>\n",
       "      <td>0.0</td>\n",
       "      <td>2.0</td>\n",
       "      <td>31057.0</td>\n",
       "      <td>9.0</td>\n",
       "      <td>31031.0</td>\n",
       "      <td>260</td>\n",
       "      <td>Sakhnin</td>\n",
       "      <td>test</td>\n",
       "    </tr>\n",
       "    <tr>\n",
       "      <th>3567</th>\n",
       "      <td>23</td>\n",
       "      <td>סחנין</td>\n",
       "      <td>7500</td>\n",
       "      <td>21624</td>\n",
       "      <td>17136</td>\n",
       "      <td>51</td>\n",
       "      <td>17085</td>\n",
       "      <td>257</td>\n",
       "      <td>9</td>\n",
       "      <td>16610</td>\n",
       "      <td>...</td>\n",
       "      <td>2</td>\n",
       "      <td>24</td>\n",
       "      <td>0.0</td>\n",
       "      <td>2.0</td>\n",
       "      <td>31057.0</td>\n",
       "      <td>9.0</td>\n",
       "      <td>31031.0</td>\n",
       "      <td>260</td>\n",
       "      <td>Sakhnin</td>\n",
       "      <td>test</td>\n",
       "    </tr>\n",
       "  </tbody>\n",
       "</table>\n",
       "<p>15 rows × 31 columns</p>\n",
       "</div>"
      ],
      "text/plain": [
       "     knesset     שם ישוב סמל ישוב     בזב מצביעים פסולים   כשרים    אמת     ג  \\\n",
       "141       21  איילת השחר       77     812     595      1     594    174     3   \n",
       "142       22  איילת השחר       77     814     567      1     566    183     3   \n",
       "143       23  איילת השחר       77     818     587      2     585    124     2   \n",
       "2997      21        אילת     2600   50304   22851    168   22683   1078   103   \n",
       "2998      22        אילת     2600   50539   22840    125   22715   1452   280   \n",
       "2999      23        אילת     2600   50714   22754    118   22636    851   185   \n",
       "3403      21        חיפה     4000  247866  145606   1028  144578  14919  5210   \n",
       "3404      22        חיפה     4000  248570  144888    846  144042  15760  5629   \n",
       "3405      23        חיפה     4000  249627  145488    863  144625  10395  5604   \n",
       "3475      21       קצרין     4100    6040    3565     38    3527    142     7   \n",
       "3476      22       קצרין     4100    6052    3468     28    3440    186    27   \n",
       "3477      23       קצרין     4100    6175    3523     25    3498    119    53   \n",
       "3565      21      סח'נין     7500   21019   17106     84   17022    496    14   \n",
       "3566      22      סח'נין     7500   20567   14829    185   14644    667    21   \n",
       "3567      23       סחנין     7500   21624   17136     51   17085    257     9   \n",
       "\n",
       "       ודעם  ... מחוז נפה מעמד מונציפאלי דת יישוב סך הכל אוכלוסייה 2018  \\\n",
       "141       0  ...    2  21            1.0      1.0                1134.0   \n",
       "142       0  ...    2  21            1.0      1.0                1134.0   \n",
       "143       2  ...    2  21            1.0      1.0                1134.0   \n",
       "2997    114  ...    6  62            0.0      1.0               51935.0   \n",
       "2998    176  ...    6  62            0.0      1.0               51935.0   \n",
       "2999    237  ...    6  62            0.0      1.0               51935.0   \n",
       "3403   8783  ...    3  31            0.0      4.0              283640.0   \n",
       "3404  12697  ...    3  31            0.0      4.0              283640.0   \n",
       "3405  14915  ...    3  31            0.0      4.0              283640.0   \n",
       "3475      1  ...    2  29           99.0      1.0                7132.0   \n",
       "3476      1  ...    2  29           99.0      1.0                7132.0   \n",
       "3477      7  ...    2  29           99.0      1.0                7132.0   \n",
       "3565  16104  ...    2  24            0.0      2.0               31057.0   \n",
       "3566  13115  ...    2  24            0.0      2.0               31057.0   \n",
       "3567  16610  ...    2  24            0.0      2.0               31057.0   \n",
       "\n",
       "      מזה: יהודים    ערבים  צורת יישוב שוטפת  שם יישוב באנגלית town_set  \n",
       "141        1082.0      NaN               330  Ayyelet HaShahar     test  \n",
       "142        1082.0      NaN               330  Ayyelet HaShahar     test  \n",
       "143        1082.0      NaN               330  Ayyelet HaShahar     test  \n",
       "2997      41906.0   2260.0               150              Elat     test  \n",
       "2998      41906.0   2260.0               150              Elat     test  \n",
       "2999      41906.0   2260.0               150              Elat     test  \n",
       "3403     217360.0  32697.0               130             Haifa     test  \n",
       "3404     217360.0  32697.0               130             Haifa     test  \n",
       "3405     217360.0  32697.0               130             Haifa     test  \n",
       "3475       5791.0     79.0               180            Qazrin     test  \n",
       "3476       5791.0     79.0               180            Qazrin     test  \n",
       "3477       5791.0     79.0               180            Qazrin     test  \n",
       "3565          9.0  31031.0               260           Sakhnin     test  \n",
       "3566          9.0  31031.0               260           Sakhnin     test  \n",
       "3567          9.0  31031.0               260           Sakhnin     test  \n",
       "\n",
       "[15 rows x 31 columns]"
      ]
     },
     "metadata": {},
     "output_type": "display_data"
    },
    {
     "data": {
      "text/html": [
       "<div>\n",
       "<style scoped>\n",
       "    .dataframe tbody tr th:only-of-type {\n",
       "        vertical-align: middle;\n",
       "    }\n",
       "\n",
       "    .dataframe tbody tr th {\n",
       "        vertical-align: top;\n",
       "    }\n",
       "\n",
       "    .dataframe thead th {\n",
       "        text-align: right;\n",
       "    }\n",
       "</style>\n",
       "<table border=\"1\" class=\"dataframe\">\n",
       "  <thead>\n",
       "    <tr style=\"text-align: right;\">\n",
       "      <th></th>\n",
       "      <th>knesset</th>\n",
       "      <th>שם ישוב</th>\n",
       "      <th>סמל ישוב</th>\n",
       "      <th>בזב</th>\n",
       "      <th>מצביעים</th>\n",
       "      <th>פסולים</th>\n",
       "      <th>כשרים</th>\n",
       "      <th>אמת</th>\n",
       "      <th>ג</th>\n",
       "      <th>ודעם</th>\n",
       "      <th>...</th>\n",
       "      <th>מחוז</th>\n",
       "      <th>נפה</th>\n",
       "      <th>מעמד מונציפאלי</th>\n",
       "      <th>דת יישוב</th>\n",
       "      <th>סך הכל אוכלוסייה 2018</th>\n",
       "      <th>מזה: יהודים</th>\n",
       "      <th>ערבים</th>\n",
       "      <th>צורת יישוב שוטפת</th>\n",
       "      <th>שם יישוב באנגלית</th>\n",
       "      <th>town_set</th>\n",
       "    </tr>\n",
       "  </thead>\n",
       "  <tbody>\n",
       "    <tr>\n",
       "      <th>0</th>\n",
       "      <td>21</td>\n",
       "      <td>שחר</td>\n",
       "      <td>7</td>\n",
       "      <td>516</td>\n",
       "      <td>371</td>\n",
       "      <td>0</td>\n",
       "      <td>371</td>\n",
       "      <td>26</td>\n",
       "      <td>2</td>\n",
       "      <td>0</td>\n",
       "      <td>...</td>\n",
       "      <td>6</td>\n",
       "      <td>61</td>\n",
       "      <td>50.0</td>\n",
       "      <td>1.0</td>\n",
       "      <td>875.0</td>\n",
       "      <td>866.0</td>\n",
       "      <td>NaN</td>\n",
       "      <td>310</td>\n",
       "      <td>Shahar</td>\n",
       "      <td>valid</td>\n",
       "    </tr>\n",
       "    <tr>\n",
       "      <th>1</th>\n",
       "      <td>22</td>\n",
       "      <td>שחר</td>\n",
       "      <td>7</td>\n",
       "      <td>517</td>\n",
       "      <td>377</td>\n",
       "      <td>0</td>\n",
       "      <td>377</td>\n",
       "      <td>44</td>\n",
       "      <td>8</td>\n",
       "      <td>0</td>\n",
       "      <td>...</td>\n",
       "      <td>6</td>\n",
       "      <td>61</td>\n",
       "      <td>50.0</td>\n",
       "      <td>1.0</td>\n",
       "      <td>875.0</td>\n",
       "      <td>866.0</td>\n",
       "      <td>NaN</td>\n",
       "      <td>310</td>\n",
       "      <td>Shahar</td>\n",
       "      <td>valid</td>\n",
       "    </tr>\n",
       "    <tr>\n",
       "      <th>2</th>\n",
       "      <td>23</td>\n",
       "      <td>שחר</td>\n",
       "      <td>7</td>\n",
       "      <td>521</td>\n",
       "      <td>387</td>\n",
       "      <td>0</td>\n",
       "      <td>387</td>\n",
       "      <td>21</td>\n",
       "      <td>6</td>\n",
       "      <td>0</td>\n",
       "      <td>...</td>\n",
       "      <td>6</td>\n",
       "      <td>61</td>\n",
       "      <td>50.0</td>\n",
       "      <td>1.0</td>\n",
       "      <td>875.0</td>\n",
       "      <td>866.0</td>\n",
       "      <td>NaN</td>\n",
       "      <td>310</td>\n",
       "      <td>Shahar</td>\n",
       "      <td>valid</td>\n",
       "    </tr>\n",
       "    <tr>\n",
       "      <th>48</th>\n",
       "      <td>21</td>\n",
       "      <td>עוצם</td>\n",
       "      <td>32</td>\n",
       "      <td>426</td>\n",
       "      <td>326</td>\n",
       "      <td>2</td>\n",
       "      <td>324</td>\n",
       "      <td>1</td>\n",
       "      <td>4</td>\n",
       "      <td>0</td>\n",
       "      <td>...</td>\n",
       "      <td>6</td>\n",
       "      <td>61</td>\n",
       "      <td>50.0</td>\n",
       "      <td>1.0</td>\n",
       "      <td>642.0</td>\n",
       "      <td>639.0</td>\n",
       "      <td>3.0</td>\n",
       "      <td>310</td>\n",
       "      <td>Ozem</td>\n",
       "      <td>valid</td>\n",
       "    </tr>\n",
       "    <tr>\n",
       "      <th>49</th>\n",
       "      <td>22</td>\n",
       "      <td>עוצם</td>\n",
       "      <td>32</td>\n",
       "      <td>434</td>\n",
       "      <td>344</td>\n",
       "      <td>2</td>\n",
       "      <td>342</td>\n",
       "      <td>6</td>\n",
       "      <td>5</td>\n",
       "      <td>0</td>\n",
       "      <td>...</td>\n",
       "      <td>6</td>\n",
       "      <td>61</td>\n",
       "      <td>50.0</td>\n",
       "      <td>1.0</td>\n",
       "      <td>642.0</td>\n",
       "      <td>639.0</td>\n",
       "      <td>3.0</td>\n",
       "      <td>310</td>\n",
       "      <td>Ozem</td>\n",
       "      <td>valid</td>\n",
       "    </tr>\n",
       "    <tr>\n",
       "      <th>50</th>\n",
       "      <td>23</td>\n",
       "      <td>עוצם</td>\n",
       "      <td>32</td>\n",
       "      <td>428</td>\n",
       "      <td>364</td>\n",
       "      <td>2</td>\n",
       "      <td>362</td>\n",
       "      <td>9</td>\n",
       "      <td>6</td>\n",
       "      <td>0</td>\n",
       "      <td>...</td>\n",
       "      <td>6</td>\n",
       "      <td>61</td>\n",
       "      <td>50.0</td>\n",
       "      <td>1.0</td>\n",
       "      <td>642.0</td>\n",
       "      <td>639.0</td>\n",
       "      <td>3.0</td>\n",
       "      <td>310</td>\n",
       "      <td>Ozem</td>\n",
       "      <td>valid</td>\n",
       "    </tr>\n",
       "    <tr>\n",
       "      <th>51</th>\n",
       "      <td>21</td>\n",
       "      <td>בת שלמה</td>\n",
       "      <td>33</td>\n",
       "      <td>432</td>\n",
       "      <td>358</td>\n",
       "      <td>3</td>\n",
       "      <td>355</td>\n",
       "      <td>75</td>\n",
       "      <td>1</td>\n",
       "      <td>2</td>\n",
       "      <td>...</td>\n",
       "      <td>3</td>\n",
       "      <td>32</td>\n",
       "      <td>15.0</td>\n",
       "      <td>1.0</td>\n",
       "      <td>651.0</td>\n",
       "      <td>635.0</td>\n",
       "      <td>NaN</td>\n",
       "      <td>310</td>\n",
       "      <td>Bat Shelomo</td>\n",
       "      <td>valid</td>\n",
       "    </tr>\n",
       "    <tr>\n",
       "      <th>52</th>\n",
       "      <td>22</td>\n",
       "      <td>בת שלמה</td>\n",
       "      <td>33</td>\n",
       "      <td>435</td>\n",
       "      <td>338</td>\n",
       "      <td>0</td>\n",
       "      <td>338</td>\n",
       "      <td>90</td>\n",
       "      <td>2</td>\n",
       "      <td>1</td>\n",
       "      <td>...</td>\n",
       "      <td>3</td>\n",
       "      <td>32</td>\n",
       "      <td>15.0</td>\n",
       "      <td>1.0</td>\n",
       "      <td>651.0</td>\n",
       "      <td>635.0</td>\n",
       "      <td>NaN</td>\n",
       "      <td>310</td>\n",
       "      <td>Bat Shelomo</td>\n",
       "      <td>valid</td>\n",
       "    </tr>\n",
       "    <tr>\n",
       "      <th>53</th>\n",
       "      <td>23</td>\n",
       "      <td>בת שלמה</td>\n",
       "      <td>33</td>\n",
       "      <td>441</td>\n",
       "      <td>354</td>\n",
       "      <td>0</td>\n",
       "      <td>354</td>\n",
       "      <td>68</td>\n",
       "      <td>1</td>\n",
       "      <td>4</td>\n",
       "      <td>...</td>\n",
       "      <td>3</td>\n",
       "      <td>32</td>\n",
       "      <td>15.0</td>\n",
       "      <td>1.0</td>\n",
       "      <td>651.0</td>\n",
       "      <td>635.0</td>\n",
       "      <td>NaN</td>\n",
       "      <td>310</td>\n",
       "      <td>Bat Shelomo</td>\n",
       "      <td>valid</td>\n",
       "    </tr>\n",
       "    <tr>\n",
       "      <th>57</th>\n",
       "      <td>21</td>\n",
       "      <td>שדה דוד</td>\n",
       "      <td>36</td>\n",
       "      <td>395</td>\n",
       "      <td>299</td>\n",
       "      <td>0</td>\n",
       "      <td>299</td>\n",
       "      <td>10</td>\n",
       "      <td>2</td>\n",
       "      <td>0</td>\n",
       "      <td>...</td>\n",
       "      <td>6</td>\n",
       "      <td>61</td>\n",
       "      <td>50.0</td>\n",
       "      <td>1.0</td>\n",
       "      <td>547.0</td>\n",
       "      <td>538.0</td>\n",
       "      <td>NaN</td>\n",
       "      <td>310</td>\n",
       "      <td>Sede Dawid</td>\n",
       "      <td>valid</td>\n",
       "    </tr>\n",
       "    <tr>\n",
       "      <th>58</th>\n",
       "      <td>22</td>\n",
       "      <td>שדה דוד</td>\n",
       "      <td>36</td>\n",
       "      <td>415</td>\n",
       "      <td>314</td>\n",
       "      <td>1</td>\n",
       "      <td>313</td>\n",
       "      <td>14</td>\n",
       "      <td>5</td>\n",
       "      <td>1</td>\n",
       "      <td>...</td>\n",
       "      <td>6</td>\n",
       "      <td>61</td>\n",
       "      <td>50.0</td>\n",
       "      <td>1.0</td>\n",
       "      <td>547.0</td>\n",
       "      <td>538.0</td>\n",
       "      <td>NaN</td>\n",
       "      <td>310</td>\n",
       "      <td>Sede Dawid</td>\n",
       "      <td>valid</td>\n",
       "    </tr>\n",
       "    <tr>\n",
       "      <th>59</th>\n",
       "      <td>23</td>\n",
       "      <td>שדה דוד</td>\n",
       "      <td>36</td>\n",
       "      <td>423</td>\n",
       "      <td>333</td>\n",
       "      <td>1</td>\n",
       "      <td>332</td>\n",
       "      <td>14</td>\n",
       "      <td>2</td>\n",
       "      <td>1</td>\n",
       "      <td>...</td>\n",
       "      <td>6</td>\n",
       "      <td>61</td>\n",
       "      <td>50.0</td>\n",
       "      <td>1.0</td>\n",
       "      <td>547.0</td>\n",
       "      <td>538.0</td>\n",
       "      <td>NaN</td>\n",
       "      <td>310</td>\n",
       "      <td>Sede Dawid</td>\n",
       "      <td>valid</td>\n",
       "    </tr>\n",
       "  </tbody>\n",
       "</table>\n",
       "<p>12 rows × 31 columns</p>\n",
       "</div>"
      ],
      "text/plain": [
       "   knesset  שם ישוב סמל ישוב  בזב מצביעים פסולים כשרים אמת  ג ודעם  ... מחוז  \\\n",
       "0       21      שחר        7  516     371      0   371  26  2    0  ...    6   \n",
       "1       22      שחר        7  517     377      0   377  44  8    0  ...    6   \n",
       "2       23      שחר        7  521     387      0   387  21  6    0  ...    6   \n",
       "48      21     עוצם       32  426     326      2   324   1  4    0  ...    6   \n",
       "49      22     עוצם       32  434     344      2   342   6  5    0  ...    6   \n",
       "50      23     עוצם       32  428     364      2   362   9  6    0  ...    6   \n",
       "51      21  בת שלמה       33  432     358      3   355  75  1    2  ...    3   \n",
       "52      22  בת שלמה       33  435     338      0   338  90  2    1  ...    3   \n",
       "53      23  בת שלמה       33  441     354      0   354  68  1    4  ...    3   \n",
       "57      21  שדה דוד       36  395     299      0   299  10  2    0  ...    6   \n",
       "58      22  שדה דוד       36  415     314      1   313  14  5    1  ...    6   \n",
       "59      23  שדה דוד       36  423     333      1   332  14  2    1  ...    6   \n",
       "\n",
       "   נפה מעמד מונציפאלי דת יישוב סך הכל אוכלוסייה 2018  מזה: יהודים  ערבים  \\\n",
       "0   61           50.0      1.0                 875.0        866.0    NaN   \n",
       "1   61           50.0      1.0                 875.0        866.0    NaN   \n",
       "2   61           50.0      1.0                 875.0        866.0    NaN   \n",
       "48  61           50.0      1.0                 642.0        639.0    3.0   \n",
       "49  61           50.0      1.0                 642.0        639.0    3.0   \n",
       "50  61           50.0      1.0                 642.0        639.0    3.0   \n",
       "51  32           15.0      1.0                 651.0        635.0    NaN   \n",
       "52  32           15.0      1.0                 651.0        635.0    NaN   \n",
       "53  32           15.0      1.0                 651.0        635.0    NaN   \n",
       "57  61           50.0      1.0                 547.0        538.0    NaN   \n",
       "58  61           50.0      1.0                 547.0        538.0    NaN   \n",
       "59  61           50.0      1.0                 547.0        538.0    NaN   \n",
       "\n",
       "    צורת יישוב שוטפת שם יישוב באנגלית town_set  \n",
       "0                310           Shahar    valid  \n",
       "1                310           Shahar    valid  \n",
       "2                310           Shahar    valid  \n",
       "48               310             Ozem    valid  \n",
       "49               310             Ozem    valid  \n",
       "50               310             Ozem    valid  \n",
       "51               310      Bat Shelomo    valid  \n",
       "52               310      Bat Shelomo    valid  \n",
       "53               310      Bat Shelomo    valid  \n",
       "57               310       Sede Dawid    valid  \n",
       "58               310       Sede Dawid    valid  \n",
       "59               310       Sede Dawid    valid  \n",
       "\n",
       "[12 rows x 31 columns]"
      ]
     },
     "metadata": {},
     "output_type": "display_data"
    },
    {
     "data": {
      "text/html": [
       "<div>\n",
       "<style scoped>\n",
       "    .dataframe tbody tr th:only-of-type {\n",
       "        vertical-align: middle;\n",
       "    }\n",
       "\n",
       "    .dataframe tbody tr th {\n",
       "        vertical-align: top;\n",
       "    }\n",
       "\n",
       "    .dataframe thead th {\n",
       "        text-align: right;\n",
       "    }\n",
       "</style>\n",
       "<table border=\"1\" class=\"dataframe\">\n",
       "  <thead>\n",
       "    <tr style=\"text-align: right;\">\n",
       "      <th></th>\n",
       "      <th>knesset</th>\n",
       "      <th>שם ישוב</th>\n",
       "      <th>סמל ישוב</th>\n",
       "      <th>בזב</th>\n",
       "      <th>מצביעים</th>\n",
       "      <th>פסולים</th>\n",
       "      <th>כשרים</th>\n",
       "      <th>אמת</th>\n",
       "      <th>ג</th>\n",
       "      <th>ודעם</th>\n",
       "      <th>...</th>\n",
       "      <th>מחוז</th>\n",
       "      <th>נפה</th>\n",
       "      <th>מעמד מונציפאלי</th>\n",
       "      <th>דת יישוב</th>\n",
       "      <th>סך הכל אוכלוסייה 2018</th>\n",
       "      <th>מזה: יהודים</th>\n",
       "      <th>ערבים</th>\n",
       "      <th>צורת יישוב שוטפת</th>\n",
       "      <th>שם יישוב באנגלית</th>\n",
       "      <th>town_set</th>\n",
       "    </tr>\n",
       "  </thead>\n",
       "  <tbody>\n",
       "    <tr>\n",
       "      <th>3</th>\n",
       "      <td>21</td>\n",
       "      <td>תירוש</td>\n",
       "      <td>10</td>\n",
       "      <td>333</td>\n",
       "      <td>237</td>\n",
       "      <td>2</td>\n",
       "      <td>235</td>\n",
       "      <td>5</td>\n",
       "      <td>3</td>\n",
       "      <td>0</td>\n",
       "      <td>...</td>\n",
       "      <td>1</td>\n",
       "      <td>11</td>\n",
       "      <td>26.0</td>\n",
       "      <td>1.0</td>\n",
       "      <td>501.0</td>\n",
       "      <td>500.0</td>\n",
       "      <td>NaN</td>\n",
       "      <td>310</td>\n",
       "      <td>Tirosh</td>\n",
       "      <td>train</td>\n",
       "    </tr>\n",
       "    <tr>\n",
       "      <th>4</th>\n",
       "      <td>22</td>\n",
       "      <td>תירוש</td>\n",
       "      <td>10</td>\n",
       "      <td>332</td>\n",
       "      <td>245</td>\n",
       "      <td>0</td>\n",
       "      <td>245</td>\n",
       "      <td>2</td>\n",
       "      <td>4</td>\n",
       "      <td>0</td>\n",
       "      <td>...</td>\n",
       "      <td>1</td>\n",
       "      <td>11</td>\n",
       "      <td>26.0</td>\n",
       "      <td>1.0</td>\n",
       "      <td>501.0</td>\n",
       "      <td>500.0</td>\n",
       "      <td>NaN</td>\n",
       "      <td>310</td>\n",
       "      <td>Tirosh</td>\n",
       "      <td>train</td>\n",
       "    </tr>\n",
       "    <tr>\n",
       "      <th>5</th>\n",
       "      <td>23</td>\n",
       "      <td>תירוש</td>\n",
       "      <td>10</td>\n",
       "      <td>331</td>\n",
       "      <td>252</td>\n",
       "      <td>0</td>\n",
       "      <td>252</td>\n",
       "      <td>2</td>\n",
       "      <td>3</td>\n",
       "      <td>0</td>\n",
       "      <td>...</td>\n",
       "      <td>1</td>\n",
       "      <td>11</td>\n",
       "      <td>26.0</td>\n",
       "      <td>1.0</td>\n",
       "      <td>501.0</td>\n",
       "      <td>500.0</td>\n",
       "      <td>NaN</td>\n",
       "      <td>310</td>\n",
       "      <td>Tirosh</td>\n",
       "      <td>train</td>\n",
       "    </tr>\n",
       "    <tr>\n",
       "      <th>6</th>\n",
       "      <td>21</td>\n",
       "      <td>ניר ח\"ן</td>\n",
       "      <td>11</td>\n",
       "      <td>403</td>\n",
       "      <td>289</td>\n",
       "      <td>1</td>\n",
       "      <td>288</td>\n",
       "      <td>31</td>\n",
       "      <td>0</td>\n",
       "      <td>0</td>\n",
       "      <td>...</td>\n",
       "      <td>6</td>\n",
       "      <td>61</td>\n",
       "      <td>50.0</td>\n",
       "      <td>1.0</td>\n",
       "      <td>552.0</td>\n",
       "      <td>536.0</td>\n",
       "      <td>NaN</td>\n",
       "      <td>310</td>\n",
       "      <td>Nir Hen</td>\n",
       "      <td>train</td>\n",
       "    </tr>\n",
       "    <tr>\n",
       "      <th>7</th>\n",
       "      <td>22</td>\n",
       "      <td>ניר ח\"ן</td>\n",
       "      <td>11</td>\n",
       "      <td>406</td>\n",
       "      <td>287</td>\n",
       "      <td>0</td>\n",
       "      <td>287</td>\n",
       "      <td>37</td>\n",
       "      <td>1</td>\n",
       "      <td>1</td>\n",
       "      <td>...</td>\n",
       "      <td>6</td>\n",
       "      <td>61</td>\n",
       "      <td>50.0</td>\n",
       "      <td>1.0</td>\n",
       "      <td>552.0</td>\n",
       "      <td>536.0</td>\n",
       "      <td>NaN</td>\n",
       "      <td>310</td>\n",
       "      <td>Nir Hen</td>\n",
       "      <td>train</td>\n",
       "    </tr>\n",
       "    <tr>\n",
       "      <th>8</th>\n",
       "      <td>23</td>\n",
       "      <td>ניר חן</td>\n",
       "      <td>11</td>\n",
       "      <td>404</td>\n",
       "      <td>271</td>\n",
       "      <td>0</td>\n",
       "      <td>271</td>\n",
       "      <td>29</td>\n",
       "      <td>0</td>\n",
       "      <td>1</td>\n",
       "      <td>...</td>\n",
       "      <td>6</td>\n",
       "      <td>61</td>\n",
       "      <td>50.0</td>\n",
       "      <td>1.0</td>\n",
       "      <td>552.0</td>\n",
       "      <td>536.0</td>\n",
       "      <td>NaN</td>\n",
       "      <td>310</td>\n",
       "      <td>Nir Hen</td>\n",
       "      <td>train</td>\n",
       "    </tr>\n",
       "    <tr>\n",
       "      <th>9</th>\n",
       "      <td>21</td>\n",
       "      <td>חצבה</td>\n",
       "      <td>13</td>\n",
       "      <td>502</td>\n",
       "      <td>403</td>\n",
       "      <td>0</td>\n",
       "      <td>403</td>\n",
       "      <td>61</td>\n",
       "      <td>2</td>\n",
       "      <td>0</td>\n",
       "      <td>...</td>\n",
       "      <td>6</td>\n",
       "      <td>62</td>\n",
       "      <td>54.0</td>\n",
       "      <td>1.0</td>\n",
       "      <td>605.0</td>\n",
       "      <td>561.0</td>\n",
       "      <td>10.0</td>\n",
       "      <td>310</td>\n",
       "      <td>Hazeva</td>\n",
       "      <td>train</td>\n",
       "    </tr>\n",
       "    <tr>\n",
       "      <th>10</th>\n",
       "      <td>22</td>\n",
       "      <td>חצבה</td>\n",
       "      <td>13</td>\n",
       "      <td>502</td>\n",
       "      <td>373</td>\n",
       "      <td>0</td>\n",
       "      <td>373</td>\n",
       "      <td>56</td>\n",
       "      <td>2</td>\n",
       "      <td>0</td>\n",
       "      <td>...</td>\n",
       "      <td>6</td>\n",
       "      <td>62</td>\n",
       "      <td>54.0</td>\n",
       "      <td>1.0</td>\n",
       "      <td>605.0</td>\n",
       "      <td>561.0</td>\n",
       "      <td>10.0</td>\n",
       "      <td>310</td>\n",
       "      <td>Hazeva</td>\n",
       "      <td>train</td>\n",
       "    </tr>\n",
       "    <tr>\n",
       "      <th>11</th>\n",
       "      <td>23</td>\n",
       "      <td>חצבה</td>\n",
       "      <td>13</td>\n",
       "      <td>519</td>\n",
       "      <td>396</td>\n",
       "      <td>5</td>\n",
       "      <td>391</td>\n",
       "      <td>45</td>\n",
       "      <td>1</td>\n",
       "      <td>0</td>\n",
       "      <td>...</td>\n",
       "      <td>6</td>\n",
       "      <td>62</td>\n",
       "      <td>54.0</td>\n",
       "      <td>1.0</td>\n",
       "      <td>605.0</td>\n",
       "      <td>561.0</td>\n",
       "      <td>10.0</td>\n",
       "      <td>310</td>\n",
       "      <td>Hazeva</td>\n",
       "      <td>train</td>\n",
       "    </tr>\n",
       "    <tr>\n",
       "      <th>12</th>\n",
       "      <td>21</td>\n",
       "      <td>נועם</td>\n",
       "      <td>15</td>\n",
       "      <td>302</td>\n",
       "      <td>217</td>\n",
       "      <td>2</td>\n",
       "      <td>215</td>\n",
       "      <td>1</td>\n",
       "      <td>4</td>\n",
       "      <td>0</td>\n",
       "      <td>...</td>\n",
       "      <td>6</td>\n",
       "      <td>61</td>\n",
       "      <td>34.0</td>\n",
       "      <td>1.0</td>\n",
       "      <td>349.0</td>\n",
       "      <td>346.0</td>\n",
       "      <td>NaN</td>\n",
       "      <td>310</td>\n",
       "      <td>No'am</td>\n",
       "      <td>train</td>\n",
       "    </tr>\n",
       "    <tr>\n",
       "      <th>13</th>\n",
       "      <td>22</td>\n",
       "      <td>נועם</td>\n",
       "      <td>15</td>\n",
       "      <td>308</td>\n",
       "      <td>228</td>\n",
       "      <td>1</td>\n",
       "      <td>227</td>\n",
       "      <td>1</td>\n",
       "      <td>4</td>\n",
       "      <td>0</td>\n",
       "      <td>...</td>\n",
       "      <td>6</td>\n",
       "      <td>61</td>\n",
       "      <td>34.0</td>\n",
       "      <td>1.0</td>\n",
       "      <td>349.0</td>\n",
       "      <td>346.0</td>\n",
       "      <td>NaN</td>\n",
       "      <td>310</td>\n",
       "      <td>No'am</td>\n",
       "      <td>train</td>\n",
       "    </tr>\n",
       "    <tr>\n",
       "      <th>14</th>\n",
       "      <td>23</td>\n",
       "      <td>נועם</td>\n",
       "      <td>15</td>\n",
       "      <td>313</td>\n",
       "      <td>235</td>\n",
       "      <td>1</td>\n",
       "      <td>234</td>\n",
       "      <td>1</td>\n",
       "      <td>2</td>\n",
       "      <td>0</td>\n",
       "      <td>...</td>\n",
       "      <td>6</td>\n",
       "      <td>61</td>\n",
       "      <td>34.0</td>\n",
       "      <td>1.0</td>\n",
       "      <td>349.0</td>\n",
       "      <td>346.0</td>\n",
       "      <td>NaN</td>\n",
       "      <td>310</td>\n",
       "      <td>No'am</td>\n",
       "      <td>train</td>\n",
       "    </tr>\n",
       "  </tbody>\n",
       "</table>\n",
       "<p>12 rows × 31 columns</p>\n",
       "</div>"
      ],
      "text/plain": [
       "   knesset  שם ישוב סמל ישוב  בזב מצביעים פסולים כשרים אמת  ג ודעם  ... מחוז  \\\n",
       "3       21    תירוש       10  333     237      2   235   5  3    0  ...    1   \n",
       "4       22    תירוש       10  332     245      0   245   2  4    0  ...    1   \n",
       "5       23    תירוש       10  331     252      0   252   2  3    0  ...    1   \n",
       "6       21  ניר ח\"ן       11  403     289      1   288  31  0    0  ...    6   \n",
       "7       22  ניר ח\"ן       11  406     287      0   287  37  1    1  ...    6   \n",
       "8       23   ניר חן       11  404     271      0   271  29  0    1  ...    6   \n",
       "9       21     חצבה       13  502     403      0   403  61  2    0  ...    6   \n",
       "10      22     חצבה       13  502     373      0   373  56  2    0  ...    6   \n",
       "11      23     חצבה       13  519     396      5   391  45  1    0  ...    6   \n",
       "12      21     נועם       15  302     217      2   215   1  4    0  ...    6   \n",
       "13      22     נועם       15  308     228      1   227   1  4    0  ...    6   \n",
       "14      23     נועם       15  313     235      1   234   1  2    0  ...    6   \n",
       "\n",
       "   נפה מעמד מונציפאלי דת יישוב סך הכל אוכלוסייה 2018  מזה: יהודים  ערבים  \\\n",
       "3   11           26.0      1.0                 501.0        500.0    NaN   \n",
       "4   11           26.0      1.0                 501.0        500.0    NaN   \n",
       "5   11           26.0      1.0                 501.0        500.0    NaN   \n",
       "6   61           50.0      1.0                 552.0        536.0    NaN   \n",
       "7   61           50.0      1.0                 552.0        536.0    NaN   \n",
       "8   61           50.0      1.0                 552.0        536.0    NaN   \n",
       "9   62           54.0      1.0                 605.0        561.0   10.0   \n",
       "10  62           54.0      1.0                 605.0        561.0   10.0   \n",
       "11  62           54.0      1.0                 605.0        561.0   10.0   \n",
       "12  61           34.0      1.0                 349.0        346.0    NaN   \n",
       "13  61           34.0      1.0                 349.0        346.0    NaN   \n",
       "14  61           34.0      1.0                 349.0        346.0    NaN   \n",
       "\n",
       "    צורת יישוב שוטפת שם יישוב באנגלית town_set  \n",
       "3                310           Tirosh    train  \n",
       "4                310           Tirosh    train  \n",
       "5                310           Tirosh    train  \n",
       "6                310          Nir Hen    train  \n",
       "7                310          Nir Hen    train  \n",
       "8                310          Nir Hen    train  \n",
       "9                310           Hazeva    train  \n",
       "10               310           Hazeva    train  \n",
       "11               310           Hazeva    train  \n",
       "12               310            No'am    train  \n",
       "13               310            No'am    train  \n",
       "14               310            No'am    train  \n",
       "\n",
       "[12 rows x 31 columns]"
      ]
     },
     "metadata": {},
     "output_type": "display_data"
    },
    {
     "name": "stdout",
     "output_type": "stream",
     "text": [
      "(array(['test', 'train', 'valid'], dtype=object), array([  15, 2897,  724], dtype=int64))\n"
     ]
    }
   ],
   "source": [
    "PERCENT_VALIDATION = 0.2\n",
    "test_town_codes = {77, 2600, 4000, 4100, 7500}\n",
    "other_town_codes = set(knesset_cities['סמל ישוב'])-test_town_codes\n",
    "\n",
    "np.random.seed(4477)\n",
    "train_town_codes, validation_town_codes = train_test_split(np.array(list(other_town_codes)),test_size=PERCENT_VALIDATION) \n",
    "\n",
    "town_set = {k: 'test' if k in test_town_codes\n",
    "                                    else 'valid' if k in set(validation_town_codes)\n",
    "                                    else 'train' \n",
    "            for k in test_town_codes | other_town_codes}\n",
    "\n",
    "town_set_str = knesset_cities['סמל ישוב'].apply(lambda t: town_set[t])\n",
    "knesset_cities['town_set'] = town_set_str \n",
    "display(knesset_cities[town_set_str == 'test'])\n",
    "display(knesset_cities[town_set_str == 'valid'].head(12))\n",
    "display(knesset_cities[town_set_str == 'train'].head(12))\n",
    "\n",
    "print(np.unique(knesset_cities['town_set'].values,return_counts=True))"
   ]
  },
  {
   "cell_type": "code",
   "execution_count": null,
   "metadata": {},
   "outputs": [],
   "source": []
  },
  {
   "cell_type": "code",
   "execution_count": 39,
   "metadata": {},
   "outputs": [
    {
     "name": "stdout",
     "output_type": "stream",
     "text": [
      "(3636, 89) (3636,)\n",
      "(2424, 89) (2424,)\n",
      "[(1932, 89), (489, 89), (1932,), (489,)]\n"
     ]
    }
   ],
   "source": [
    "X = np.concatenate([percent_jewish[:,np.newaxis], categorical_onehot],axis=1)\n",
    "Y = percent_kosher\n",
    "\n",
    "Xtr_vd = X[:2424,:]\n",
    "Ytr_vd = Y[:2424]\n",
    "\n",
    "X_train = Xtr_vd[knesset_cities['town_set'][:2424]=='train']\n",
    "y_train = Ytr_vd[knesset_cities['town_set'][:2424]=='train']\n",
    "\n",
    "X_valid = Xtr_vd[knesset_cities['town_set'][:2424]=='valid']\n",
    "y_valid = Ytr_vd[knesset_cities['town_set'][:2424]=='valid']\n",
    "\n",
    "X_test = X[town_set_str=='test']\n",
    "Y_test = Y[town_set_str=='test']\n",
    "\n",
    "print(X.shape, Y.shape)\n",
    "print(Xtr_vd.shape, Ytr_vd.shape)\n",
    "\n",
    "#X_train, X_valid, y_train, y_valid = train_test_split(Xtr, Ytr, test_size=0.20, random_state=42)\n",
    "\n",
    "print([a.shape for a in (X_train, X_valid, y_train, y_valid)])\n"
   ]
  },
  {
   "cell_type": "code",
   "execution_count": null,
   "metadata": {},
   "outputs": [],
   "source": []
  },
  {
   "cell_type": "code",
   "execution_count": 40,
   "metadata": {},
   "outputs": [],
   "source": [
    "model = RandomForestRegressor(random_state=RSEED).fit(X_train,y_train)"
   ]
  },
  {
   "cell_type": "code",
   "execution_count": 41,
   "metadata": {},
   "outputs": [],
   "source": [
    "yhat_valid = model.predict(X_valid)"
   ]
  },
  {
   "cell_type": "code",
   "execution_count": 42,
   "metadata": {
    "scrolled": true
   },
   "outputs": [
    {
     "data": {
      "text/plain": [
       "(0.1, 1)"
      ]
     },
     "execution_count": 42,
     "metadata": {},
     "output_type": "execute_result"
    },
    {
     "data": {
      "image/png": "[encoded data removed]",
      "text/plain": [
       "<Figure size 432x432 with 1 Axes>"
      ]
     },
     "metadata": {
      "needs_background": "light"
     },
     "output_type": "display_data"
    }
   ],
   "source": [
    "plt.figure(figsize=(6,6))\n",
    "plt.plot(y_valid, yhat_valid,'.')\n",
    "plt.plot([0.3, 0.9],[0.3, 0.9],'g--')\n",
    "plt.gca().set_aspect('equal', adjustable='box')\n",
    "plt.xlim(0.1, 1)\n",
    "plt.ylim(0.1,1)"
   ]
  },
  {
   "cell_type": "code",
   "execution_count": 43,
   "metadata": {},
   "outputs": [
    {
     "data": {
      "text/plain": [
       "0.00734992636585381"
      ]
     },
     "execution_count": 43,
     "metadata": {},
     "output_type": "execute_result"
    }
   ],
   "source": [
    "mean_squared_error(y_valid, yhat_valid)"
   ]
  },
  {
   "cell_type": "markdown",
   "metadata": {},
   "source": [
    "### Optimization\n",
    "trying different hyperparameters of the random forest regressor"
   ]
  },
  {
   "cell_type": "markdown",
   "metadata": {},
   "source": [
    "### 1. change number of estimators"
   ]
  },
  {
   "cell_type": "code",
   "execution_count": 44,
   "metadata": {},
   "outputs": [
    {
     "data": {
      "text/plain": [
       "0.007068242433773463"
      ]
     },
     "execution_count": 44,
     "metadata": {},
     "output_type": "execute_result"
    }
   ],
   "source": [
    "model = RandomForestRegressor(random_state=RSEED,n_estimators=60).fit(X_train,y_train)\n",
    "yhat_valid = model.predict(X_valid)\n",
    "mean_squared_error(y_valid,yhat_valid)"
   ]
  },
  {
   "cell_type": "code",
   "execution_count": 45,
   "metadata": {},
   "outputs": [
    {
     "data": {
      "text/plain": [
       "0.007283704760201917"
      ]
     },
     "execution_count": 45,
     "metadata": {},
     "output_type": "execute_result"
    }
   ],
   "source": [
    "model = RandomForestRegressor(random_state=RSEED,n_estimators=40).fit(X_train,y_train)\n",
    "yhat_valid = model.predict(X_valid)\n",
    "mean_squared_error(y_valid,yhat_valid)"
   ]
  },
  {
   "cell_type": "code",
   "execution_count": 46,
   "metadata": {},
   "outputs": [
    {
     "data": {
      "text/plain": [
       "0.007385865391190904"
      ]
     },
     "execution_count": 46,
     "metadata": {},
     "output_type": "execute_result"
    }
   ],
   "source": [
    "model = RandomForestRegressor(random_state=RSEED,n_estimators=80).fit(X_train,y_train)\n",
    "yhat_valid = model.predict(X_valid)\n",
    "mean_squared_error(y_valid,yhat_valid)"
   ]
  },
  {
   "cell_type": "markdown",
   "metadata": {},
   "source": [
    "### 2. 60 estimators was best. now change max depth"
   ]
  },
  {
   "cell_type": "code",
   "execution_count": 47,
   "metadata": {},
   "outputs": [
    {
     "data": {
      "text/plain": [
       "0.006646175038356626"
      ]
     },
     "execution_count": 47,
     "metadata": {},
     "output_type": "execute_result"
    }
   ],
   "source": [
    "model = RandomForestRegressor(random_state=RSEED,n_estimators=60, max_depth=2).fit(X_train,y_train)\n",
    "yhat_valid = model.predict(X_valid)\n",
    "mean_squared_error(y_valid,yhat_valid)"
   ]
  },
  {
   "cell_type": "code",
   "execution_count": 48,
   "metadata": {},
   "outputs": [
    {
     "data": {
      "text/plain": [
       "0.009309594992544485"
      ]
     },
     "execution_count": 48,
     "metadata": {},
     "output_type": "execute_result"
    }
   ],
   "source": [
    "model = RandomForestRegressor(random_state=RSEED,n_estimators=60, max_depth=1).fit(X_train,y_train)\n",
    "yhat_valid = model.predict(X_valid)\n",
    "mean_squared_error(y_valid,yhat_valid)"
   ]
  },
  {
   "cell_type": "code",
   "execution_count": 49,
   "metadata": {},
   "outputs": [
    {
     "data": {
      "text/plain": [
       "0.006039364420634037"
      ]
     },
     "execution_count": 49,
     "metadata": {},
     "output_type": "execute_result"
    }
   ],
   "source": [
    "model = RandomForestRegressor(random_state=RSEED,n_estimators=60, max_depth=3).fit(X_train,y_train)\n",
    "yhat_valid = model.predict(X_valid)\n",
    "mean_squared_error(y_valid,yhat_valid)"
   ]
  },
  {
   "cell_type": "code",
   "execution_count": 50,
   "metadata": {},
   "outputs": [
    {
     "data": {
      "text/plain": [
       "0.005687813270155512"
      ]
     },
     "execution_count": 50,
     "metadata": {},
     "output_type": "execute_result"
    }
   ],
   "source": [
    "model = RandomForestRegressor(random_state=RSEED,n_estimators=60, max_depth=4).fit(X_train,y_train)\n",
    "yhat_valid = model.predict(X_valid)\n",
    "mean_squared_error(y_valid,yhat_valid)"
   ]
  },
  {
   "cell_type": "code",
   "execution_count": 51,
   "metadata": {},
   "outputs": [
    {
     "data": {
      "text/plain": [
       "0.005614457148889048"
      ]
     },
     "execution_count": 51,
     "metadata": {},
     "output_type": "execute_result"
    }
   ],
   "source": [
    "model = RandomForestRegressor(random_state=RSEED,n_estimators=60, max_depth=5).fit(X_train,y_train)\n",
    "yhat_valid = model.predict(X_valid)\n",
    "mean_squared_error(y_valid,yhat_valid)"
   ]
  },
  {
   "cell_type": "code",
   "execution_count": 52,
   "metadata": {},
   "outputs": [
    {
     "data": {
      "text/plain": [
       "0.005629753488391113"
      ]
     },
     "execution_count": 52,
     "metadata": {},
     "output_type": "execute_result"
    }
   ],
   "source": [
    "model = RandomForestRegressor(random_state=RSEED,n_estimators=60, max_depth=6).fit(X_train,y_train)\n",
    "yhat_valid = model.predict(X_valid)\n",
    "mean_squared_error(y_valid,yhat_valid)"
   ]
  },
  {
   "cell_type": "markdown",
   "metadata": {},
   "source": [
    "### 3. Max depth 5 was best. Now try to tweak n_estimators again"
   ]
  },
  {
   "cell_type": "code",
   "execution_count": 53,
   "metadata": {},
   "outputs": [
    {
     "data": {
      "text/plain": [
       "0.005708292754886819"
      ]
     },
     "execution_count": 53,
     "metadata": {},
     "output_type": "execute_result"
    }
   ],
   "source": [
    "model = RandomForestRegressor(random_state=RSEED,n_estimators=70, max_depth=5).fit(X_train,y_train)\n",
    "yhat_valid = model.predict(X_valid)\n",
    "mean_squared_error(y_valid,yhat_valid)"
   ]
  },
  {
   "cell_type": "code",
   "execution_count": 54,
   "metadata": {},
   "outputs": [
    {
     "data": {
      "text/plain": [
       "0.005764460909452289"
      ]
     },
     "execution_count": 54,
     "metadata": {},
     "output_type": "execute_result"
    }
   ],
   "source": [
    "model = RandomForestRegressor(random_state=RSEED,n_estimators=50, max_depth=5).fit(X_train,y_train)\n",
    "yhat_valid = model.predict(X_valid)\n",
    "mean_squared_error(y_valid,yhat_valid)"
   ]
  },
  {
   "cell_type": "code",
   "execution_count": 55,
   "metadata": {},
   "outputs": [
    {
     "data": {
      "text/plain": [
       "0.005661225527094859"
      ]
     },
     "execution_count": 55,
     "metadata": {},
     "output_type": "execute_result"
    }
   ],
   "source": [
    "model = RandomForestRegressor(random_state=RSEED,n_estimators=65, max_depth=5).fit(X_train,y_train)\n",
    "yhat_valid = model.predict(X_valid)\n",
    "mean_squared_error(y_valid,yhat_valid)"
   ]
  },
  {
   "cell_type": "markdown",
   "metadata": {},
   "source": [
    "### Below is the best so far"
   ]
  },
  {
   "cell_type": "code",
   "execution_count": 56,
   "metadata": {},
   "outputs": [
    {
     "data": {
      "text/plain": [
       "0.005628109661984299"
      ]
     },
     "execution_count": 56,
     "metadata": {},
     "output_type": "execute_result"
    }
   ],
   "source": [
    "model = RandomForestRegressor(random_state=RSEED,n_estimators=55, max_depth=5).fit(X_train,y_train)\n",
    "yhat_valid = model.predict(X_valid)\n",
    "mean_squared_error(y_valid,yhat_valid)"
   ]
  },
  {
   "cell_type": "code",
   "execution_count": 57,
   "metadata": {},
   "outputs": [
    {
     "data": {
      "text/plain": [
       "0.005635531108076398"
      ]
     },
     "execution_count": 57,
     "metadata": {},
     "output_type": "execute_result"
    }
   ],
   "source": [
    "model = RandomForestRegressor(random_state=RSEED,n_estimators=58, max_depth=5).fit(X_train,y_train)\n",
    "yhat_valid = model.predict(X_valid)\n",
    "mean_squared_error(y_valid,yhat_valid)"
   ]
  },
  {
   "cell_type": "code",
   "execution_count": 58,
   "metadata": {},
   "outputs": [
    {
     "data": {
      "text/plain": [
       "0.00565227042273505"
      ]
     },
     "execution_count": 58,
     "metadata": {},
     "output_type": "execute_result"
    }
   ],
   "source": [
    "model = RandomForestRegressor(random_state=RSEED,n_estimators=56, max_depth=5).fit(X_train,y_train)\n",
    "yhat_valid = model.predict(X_valid)\n",
    "mean_squared_error(y_valid,yhat_valid)"
   ]
  },
  {
   "cell_type": "markdown",
   "metadata": {},
   "source": [
    "### 4. After tweaking, settled on n_estimators = 55\n",
    "### Now change max_features"
   ]
  },
  {
   "cell_type": "code",
   "execution_count": 59,
   "metadata": {},
   "outputs": [
    {
     "data": {
      "text/plain": [
       "0.00560576146472153"
      ]
     },
     "execution_count": 59,
     "metadata": {},
     "output_type": "execute_result"
    }
   ],
   "source": [
    "model = RandomForestRegressor(random_state=RSEED,n_estimators=55, max_depth=5,min_samples_split=3).fit(X_train,y_train)\n",
    "yhat_valid = model.predict(X_valid)\n",
    "mean_squared_error(y_valid,yhat_valid)"
   ]
  },
  {
   "cell_type": "code",
   "execution_count": 60,
   "metadata": {},
   "outputs": [
    {
     "data": {
      "text/plain": [
       "0.011723139530718794"
      ]
     },
     "execution_count": 60,
     "metadata": {},
     "output_type": "execute_result"
    }
   ],
   "source": [
    "model = RandomForestRegressor(random_state=RSEED,n_estimators=55, max_depth=5,min_samples_split=3,max_features=2).fit(X_train,y_train)\n",
    "yhat_valid = model.predict(X_valid)\n",
    "mean_squared_error(y_valid,yhat_valid)"
   ]
  },
  {
   "cell_type": "code",
   "execution_count": 61,
   "metadata": {},
   "outputs": [
    {
     "data": {
      "text/plain": [
       "0.006729887520599692"
      ]
     },
     "execution_count": 61,
     "metadata": {},
     "output_type": "execute_result"
    }
   ],
   "source": [
    "model = RandomForestRegressor(random_state=RSEED,n_estimators=55, max_depth=5,min_samples_split=3,max_features=10).fit(X_train,y_train)\n",
    "yhat_valid = model.predict(X_valid)\n",
    "mean_squared_error(y_valid,yhat_valid)"
   ]
  },
  {
   "cell_type": "code",
   "execution_count": 62,
   "metadata": {},
   "outputs": [
    {
     "data": {
      "text/plain": [
       "0.005635216655504465"
      ]
     },
     "execution_count": 62,
     "metadata": {},
     "output_type": "execute_result"
    }
   ],
   "source": [
    "model = RandomForestRegressor(random_state=RSEED,n_estimators=55, max_depth=5,min_samples_split=3,max_features=15).fit(X_train,y_train)\n",
    "yhat_valid = model.predict(X_valid)\n",
    "mean_squared_error(y_valid,yhat_valid)"
   ]
  },
  {
   "cell_type": "code",
   "execution_count": 63,
   "metadata": {},
   "outputs": [
    {
     "data": {
      "text/plain": [
       "0.005250453096552337"
      ]
     },
     "execution_count": 63,
     "metadata": {},
     "output_type": "execute_result"
    }
   ],
   "source": [
    "model = RandomForestRegressor(random_state=RSEED,n_estimators=55, max_depth=5,min_samples_split=3,max_features=25).fit(X_train,y_train)\n",
    "yhat_valid = model.predict(X_valid)\n",
    "mean_squared_error(y_valid,yhat_valid)"
   ]
  },
  {
   "cell_type": "markdown",
   "metadata": {},
   "source": [
    "### Could not imporve with max_features. Again show best result"
   ]
  },
  {
   "cell_type": "code",
   "execution_count": 64,
   "metadata": {},
   "outputs": [
    {
     "data": {
      "text/plain": [
       "0.00560576146472153"
      ]
     },
     "execution_count": 64,
     "metadata": {},
     "output_type": "execute_result"
    }
   ],
   "source": [
    "model = RandomForestRegressor(random_state=RSEED,n_estimators=55, max_depth=5,min_samples_split=3).fit(X_train,y_train)\n",
    "yhat_valid = model.predict(X_valid)\n",
    "mean_squared_error(y_valid,yhat_valid)"
   ]
  },
  {
   "cell_type": "markdown",
   "metadata": {},
   "source": [
    "### Predict on test"
   ]
  },
  {
   "cell_type": "code",
   "execution_count": 65,
   "metadata": {},
   "outputs": [],
   "source": [
    "summary_df = knesset_cities[town_set_str == 'test']\n",
    "summary_df.insert(loc=5,column='percent_kosher' ,value= Y[town_set_str == 'test'])\n",
    "summary_df = summary_df[['knesset', 'שם ישוב', 'בזב', 'כשרים','percent_kosher']]\n",
    "\n",
    "yhat_test = model.predict(X_test)\n",
    "summary_df.loc[:,'predict_kosher'] = yhat_test"
   ]
  },
  {
   "cell_type": "code",
   "execution_count": 66,
   "metadata": {},
   "outputs": [
    {
     "data": {
      "text/html": [
       "<div>\n",
       "<style scoped>\n",
       "    .dataframe tbody tr th:only-of-type {\n",
       "        vertical-align: middle;\n",
       "    }\n",
       "\n",
       "    .dataframe tbody tr th {\n",
       "        vertical-align: top;\n",
       "    }\n",
       "\n",
       "    .dataframe thead th {\n",
       "        text-align: right;\n",
       "    }\n",
       "</style>\n",
       "<table border=\"1\" class=\"dataframe\">\n",
       "  <thead>\n",
       "    <tr style=\"text-align: right;\">\n",
       "      <th></th>\n",
       "      <th>knesset</th>\n",
       "      <th>שם ישוב</th>\n",
       "      <th>בזב</th>\n",
       "      <th>כשרים</th>\n",
       "      <th>percent_kosher</th>\n",
       "      <th>predict_kosher</th>\n",
       "    </tr>\n",
       "  </thead>\n",
       "  <tbody>\n",
       "    <tr>\n",
       "      <th>143</th>\n",
       "      <td>23</td>\n",
       "      <td>איילת השחר</td>\n",
       "      <td>818</td>\n",
       "      <td>585</td>\n",
       "      <td>0.715159</td>\n",
       "      <td>0.712196</td>\n",
       "    </tr>\n",
       "    <tr>\n",
       "      <th>2999</th>\n",
       "      <td>23</td>\n",
       "      <td>אילת</td>\n",
       "      <td>50714</td>\n",
       "      <td>22636</td>\n",
       "      <td>0.446346</td>\n",
       "      <td>0.587948</td>\n",
       "    </tr>\n",
       "    <tr>\n",
       "      <th>3405</th>\n",
       "      <td>23</td>\n",
       "      <td>חיפה</td>\n",
       "      <td>249627</td>\n",
       "      <td>144625</td>\n",
       "      <td>0.579364</td>\n",
       "      <td>0.538695</td>\n",
       "    </tr>\n",
       "    <tr>\n",
       "      <th>3477</th>\n",
       "      <td>23</td>\n",
       "      <td>קצרין</td>\n",
       "      <td>6175</td>\n",
       "      <td>3498</td>\n",
       "      <td>0.566478</td>\n",
       "      <td>0.616380</td>\n",
       "    </tr>\n",
       "    <tr>\n",
       "      <th>3567</th>\n",
       "      <td>23</td>\n",
       "      <td>סחנין</td>\n",
       "      <td>21624</td>\n",
       "      <td>17085</td>\n",
       "      <td>0.790094</td>\n",
       "      <td>0.576323</td>\n",
       "    </tr>\n",
       "  </tbody>\n",
       "</table>\n",
       "</div>"
      ],
      "text/plain": [
       "     knesset     שם ישוב     בזב   כשרים percent_kosher  predict_kosher\n",
       "143       23  איילת השחר     818     585       0.715159        0.712196\n",
       "2999      23        אילת   50714   22636       0.446346        0.587948\n",
       "3405      23        חיפה  249627  144625       0.579364        0.538695\n",
       "3477      23       קצרין    6175    3498       0.566478        0.616380\n",
       "3567      23       סחנין   21624   17085       0.790094        0.576323"
      ]
     },
     "metadata": {},
     "output_type": "display_data"
    }
   ],
   "source": [
    "\n",
    "\n",
    "summary_df = summary_df[summary_df['knesset']==23]\n",
    "\n",
    "display(summary_df)"
   ]
  },
  {
   "cell_type": "markdown",
   "metadata": {},
   "source": [
    "# סעיף 3 : CLUSTERING\n",
    "## ראינו למעלה בגרף של \" הצבעה של גושים לפי מערכות בחירות\" שאין ממש הבדל בין הנתונים ב שלושת הבחירות אז בחרנו לעשות CLUSTERING רק על בחירות ה 23"
   ]
  },
  {
   "cell_type": "markdown",
   "metadata": {},
   "source": [
    "### טעינת + איחוד הנתונים"
   ]
  },
  {
   "cell_type": "code",
   "execution_count": 67,
   "metadata": {},
   "outputs": [],
   "source": [
    "CITY_NAME_COLUMN = \"שם ישוב\"\n",
    "votes_data = pd.read_csv(\"C:\\\\Users\\\\HP\\\\Downloads\\\\votes23.csv\", encoding=\"ISO-8859-8\")\n",
    "votes_data = votes_data.sort_values(by=\"שם ישוב\")\n",
    "votes_data.rename({\"שם ישוב\": CITY_NAME_COLUMN}, axis=1, inplace=True)\n",
    "cities_data = pd.read_excel(\"C:\\\\Users\\\\HP\\\\Downloads\\\\cities.xlsx\")\n",
    "cities_data = cities_data.sort_values(by=\"שם יישוב\")\n",
    "cities_data.rename({\"שם יישוב\": CITY_NAME_COLUMN}, axis=1, inplace=True)"
   ]
  },
  {
   "cell_type": "code",
   "execution_count": 68,
   "metadata": {},
   "outputs": [],
   "source": [
    "parties = [\"אמת\", \"ג\", \"ודעם\", \"שס\", \"פה\", \"מחל\", \"טב\", \"ל\"]\n",
    "properties = [\"סמל ועדה\", CITY_NAME_COLUMN, \"סמל ישוב\", \"בזב\", \"מצביעים\", \"פסולים\", \"כשרים\"]\n",
    "columns_to_keep = properties + parties\n",
    "votes_data = votes_data[columns_to_keep]\n",
    "#votes_data[parties] = votes_data[parties].div(votes_data[\"כשרים\"], axis=0) # normalize to distribution \n",
    "common_cities = set(votes_data[CITY_NAME_COLUMN]) & set(cities_data[CITY_NAME_COLUMN])\n",
    "data = pd.merge(left=votes_data,  right=cities_data, on=CITY_NAME_COLUMN)"
   ]
  },
  {
   "cell_type": "code",
   "execution_count": 69,
   "metadata": {},
   "outputs": [
    {
     "data": {
      "text/html": [
       "<div>\n",
       "<style scoped>\n",
       "    .dataframe tbody tr th:only-of-type {\n",
       "        vertical-align: middle;\n",
       "    }\n",
       "\n",
       "    .dataframe tbody tr th {\n",
       "        vertical-align: top;\n",
       "    }\n",
       "\n",
       "    .dataframe thead th {\n",
       "        text-align: right;\n",
       "    }\n",
       "</style>\n",
       "<table border=\"1\" class=\"dataframe\">\n",
       "  <thead>\n",
       "    <tr style=\"text-align: right;\">\n",
       "      <th></th>\n",
       "      <th>סמל ועדה</th>\n",
       "      <th>שם ישוב</th>\n",
       "      <th>סמל ישוב</th>\n",
       "      <th>בזב</th>\n",
       "      <th>מצביעים</th>\n",
       "      <th>פסולים</th>\n",
       "      <th>כשרים</th>\n",
       "      <th>אמת</th>\n",
       "      <th>ג</th>\n",
       "      <th>ודעם</th>\n",
       "      <th>...</th>\n",
       "      <th>שנת ייסוד</th>\n",
       "      <th>צורת יישוב שוטפת</th>\n",
       "      <th>השתייכות ארגונית</th>\n",
       "      <th>קואורדינטות</th>\n",
       "      <th>גובה</th>\n",
       "      <th>ועדת תכנון</th>\n",
       "      <th>מרחב משטרה</th>\n",
       "      <th>שנה</th>\n",
       "      <th>שם יישוב באנגלית</th>\n",
       "      <th>אשכול רשויות מקומיות</th>\n",
       "    </tr>\n",
       "  </thead>\n",
       "  <tbody>\n",
       "    <tr>\n",
       "      <th>0</th>\n",
       "      <td>2</td>\n",
       "      <td>אבו גוש</td>\n",
       "      <td>472</td>\n",
       "      <td>4821</td>\n",
       "      <td>2718</td>\n",
       "      <td>36</td>\n",
       "      <td>2682</td>\n",
       "      <td>75</td>\n",
       "      <td>4</td>\n",
       "      <td>2157</td>\n",
       "      <td>...</td>\n",
       "      <td>NaN</td>\n",
       "      <td>280</td>\n",
       "      <td>NaN</td>\n",
       "      <td>2.105263e+09</td>\n",
       "      <td>598.0</td>\n",
       "      <td>152.0</td>\n",
       "      <td>10002475.0</td>\n",
       "      <td>2018</td>\n",
       "      <td>Abu Ghosh</td>\n",
       "      <td>NaN</td>\n",
       "    </tr>\n",
       "    <tr>\n",
       "      <th>1</th>\n",
       "      <td>6</td>\n",
       "      <td>אבו סנאן</td>\n",
       "      <td>473</td>\n",
       "      <td>9422</td>\n",
       "      <td>6090</td>\n",
       "      <td>53</td>\n",
       "      <td>6037</td>\n",
       "      <td>92</td>\n",
       "      <td>6</td>\n",
       "      <td>4458</td>\n",
       "      <td>...</td>\n",
       "      <td>NaN</td>\n",
       "      <td>270</td>\n",
       "      <td>NaN</td>\n",
       "      <td>2.160776e+09</td>\n",
       "      <td>19.0</td>\n",
       "      <td>252.0</td>\n",
       "      <td>10004315.0</td>\n",
       "      <td>2018</td>\n",
       "      <td>Abu Sinan</td>\n",
       "      <td>NaN</td>\n",
       "    </tr>\n",
       "    <tr>\n",
       "      <th>2</th>\n",
       "      <td>18</td>\n",
       "      <td>אבו תלול</td>\n",
       "      <td>1375</td>\n",
       "      <td>943</td>\n",
       "      <td>576</td>\n",
       "      <td>2</td>\n",
       "      <td>574</td>\n",
       "      <td>0</td>\n",
       "      <td>0</td>\n",
       "      <td>565</td>\n",
       "      <td>...</td>\n",
       "      <td>NaN</td>\n",
       "      <td>450</td>\n",
       "      <td>NaN</td>\n",
       "      <td>1.933457e+09</td>\n",
       "      <td>340.0</td>\n",
       "      <td>624.0</td>\n",
       "      <td>15003711.0</td>\n",
       "      <td>2018</td>\n",
       "      <td>Abu Tulul</td>\n",
       "      <td>610.0</td>\n",
       "    </tr>\n",
       "    <tr>\n",
       "      <th>3</th>\n",
       "      <td>8</td>\n",
       "      <td>אבטין</td>\n",
       "      <td>652</td>\n",
       "      <td>1818</td>\n",
       "      <td>1161</td>\n",
       "      <td>10</td>\n",
       "      <td>1151</td>\n",
       "      <td>4</td>\n",
       "      <td>0</td>\n",
       "      <td>1110</td>\n",
       "      <td>...</td>\n",
       "      <td>NaN</td>\n",
       "      <td>290</td>\n",
       "      <td>NaN</td>\n",
       "      <td>2.108874e+09</td>\n",
       "      <td>19.0</td>\n",
       "      <td>301.0</td>\n",
       "      <td>10004207.0</td>\n",
       "      <td>2018</td>\n",
       "      <td>Ibtin</td>\n",
       "      <td>NaN</td>\n",
       "    </tr>\n",
       "    <tr>\n",
       "      <th>4</th>\n",
       "      <td>6</td>\n",
       "      <td>אבטליון</td>\n",
       "      <td>1275</td>\n",
       "      <td>308</td>\n",
       "      <td>233</td>\n",
       "      <td>0</td>\n",
       "      <td>233</td>\n",
       "      <td>35</td>\n",
       "      <td>0</td>\n",
       "      <td>7</td>\n",
       "      <td>...</td>\n",
       "      <td>1987</td>\n",
       "      <td>370</td>\n",
       "      <td>10.0</td>\n",
       "      <td>2.331475e+09</td>\n",
       "      <td>308.0</td>\n",
       "      <td>205.0</td>\n",
       "      <td>10004513.0</td>\n",
       "      <td>2018</td>\n",
       "      <td>Avtalyon</td>\n",
       "      <td>210.0</td>\n",
       "    </tr>\n",
       "  </tbody>\n",
       "</table>\n",
       "<p>5 rows × 37 columns</p>\n",
       "</div>"
      ],
      "text/plain": [
       "   סמל ועדה   שם ישוב  סמל ישוב   בזב  מצביעים  פסולים  כשרים  אמת  ג  ודעם  \\\n",
       "0         2   אבו גוש       472  4821     2718      36   2682   75  4  2157   \n",
       "1         6  אבו סנאן       473  9422     6090      53   6037   92  6  4458   \n",
       "2        18  אבו תלול      1375   943      576       2    574    0  0   565   \n",
       "3         8     אבטין       652  1818     1161      10   1151    4  0  1110   \n",
       "4         6   אבטליון      1275   308      233       0    233   35  0     7   \n",
       "\n",
       "   ...  שנת ייסוד  צורת יישוב שוטפת  השתייכות ארגונית   קואורדינטות   גובה  \\\n",
       "0  ...        NaN               280               NaN  2.105263e+09  598.0   \n",
       "1  ...        NaN               270               NaN  2.160776e+09   19.0   \n",
       "2  ...        NaN               450               NaN  1.933457e+09  340.0   \n",
       "3  ...        NaN               290               NaN  2.108874e+09   19.0   \n",
       "4  ...       1987               370              10.0  2.331475e+09  308.0   \n",
       "\n",
       "   ועדת תכנון  מרחב משטרה   שנה  שם יישוב באנגלית  אשכול רשויות מקומיות  \n",
       "0       152.0  10002475.0  2018         Abu Ghosh                   NaN  \n",
       "1       252.0  10004315.0  2018         Abu Sinan                   NaN  \n",
       "2       624.0  15003711.0  2018         Abu Tulul                 610.0  \n",
       "3       301.0  10004207.0  2018             Ibtin                   NaN  \n",
       "4       205.0  10004513.0  2018          Avtalyon                 210.0  \n",
       "\n",
       "[5 rows x 37 columns]"
      ]
     },
     "execution_count": 69,
     "metadata": {},
     "output_type": "execute_result"
    }
   ],
   "source": [
    "data.head()"
   ]
  },
  {
   "cell_type": "code",
   "execution_count": 70,
   "metadata": {},
   "outputs": [
    {
     "data": {
      "text/html": [
       "<div>\n",
       "<style scoped>\n",
       "    .dataframe tbody tr th:only-of-type {\n",
       "        vertical-align: middle;\n",
       "    }\n",
       "\n",
       "    .dataframe tbody tr th {\n",
       "        vertical-align: top;\n",
       "    }\n",
       "\n",
       "    .dataframe thead th {\n",
       "        text-align: right;\n",
       "    }\n",
       "</style>\n",
       "<table border=\"1\" class=\"dataframe\">\n",
       "  <thead>\n",
       "    <tr style=\"text-align: right;\">\n",
       "      <th></th>\n",
       "      <th>סמל ועדה</th>\n",
       "      <th>שם ישוב</th>\n",
       "      <th>סמל ישוב</th>\n",
       "      <th>בזב</th>\n",
       "      <th>מצביעים</th>\n",
       "      <th>פסולים</th>\n",
       "      <th>כשרים</th>\n",
       "      <th>אמת</th>\n",
       "      <th>ג</th>\n",
       "      <th>ודעם</th>\n",
       "      <th>...</th>\n",
       "      <th>שנת ייסוד</th>\n",
       "      <th>צורת יישוב שוטפת</th>\n",
       "      <th>השתייכות ארגונית</th>\n",
       "      <th>קואורדינטות</th>\n",
       "      <th>גובה</th>\n",
       "      <th>ועדת תכנון</th>\n",
       "      <th>מרחב משטרה</th>\n",
       "      <th>שנה</th>\n",
       "      <th>שם יישוב באנגלית</th>\n",
       "      <th>אשכול רשויות מקומיות</th>\n",
       "    </tr>\n",
       "  </thead>\n",
       "  <tbody>\n",
       "    <tr>\n",
       "      <th>0</th>\n",
       "      <td>2</td>\n",
       "      <td>אבו גוש</td>\n",
       "      <td>472</td>\n",
       "      <td>4821</td>\n",
       "      <td>2718</td>\n",
       "      <td>36</td>\n",
       "      <td>2682</td>\n",
       "      <td>0.027964</td>\n",
       "      <td>0.001491</td>\n",
       "      <td>0.804251</td>\n",
       "      <td>...</td>\n",
       "      <td>NaN</td>\n",
       "      <td>280</td>\n",
       "      <td>NaN</td>\n",
       "      <td>2.105263e+09</td>\n",
       "      <td>598.0</td>\n",
       "      <td>152.0</td>\n",
       "      <td>10002475.0</td>\n",
       "      <td>2018</td>\n",
       "      <td>Abu Ghosh</td>\n",
       "      <td>NaN</td>\n",
       "    </tr>\n",
       "    <tr>\n",
       "      <th>1</th>\n",
       "      <td>6</td>\n",
       "      <td>אבו סנאן</td>\n",
       "      <td>473</td>\n",
       "      <td>9422</td>\n",
       "      <td>6090</td>\n",
       "      <td>53</td>\n",
       "      <td>6037</td>\n",
       "      <td>0.015239</td>\n",
       "      <td>0.000994</td>\n",
       "      <td>0.738446</td>\n",
       "      <td>...</td>\n",
       "      <td>NaN</td>\n",
       "      <td>270</td>\n",
       "      <td>NaN</td>\n",
       "      <td>2.160776e+09</td>\n",
       "      <td>19.0</td>\n",
       "      <td>252.0</td>\n",
       "      <td>10004315.0</td>\n",
       "      <td>2018</td>\n",
       "      <td>Abu Sinan</td>\n",
       "      <td>NaN</td>\n",
       "    </tr>\n",
       "    <tr>\n",
       "      <th>2</th>\n",
       "      <td>18</td>\n",
       "      <td>אבו תלול</td>\n",
       "      <td>1375</td>\n",
       "      <td>943</td>\n",
       "      <td>576</td>\n",
       "      <td>2</td>\n",
       "      <td>574</td>\n",
       "      <td>0.000000</td>\n",
       "      <td>0.000000</td>\n",
       "      <td>0.984321</td>\n",
       "      <td>...</td>\n",
       "      <td>NaN</td>\n",
       "      <td>450</td>\n",
       "      <td>NaN</td>\n",
       "      <td>1.933457e+09</td>\n",
       "      <td>340.0</td>\n",
       "      <td>624.0</td>\n",
       "      <td>15003711.0</td>\n",
       "      <td>2018</td>\n",
       "      <td>Abu Tulul</td>\n",
       "      <td>610.0</td>\n",
       "    </tr>\n",
       "    <tr>\n",
       "      <th>3</th>\n",
       "      <td>8</td>\n",
       "      <td>אבטין</td>\n",
       "      <td>652</td>\n",
       "      <td>1818</td>\n",
       "      <td>1161</td>\n",
       "      <td>10</td>\n",
       "      <td>1151</td>\n",
       "      <td>0.003475</td>\n",
       "      <td>0.000000</td>\n",
       "      <td>0.964379</td>\n",
       "      <td>...</td>\n",
       "      <td>NaN</td>\n",
       "      <td>290</td>\n",
       "      <td>NaN</td>\n",
       "      <td>2.108874e+09</td>\n",
       "      <td>19.0</td>\n",
       "      <td>301.0</td>\n",
       "      <td>10004207.0</td>\n",
       "      <td>2018</td>\n",
       "      <td>Ibtin</td>\n",
       "      <td>NaN</td>\n",
       "    </tr>\n",
       "    <tr>\n",
       "      <th>4</th>\n",
       "      <td>6</td>\n",
       "      <td>אבטליון</td>\n",
       "      <td>1275</td>\n",
       "      <td>308</td>\n",
       "      <td>233</td>\n",
       "      <td>0</td>\n",
       "      <td>233</td>\n",
       "      <td>0.150215</td>\n",
       "      <td>0.000000</td>\n",
       "      <td>0.030043</td>\n",
       "      <td>...</td>\n",
       "      <td>1987</td>\n",
       "      <td>370</td>\n",
       "      <td>10.0</td>\n",
       "      <td>2.331475e+09</td>\n",
       "      <td>308.0</td>\n",
       "      <td>205.0</td>\n",
       "      <td>10004513.0</td>\n",
       "      <td>2018</td>\n",
       "      <td>Avtalyon</td>\n",
       "      <td>210.0</td>\n",
       "    </tr>\n",
       "  </tbody>\n",
       "</table>\n",
       "<p>5 rows × 37 columns</p>\n",
       "</div>"
      ],
      "text/plain": [
       "   סמל ועדה   שם ישוב  סמל ישוב   בזב  מצביעים  פסולים  כשרים       אמת  \\\n",
       "0         2   אבו גוש       472  4821     2718      36   2682  0.027964   \n",
       "1         6  אבו סנאן       473  9422     6090      53   6037  0.015239   \n",
       "2        18  אבו תלול      1375   943      576       2    574  0.000000   \n",
       "3         8     אבטין       652  1818     1161      10   1151  0.003475   \n",
       "4         6   אבטליון      1275   308      233       0    233  0.150215   \n",
       "\n",
       "          ג      ודעם  ...  שנת ייסוד  צורת יישוב שוטפת  השתייכות ארגונית  \\\n",
       "0  0.001491  0.804251  ...        NaN               280               NaN   \n",
       "1  0.000994  0.738446  ...        NaN               270               NaN   \n",
       "2  0.000000  0.984321  ...        NaN               450               NaN   \n",
       "3  0.000000  0.964379  ...        NaN               290               NaN   \n",
       "4  0.000000  0.030043  ...       1987               370              10.0   \n",
       "\n",
       "    קואורדינטות   גובה  ועדת תכנון  מרחב משטרה   שנה  שם יישוב באנגלית  \\\n",
       "0  2.105263e+09  598.0       152.0  10002475.0  2018         Abu Ghosh   \n",
       "1  2.160776e+09   19.0       252.0  10004315.0  2018         Abu Sinan   \n",
       "2  1.933457e+09  340.0       624.0  15003711.0  2018         Abu Tulul   \n",
       "3  2.108874e+09   19.0       301.0  10004207.0  2018             Ibtin   \n",
       "4  2.331475e+09  308.0       205.0  10004513.0  2018          Avtalyon   \n",
       "\n",
       "   אשכול רשויות מקומיות  \n",
       "0                   NaN  \n",
       "1                   NaN  \n",
       "2                 610.0  \n",
       "3                   NaN  \n",
       "4                 210.0  \n",
       "\n",
       "[5 rows x 37 columns]"
      ]
     },
     "execution_count": 70,
     "metadata": {},
     "output_type": "execute_result"
    }
   ],
   "source": [
    "data2=data.copy()\n",
    "data2[parties] = data[parties].div(data[\"כשרים\"], axis=0)\n",
    "data2.head()"
   ]
  },
  {
   "cell_type": "markdown",
   "metadata": {},
   "source": [
    "# K MEANS"
   ]
  },
  {
   "cell_type": "code",
   "execution_count": 71,
   "metadata": {},
   "outputs": [],
   "source": [
    "k_values = np.arange(1, 11, 1)\n",
    "mean_distance_to_center = np.zeros(len(k_values))\n",
    "for i in range(len(k_values)):\n",
    "    cls = KMeans(n_clusters=k_values[i], random_state=RSEED).fit(X=data2[parties].values)\n",
    "    data2.insert(data2.shape[1], \"cluster\"+str(k_values[i]), cls.labels_, True)\n",
    "    mean_distance_to_center[i] = cls.inertia_ # see KMeans docu"
   ]
  },
  {
   "cell_type": "markdown",
   "metadata": {},
   "source": [
    "# Cluster 2 = Arabs cities/villages"
   ]
  },
  {
   "cell_type": "code",
   "execution_count": 72,
   "metadata": {},
   "outputs": [
    {
     "data": {
      "text/html": [
       "<div>\n",
       "<style scoped>\n",
       "    .dataframe tbody tr th:only-of-type {\n",
       "        vertical-align: middle;\n",
       "    }\n",
       "\n",
       "    .dataframe tbody tr th {\n",
       "        vertical-align: top;\n",
       "    }\n",
       "\n",
       "    .dataframe thead th {\n",
       "        text-align: right;\n",
       "    }\n",
       "</style>\n",
       "<table border=\"1\" class=\"dataframe\">\n",
       "  <thead>\n",
       "    <tr style=\"text-align: right;\">\n",
       "      <th></th>\n",
       "      <th>סמל ועדה</th>\n",
       "      <th>שם ישוב</th>\n",
       "      <th>סמל ישוב</th>\n",
       "      <th>בזב</th>\n",
       "      <th>מצביעים</th>\n",
       "      <th>פסולים</th>\n",
       "      <th>כשרים</th>\n",
       "      <th>אמת</th>\n",
       "      <th>ג</th>\n",
       "      <th>ודעם</th>\n",
       "      <th>...</th>\n",
       "      <th>cluster1</th>\n",
       "      <th>cluster2</th>\n",
       "      <th>cluster3</th>\n",
       "      <th>cluster4</th>\n",
       "      <th>cluster5</th>\n",
       "      <th>cluster6</th>\n",
       "      <th>cluster7</th>\n",
       "      <th>cluster8</th>\n",
       "      <th>cluster9</th>\n",
       "      <th>cluster10</th>\n",
       "    </tr>\n",
       "  </thead>\n",
       "  <tbody>\n",
       "    <tr>\n",
       "      <th>0</th>\n",
       "      <td>2</td>\n",
       "      <td>אבו גוש</td>\n",
       "      <td>472</td>\n",
       "      <td>4821</td>\n",
       "      <td>2718</td>\n",
       "      <td>36</td>\n",
       "      <td>2682</td>\n",
       "      <td>0.027964</td>\n",
       "      <td>0.001491</td>\n",
       "      <td>0.804251</td>\n",
       "      <td>...</td>\n",
       "      <td>0</td>\n",
       "      <td>0</td>\n",
       "      <td>1</td>\n",
       "      <td>1</td>\n",
       "      <td>2</td>\n",
       "      <td>2</td>\n",
       "      <td>2</td>\n",
       "      <td>2</td>\n",
       "      <td>2</td>\n",
       "      <td>1</td>\n",
       "    </tr>\n",
       "    <tr>\n",
       "      <th>1</th>\n",
       "      <td>6</td>\n",
       "      <td>אבו סנאן</td>\n",
       "      <td>473</td>\n",
       "      <td>9422</td>\n",
       "      <td>6090</td>\n",
       "      <td>53</td>\n",
       "      <td>6037</td>\n",
       "      <td>0.015239</td>\n",
       "      <td>0.000994</td>\n",
       "      <td>0.738446</td>\n",
       "      <td>...</td>\n",
       "      <td>0</td>\n",
       "      <td>0</td>\n",
       "      <td>1</td>\n",
       "      <td>1</td>\n",
       "      <td>2</td>\n",
       "      <td>2</td>\n",
       "      <td>2</td>\n",
       "      <td>2</td>\n",
       "      <td>2</td>\n",
       "      <td>1</td>\n",
       "    </tr>\n",
       "    <tr>\n",
       "      <th>2</th>\n",
       "      <td>18</td>\n",
       "      <td>אבו תלול</td>\n",
       "      <td>1375</td>\n",
       "      <td>943</td>\n",
       "      <td>576</td>\n",
       "      <td>2</td>\n",
       "      <td>574</td>\n",
       "      <td>0.000000</td>\n",
       "      <td>0.000000</td>\n",
       "      <td>0.984321</td>\n",
       "      <td>...</td>\n",
       "      <td>0</td>\n",
       "      <td>0</td>\n",
       "      <td>1</td>\n",
       "      <td>1</td>\n",
       "      <td>2</td>\n",
       "      <td>2</td>\n",
       "      <td>2</td>\n",
       "      <td>2</td>\n",
       "      <td>2</td>\n",
       "      <td>1</td>\n",
       "    </tr>\n",
       "    <tr>\n",
       "      <th>3</th>\n",
       "      <td>8</td>\n",
       "      <td>אבטין</td>\n",
       "      <td>652</td>\n",
       "      <td>1818</td>\n",
       "      <td>1161</td>\n",
       "      <td>10</td>\n",
       "      <td>1151</td>\n",
       "      <td>0.003475</td>\n",
       "      <td>0.000000</td>\n",
       "      <td>0.964379</td>\n",
       "      <td>...</td>\n",
       "      <td>0</td>\n",
       "      <td>0</td>\n",
       "      <td>1</td>\n",
       "      <td>1</td>\n",
       "      <td>2</td>\n",
       "      <td>2</td>\n",
       "      <td>2</td>\n",
       "      <td>2</td>\n",
       "      <td>2</td>\n",
       "      <td>1</td>\n",
       "    </tr>\n",
       "    <tr>\n",
       "      <th>4</th>\n",
       "      <td>6</td>\n",
       "      <td>אבטליון</td>\n",
       "      <td>1275</td>\n",
       "      <td>308</td>\n",
       "      <td>233</td>\n",
       "      <td>0</td>\n",
       "      <td>233</td>\n",
       "      <td>0.150215</td>\n",
       "      <td>0.000000</td>\n",
       "      <td>0.030043</td>\n",
       "      <td>...</td>\n",
       "      <td>0</td>\n",
       "      <td>1</td>\n",
       "      <td>0</td>\n",
       "      <td>0</td>\n",
       "      <td>1</td>\n",
       "      <td>1</td>\n",
       "      <td>1</td>\n",
       "      <td>1</td>\n",
       "      <td>4</td>\n",
       "      <td>0</td>\n",
       "    </tr>\n",
       "  </tbody>\n",
       "</table>\n",
       "<p>5 rows × 47 columns</p>\n",
       "</div>"
      ],
      "text/plain": [
       "   סמל ועדה   שם ישוב  סמל ישוב   בזב  מצביעים  פסולים  כשרים       אמת  \\\n",
       "0         2   אבו גוש       472  4821     2718      36   2682  0.027964   \n",
       "1         6  אבו סנאן       473  9422     6090      53   6037  0.015239   \n",
       "2        18  אבו תלול      1375   943      576       2    574  0.000000   \n",
       "3         8     אבטין       652  1818     1161      10   1151  0.003475   \n",
       "4         6   אבטליון      1275   308      233       0    233  0.150215   \n",
       "\n",
       "          ג      ודעם  ...  cluster1  cluster2  cluster3  cluster4  cluster5  \\\n",
       "0  0.001491  0.804251  ...         0         0         1         1         2   \n",
       "1  0.000994  0.738446  ...         0         0         1         1         2   \n",
       "2  0.000000  0.984321  ...         0         0         1         1         2   \n",
       "3  0.000000  0.964379  ...         0         0         1         1         2   \n",
       "4  0.000000  0.030043  ...         0         1         0         0         1   \n",
       "\n",
       "   cluster6 cluster7  cluster8  cluster9  cluster10  \n",
       "0         2        2         2         2          1  \n",
       "1         2        2         2         2          1  \n",
       "2         2        2         2         2          1  \n",
       "3         2        2         2         2          1  \n",
       "4         1        1         1         4          0  \n",
       "\n",
       "[5 rows x 47 columns]"
      ]
     },
     "execution_count": 72,
     "metadata": {},
     "output_type": "execute_result"
    }
   ],
   "source": [
    "data2.head()"
   ]
  },
  {
   "cell_type": "code",
   "execution_count": 73,
   "metadata": {},
   "outputs": [
    {
     "data": {
      "text/plain": [
       "Index(['סמל ועדה', 'שם ישוב', 'סמל ישוב', 'בזב', 'מצביעים', 'פסולים', 'כשרים',\n",
       "       'אמת', 'ג', 'ודעם', 'שס', 'פה', 'מחל', 'טב', 'ל', 'סמל יישוב', 'תעתיק',\n",
       "       'מחוז', 'נפה', 'אזור טבעי', 'מעמד מונציפאלי', 'שיוך מטרופוליני',\n",
       "       'דת יישוב', 'סך הכל אוכלוסייה 2018', 'יהודים ואחרים', 'מזה: יהודים',\n",
       "       'ערבים', 'שנת ייסוד', 'צורת יישוב שוטפת', 'השתייכות ארגונית',\n",
       "       'קואורדינטות', 'גובה', 'ועדת תכנון', 'מרחב משטרה', 'שנה',\n",
       "       'שם יישוב באנגלית', 'אשכול רשויות מקומיות', 'cluster1', 'cluster2',\n",
       "       'cluster3', 'cluster4', 'cluster5', 'cluster6', 'cluster7', 'cluster8',\n",
       "       'cluster9', 'cluster10'],\n",
       "      dtype='object')"
      ]
     },
     "execution_count": 73,
     "metadata": {},
     "output_type": "execute_result"
    }
   ],
   "source": [
    "data2.columns"
   ]
  },
  {
   "cell_type": "code",
   "execution_count": 74,
   "metadata": {},
   "outputs": [
    {
     "data": {
      "image/png": "[encoded data removed]",
      "text/plain": [
       "<Figure size 432x288 with 1 Axes>"
      ]
     },
     "metadata": {
      "needs_background": "light"
     },
     "output_type": "display_data"
    }
   ],
   "source": [
    "plt.figure()\n",
    "plt.title(f\"elbow curve for k-means clustering of relative votes kneset 23\")\n",
    "plt.xlabel(\"N CLUSTERS\")\n",
    "plt.ylabel(\"MEAN DISTANCE TO CENTER\")\n",
    "plt.plot(k_values, mean_distance_to_center, \".-\")\n",
    "plt.show()"
   ]
  },
  {
   "cell_type": "markdown",
   "metadata": {},
   "source": [
    "# אפשר לראות ש עד 5 CLUSTERS זה עובד מצויין ו מ CLUSTER 6 ומעלה זה לא משפר כלום"
   ]
  },
  {
   "cell_type": "code",
   "execution_count": 75,
   "metadata": {},
   "outputs": [],
   "source": [
    "cls = KMeans(n_clusters=5,random_state=RSEED).fit(X=data2[parties].values)"
   ]
  },
  {
   "cell_type": "code",
   "execution_count": 76,
   "metadata": {},
   "outputs": [],
   "source": [
    "clsuters = cls.predict(data2[parties])"
   ]
  },
  {
   "cell_type": "code",
   "execution_count": 77,
   "metadata": {},
   "outputs": [
    {
     "data": {
      "text/plain": [
       "1043"
      ]
     },
     "execution_count": 77,
     "metadata": {},
     "output_type": "execute_result"
    }
   ],
   "source": [
    "len(clsuters)"
   ]
  },
  {
   "cell_type": "code",
   "execution_count": 78,
   "metadata": {},
   "outputs": [
    {
     "data": {
      "text/plain": [
       "(array([0, 1, 2, 3, 4]), array([296, 526,  74, 125,  22], dtype=int64))"
      ]
     },
     "execution_count": 78,
     "metadata": {},
     "output_type": "execute_result"
    }
   ],
   "source": [
    "np.unique(clsuters,return_counts=True)"
   ]
  },
  {
   "cell_type": "code",
   "execution_count": 79,
   "metadata": {},
   "outputs": [
    {
     "data": {
      "text/plain": [
       "0.5987655303198242"
      ]
     },
     "execution_count": 79,
     "metadata": {},
     "output_type": "execute_result"
    }
   ],
   "source": [
    "from sklearn.metrics import davies_bouldin_score\n",
    "davies_bouldin_score(data2[parties],clsuters) #The minimum score is zero, with lower values indicating better clustering."
   ]
  },
  {
   "cell_type": "code",
   "execution_count": 80,
   "metadata": {},
   "outputs": [
    {
     "data": {
      "text/plain": [
       "1.99216525022907"
      ]
     },
     "execution_count": 80,
     "metadata": {},
     "output_type": "execute_result"
    }
   ],
   "source": [
    "from sklearn.metrics import davies_bouldin_score\n",
    "davies_bouldin_score(data2[parties],np.hstack([clsuters[:500],clsuters[500:]+1]))"
   ]
  },
  {
   "cell_type": "code",
   "execution_count": 81,
   "metadata": {},
   "outputs": [
    {
     "name": "stdout",
     "output_type": "stream",
     "text": [
      "[[0.04 0.02 0.01 0.1  0.19 0.53 0.07 0.03]\n",
      " [0.2  0.   0.01 0.01 0.58 0.14 0.03 0.03]\n",
      " [0.03 0.   0.9  0.01 0.03 0.01 0.   0.01]\n",
      " [0.01 0.04 0.   0.03 0.06 0.26 0.56 0.01]\n",
      " [0.   0.55 0.   0.23 0.01 0.11 0.08 0.  ]]\n"
     ]
    }
   ],
   "source": [
    "print(np.array2string(cls.cluster_centers_, precision=2, suppress_small=True))\n"
   ]
  },
  {
   "cell_type": "code",
   "execution_count": 82,
   "metadata": {},
   "outputs": [
    {
     "data": {
      "text/html": [
       "<div>\n",
       "<style scoped>\n",
       "    .dataframe tbody tr th:only-of-type {\n",
       "        vertical-align: middle;\n",
       "    }\n",
       "\n",
       "    .dataframe tbody tr th {\n",
       "        vertical-align: top;\n",
       "    }\n",
       "\n",
       "    .dataframe thead th {\n",
       "        text-align: right;\n",
       "    }\n",
       "</style>\n",
       "<table border=\"1\" class=\"dataframe\">\n",
       "  <thead>\n",
       "    <tr style=\"text-align: right;\">\n",
       "      <th></th>\n",
       "      <th>אמת</th>\n",
       "      <th>ג</th>\n",
       "      <th>ודעם</th>\n",
       "      <th>שס</th>\n",
       "      <th>פה</th>\n",
       "      <th>מחל</th>\n",
       "      <th>טב</th>\n",
       "      <th>ל</th>\n",
       "    </tr>\n",
       "  </thead>\n",
       "  <tbody>\n",
       "    <tr>\n",
       "      <th>0</th>\n",
       "      <td>0.041084</td>\n",
       "      <td>0.020574</td>\n",
       "      <td>0.007058</td>\n",
       "      <td>0.102474</td>\n",
       "      <td>0.192651</td>\n",
       "      <td>0.525563</td>\n",
       "      <td>0.066810</td>\n",
       "      <td>0.032309</td>\n",
       "    </tr>\n",
       "    <tr>\n",
       "      <th>1</th>\n",
       "      <td>0.196733</td>\n",
       "      <td>0.003014</td>\n",
       "      <td>0.009856</td>\n",
       "      <td>0.007327</td>\n",
       "      <td>0.578323</td>\n",
       "      <td>0.144722</td>\n",
       "      <td>0.028143</td>\n",
       "      <td>0.026310</td>\n",
       "    </tr>\n",
       "    <tr>\n",
       "      <th>2</th>\n",
       "      <td>0.028862</td>\n",
       "      <td>0.000505</td>\n",
       "      <td>0.904598</td>\n",
       "      <td>0.007225</td>\n",
       "      <td>0.034934</td>\n",
       "      <td>0.010442</td>\n",
       "      <td>0.000840</td>\n",
       "      <td>0.006748</td>\n",
       "    </tr>\n",
       "    <tr>\n",
       "      <th>3</th>\n",
       "      <td>0.011736</td>\n",
       "      <td>0.035677</td>\n",
       "      <td>0.000559</td>\n",
       "      <td>0.032164</td>\n",
       "      <td>0.061407</td>\n",
       "      <td>0.262927</td>\n",
       "      <td>0.561663</td>\n",
       "      <td>0.006137</td>\n",
       "    </tr>\n",
       "    <tr>\n",
       "      <th>4</th>\n",
       "      <td>0.002669</td>\n",
       "      <td>0.547262</td>\n",
       "      <td>0.000427</td>\n",
       "      <td>0.227592</td>\n",
       "      <td>0.011764</td>\n",
       "      <td>0.107017</td>\n",
       "      <td>0.084520</td>\n",
       "      <td>0.002264</td>\n",
       "    </tr>\n",
       "  </tbody>\n",
       "</table>\n",
       "</div>"
      ],
      "text/plain": [
       "        אמת         ג      ודעם        שס        פה       מחל        טב  \\\n",
       "0  0.041084  0.020574  0.007058  0.102474  0.192651  0.525563  0.066810   \n",
       "1  0.196733  0.003014  0.009856  0.007327  0.578323  0.144722  0.028143   \n",
       "2  0.028862  0.000505  0.904598  0.007225  0.034934  0.010442  0.000840   \n",
       "3  0.011736  0.035677  0.000559  0.032164  0.061407  0.262927  0.561663   \n",
       "4  0.002669  0.547262  0.000427  0.227592  0.011764  0.107017  0.084520   \n",
       "\n",
       "          ל  \n",
       "0  0.032309  \n",
       "1  0.026310  \n",
       "2  0.006748  \n",
       "3  0.006137  \n",
       "4  0.002264  "
      ]
     },
     "execution_count": 82,
     "metadata": {},
     "output_type": "execute_result"
    }
   ],
   "source": [
    "df = pd.DataFrame(columns=parties, data=cls.cluster_centers_)\n",
    "df"
   ]
  },
  {
   "cell_type": "code",
   "execution_count": 83,
   "metadata": {},
   "outputs": [
    {
     "data": {
      "text/plain": [
       "Index(['סמל ועדה', 'שם ישוב', 'סמל ישוב', 'בזב', 'מצביעים', 'פסולים', 'כשרים',\n",
       "       'אמת', 'ג', 'ודעם', 'שס', 'פה', 'מחל', 'טב', 'ל', 'סמל יישוב', 'תעתיק',\n",
       "       'מחוז', 'נפה', 'אזור טבעי', 'מעמד מונציפאלי', 'שיוך מטרופוליני',\n",
       "       'דת יישוב', 'סך הכל אוכלוסייה 2018', 'יהודים ואחרים', 'מזה: יהודים',\n",
       "       'ערבים', 'שנת ייסוד', 'צורת יישוב שוטפת', 'השתייכות ארגונית',\n",
       "       'קואורדינטות', 'גובה', 'ועדת תכנון', 'מרחב משטרה', 'שנה',\n",
       "       'שם יישוב באנגלית', 'אשכול רשויות מקומיות', 'cluster1', 'cluster2',\n",
       "       'cluster3', 'cluster4', 'cluster5', 'cluster6', 'cluster7', 'cluster8',\n",
       "       'cluster9', 'cluster10'],\n",
       "      dtype='object')"
      ]
     },
     "execution_count": 83,
     "metadata": {},
     "output_type": "execute_result"
    }
   ],
   "source": [
    "data2.columns"
   ]
  },
  {
   "cell_type": "code",
   "execution_count": 84,
   "metadata": {},
   "outputs": [
    {
     "data": {
      "text/html": [
       "<div>\n",
       "<style scoped>\n",
       "    .dataframe tbody tr th:only-of-type {\n",
       "        vertical-align: middle;\n",
       "    }\n",
       "\n",
       "    .dataframe tbody tr th {\n",
       "        vertical-align: top;\n",
       "    }\n",
       "\n",
       "    .dataframe thead th {\n",
       "        text-align: right;\n",
       "    }\n",
       "</style>\n",
       "<table border=\"1\" class=\"dataframe\">\n",
       "  <thead>\n",
       "    <tr style=\"text-align: right;\">\n",
       "      <th></th>\n",
       "      <th>סמל ועדה</th>\n",
       "      <th>שם ישוב</th>\n",
       "      <th>סמל ישוב</th>\n",
       "      <th>בזב</th>\n",
       "      <th>מצביעים</th>\n",
       "      <th>פסולים</th>\n",
       "      <th>כשרים</th>\n",
       "      <th>אמת</th>\n",
       "      <th>ג</th>\n",
       "      <th>ודעם</th>\n",
       "      <th>...</th>\n",
       "      <th>cluster1</th>\n",
       "      <th>cluster2</th>\n",
       "      <th>cluster3</th>\n",
       "      <th>cluster4</th>\n",
       "      <th>cluster5</th>\n",
       "      <th>cluster6</th>\n",
       "      <th>cluster7</th>\n",
       "      <th>cluster8</th>\n",
       "      <th>cluster9</th>\n",
       "      <th>cluster10</th>\n",
       "    </tr>\n",
       "  </thead>\n",
       "  <tbody>\n",
       "    <tr>\n",
       "      <th>0</th>\n",
       "      <td>2</td>\n",
       "      <td>אבו גוש</td>\n",
       "      <td>472</td>\n",
       "      <td>4821</td>\n",
       "      <td>2718</td>\n",
       "      <td>36</td>\n",
       "      <td>2682</td>\n",
       "      <td>0.027964</td>\n",
       "      <td>0.001491</td>\n",
       "      <td>0.804251</td>\n",
       "      <td>...</td>\n",
       "      <td>0</td>\n",
       "      <td>0</td>\n",
       "      <td>1</td>\n",
       "      <td>1</td>\n",
       "      <td>2</td>\n",
       "      <td>2</td>\n",
       "      <td>2</td>\n",
       "      <td>2</td>\n",
       "      <td>2</td>\n",
       "      <td>1</td>\n",
       "    </tr>\n",
       "    <tr>\n",
       "      <th>1</th>\n",
       "      <td>6</td>\n",
       "      <td>אבו סנאן</td>\n",
       "      <td>473</td>\n",
       "      <td>9422</td>\n",
       "      <td>6090</td>\n",
       "      <td>53</td>\n",
       "      <td>6037</td>\n",
       "      <td>0.015239</td>\n",
       "      <td>0.000994</td>\n",
       "      <td>0.738446</td>\n",
       "      <td>...</td>\n",
       "      <td>0</td>\n",
       "      <td>0</td>\n",
       "      <td>1</td>\n",
       "      <td>1</td>\n",
       "      <td>2</td>\n",
       "      <td>2</td>\n",
       "      <td>2</td>\n",
       "      <td>2</td>\n",
       "      <td>2</td>\n",
       "      <td>1</td>\n",
       "    </tr>\n",
       "    <tr>\n",
       "      <th>2</th>\n",
       "      <td>18</td>\n",
       "      <td>אבו תלול</td>\n",
       "      <td>1375</td>\n",
       "      <td>943</td>\n",
       "      <td>576</td>\n",
       "      <td>2</td>\n",
       "      <td>574</td>\n",
       "      <td>0.000000</td>\n",
       "      <td>0.000000</td>\n",
       "      <td>0.984321</td>\n",
       "      <td>...</td>\n",
       "      <td>0</td>\n",
       "      <td>0</td>\n",
       "      <td>1</td>\n",
       "      <td>1</td>\n",
       "      <td>2</td>\n",
       "      <td>2</td>\n",
       "      <td>2</td>\n",
       "      <td>2</td>\n",
       "      <td>2</td>\n",
       "      <td>1</td>\n",
       "    </tr>\n",
       "    <tr>\n",
       "      <th>3</th>\n",
       "      <td>8</td>\n",
       "      <td>אבטין</td>\n",
       "      <td>652</td>\n",
       "      <td>1818</td>\n",
       "      <td>1161</td>\n",
       "      <td>10</td>\n",
       "      <td>1151</td>\n",
       "      <td>0.003475</td>\n",
       "      <td>0.000000</td>\n",
       "      <td>0.964379</td>\n",
       "      <td>...</td>\n",
       "      <td>0</td>\n",
       "      <td>0</td>\n",
       "      <td>1</td>\n",
       "      <td>1</td>\n",
       "      <td>2</td>\n",
       "      <td>2</td>\n",
       "      <td>2</td>\n",
       "      <td>2</td>\n",
       "      <td>2</td>\n",
       "      <td>1</td>\n",
       "    </tr>\n",
       "    <tr>\n",
       "      <th>26</th>\n",
       "      <td>18</td>\n",
       "      <td>אום בטין</td>\n",
       "      <td>1358</td>\n",
       "      <td>2011</td>\n",
       "      <td>1158</td>\n",
       "      <td>8</td>\n",
       "      <td>1150</td>\n",
       "      <td>0.002609</td>\n",
       "      <td>0.000000</td>\n",
       "      <td>0.978261</td>\n",
       "      <td>...</td>\n",
       "      <td>0</td>\n",
       "      <td>0</td>\n",
       "      <td>1</td>\n",
       "      <td>1</td>\n",
       "      <td>2</td>\n",
       "      <td>2</td>\n",
       "      <td>2</td>\n",
       "      <td>2</td>\n",
       "      <td>2</td>\n",
       "      <td>1</td>\n",
       "    </tr>\n",
       "    <tr>\n",
       "      <th>...</th>\n",
       "      <td>...</td>\n",
       "      <td>...</td>\n",
       "      <td>...</td>\n",
       "      <td>...</td>\n",
       "      <td>...</td>\n",
       "      <td>...</td>\n",
       "      <td>...</td>\n",
       "      <td>...</td>\n",
       "      <td>...</td>\n",
       "      <td>...</td>\n",
       "      <td>...</td>\n",
       "      <td>...</td>\n",
       "      <td>...</td>\n",
       "      <td>...</td>\n",
       "      <td>...</td>\n",
       "      <td>...</td>\n",
       "      <td>...</td>\n",
       "      <td>...</td>\n",
       "      <td>...</td>\n",
       "      <td>...</td>\n",
       "      <td>...</td>\n",
       "    </tr>\n",
       "    <tr>\n",
       "      <th>910</th>\n",
       "      <td>5</td>\n",
       "      <td>רומת הייב</td>\n",
       "      <td>997</td>\n",
       "      <td>1368</td>\n",
       "      <td>651</td>\n",
       "      <td>3</td>\n",
       "      <td>648</td>\n",
       "      <td>0.228395</td>\n",
       "      <td>0.000000</td>\n",
       "      <td>0.575617</td>\n",
       "      <td>...</td>\n",
       "      <td>0</td>\n",
       "      <td>0</td>\n",
       "      <td>1</td>\n",
       "      <td>1</td>\n",
       "      <td>2</td>\n",
       "      <td>2</td>\n",
       "      <td>2</td>\n",
       "      <td>2</td>\n",
       "      <td>2</td>\n",
       "      <td>1</td>\n",
       "    </tr>\n",
       "    <tr>\n",
       "      <th>916</th>\n",
       "      <td>5</td>\n",
       "      <td>ריינה</td>\n",
       "      <td>542</td>\n",
       "      <td>11436</td>\n",
       "      <td>7764</td>\n",
       "      <td>58</td>\n",
       "      <td>7706</td>\n",
       "      <td>0.007916</td>\n",
       "      <td>0.000389</td>\n",
       "      <td>0.970023</td>\n",
       "      <td>...</td>\n",
       "      <td>0</td>\n",
       "      <td>0</td>\n",
       "      <td>1</td>\n",
       "      <td>1</td>\n",
       "      <td>2</td>\n",
       "      <td>2</td>\n",
       "      <td>2</td>\n",
       "      <td>2</td>\n",
       "      <td>2</td>\n",
       "      <td>1</td>\n",
       "    </tr>\n",
       "    <tr>\n",
       "      <th>997</th>\n",
       "      <td>6</td>\n",
       "      <td>שעב</td>\n",
       "      <td>538</td>\n",
       "      <td>4868</td>\n",
       "      <td>3800</td>\n",
       "      <td>13</td>\n",
       "      <td>3787</td>\n",
       "      <td>0.002641</td>\n",
       "      <td>0.001056</td>\n",
       "      <td>0.980459</td>\n",
       "      <td>...</td>\n",
       "      <td>0</td>\n",
       "      <td>0</td>\n",
       "      <td>1</td>\n",
       "      <td>1</td>\n",
       "      <td>2</td>\n",
       "      <td>2</td>\n",
       "      <td>2</td>\n",
       "      <td>2</td>\n",
       "      <td>2</td>\n",
       "      <td>1</td>\n",
       "    </tr>\n",
       "    <tr>\n",
       "      <th>1008</th>\n",
       "      <td>6</td>\n",
       "      <td>שפרעם</td>\n",
       "      <td>8800</td>\n",
       "      <td>29120</td>\n",
       "      <td>19200</td>\n",
       "      <td>168</td>\n",
       "      <td>19032</td>\n",
       "      <td>0.012978</td>\n",
       "      <td>0.000210</td>\n",
       "      <td>0.830969</td>\n",
       "      <td>...</td>\n",
       "      <td>0</td>\n",
       "      <td>0</td>\n",
       "      <td>1</td>\n",
       "      <td>1</td>\n",
       "      <td>2</td>\n",
       "      <td>2</td>\n",
       "      <td>2</td>\n",
       "      <td>2</td>\n",
       "      <td>2</td>\n",
       "      <td>1</td>\n",
       "    </tr>\n",
       "    <tr>\n",
       "      <th>1027</th>\n",
       "      <td>18</td>\n",
       "      <td>תל שבע</td>\n",
       "      <td>1054</td>\n",
       "      <td>9683</td>\n",
       "      <td>5575</td>\n",
       "      <td>44</td>\n",
       "      <td>5531</td>\n",
       "      <td>0.004158</td>\n",
       "      <td>0.000181</td>\n",
       "      <td>0.978847</td>\n",
       "      <td>...</td>\n",
       "      <td>0</td>\n",
       "      <td>0</td>\n",
       "      <td>1</td>\n",
       "      <td>1</td>\n",
       "      <td>2</td>\n",
       "      <td>2</td>\n",
       "      <td>2</td>\n",
       "      <td>2</td>\n",
       "      <td>2</td>\n",
       "      <td>1</td>\n",
       "    </tr>\n",
       "  </tbody>\n",
       "</table>\n",
       "<p>74 rows × 47 columns</p>\n",
       "</div>"
      ],
      "text/plain": [
       "      סמל ועדה    שם ישוב  סמל ישוב    בזב  מצביעים  פסולים  כשרים       אמת  \\\n",
       "0            2    אבו גוש       472   4821     2718      36   2682  0.027964   \n",
       "1            6   אבו סנאן       473   9422     6090      53   6037  0.015239   \n",
       "2           18   אבו תלול      1375    943      576       2    574  0.000000   \n",
       "3            8      אבטין       652   1818     1161      10   1151  0.003475   \n",
       "26          18   אום בטין      1358   2011     1158       8   1150  0.002609   \n",
       "...        ...        ...       ...    ...      ...     ...    ...       ...   \n",
       "910          5  רומת הייב       997   1368      651       3    648  0.228395   \n",
       "916          5      ריינה       542  11436     7764      58   7706  0.007916   \n",
       "997          6        שעב       538   4868     3800      13   3787  0.002641   \n",
       "1008         6      שפרעם      8800  29120    19200     168  19032  0.012978   \n",
       "1027        18     תל שבע      1054   9683     5575      44   5531  0.004158   \n",
       "\n",
       "             ג      ודעם  ...  cluster1  cluster2  cluster3  cluster4  \\\n",
       "0     0.001491  0.804251  ...         0         0         1         1   \n",
       "1     0.000994  0.738446  ...         0         0         1         1   \n",
       "2     0.000000  0.984321  ...         0         0         1         1   \n",
       "3     0.000000  0.964379  ...         0         0         1         1   \n",
       "26    0.000000  0.978261  ...         0         0         1         1   \n",
       "...        ...       ...  ...       ...       ...       ...       ...   \n",
       "910   0.000000  0.575617  ...         0         0         1         1   \n",
       "916   0.000389  0.970023  ...         0         0         1         1   \n",
       "997   0.001056  0.980459  ...         0         0         1         1   \n",
       "1008  0.000210  0.830969  ...         0         0         1         1   \n",
       "1027  0.000181  0.978847  ...         0         0         1         1   \n",
       "\n",
       "      cluster5  cluster6 cluster7  cluster8  cluster9  cluster10  \n",
       "0            2         2        2         2         2          1  \n",
       "1            2         2        2         2         2          1  \n",
       "2            2         2        2         2         2          1  \n",
       "3            2         2        2         2         2          1  \n",
       "26           2         2        2         2         2          1  \n",
       "...        ...       ...      ...       ...       ...        ...  \n",
       "910          2         2        2         2         2          1  \n",
       "916          2         2        2         2         2          1  \n",
       "997          2         2        2         2         2          1  \n",
       "1008         2         2        2         2         2          1  \n",
       "1027         2         2        2         2         2          1  \n",
       "\n",
       "[74 rows x 47 columns]"
      ]
     },
     "execution_count": 84,
     "metadata": {},
     "output_type": "execute_result"
    }
   ],
   "source": [
    "data2[data2.cluster5==2] "
   ]
  },
  {
   "cell_type": "code",
   "execution_count": 85,
   "metadata": {},
   "outputs": [
    {
     "data": {
      "text/plain": [
       "Index(['סמל ועדה', 'שם ישוב', 'סמל ישוב', 'בזב', 'מצביעים', 'פסולים', 'כשרים',\n",
       "       'אמת', 'ג', 'ודעם', 'שס', 'פה', 'מחל', 'טב', 'ל', 'סמל יישוב', 'תעתיק',\n",
       "       'מחוז', 'נפה', 'אזור טבעי', 'מעמד מונציפאלי', 'שיוך מטרופוליני',\n",
       "       'דת יישוב', 'סך הכל אוכלוסייה 2018', 'יהודים ואחרים', 'מזה: יהודים',\n",
       "       'ערבים', 'שנת ייסוד', 'צורת יישוב שוטפת', 'השתייכות ארגונית',\n",
       "       'קואורדינטות', 'גובה', 'ועדת תכנון', 'מרחב משטרה', 'שנה',\n",
       "       'שם יישוב באנגלית', 'אשכול רשויות מקומיות', 'cluster1', 'cluster2',\n",
       "       'cluster3', 'cluster4', 'cluster5', 'cluster6', 'cluster7', 'cluster8',\n",
       "       'cluster9', 'cluster10'],\n",
       "      dtype='object')"
      ]
     },
     "execution_count": 85,
     "metadata": {},
     "output_type": "execute_result"
    }
   ],
   "source": [
    "data2.columns"
   ]
  },
  {
   "cell_type": "markdown",
   "metadata": {},
   "source": [
    "# GMM"
   ]
  },
  {
   "cell_type": "code",
   "execution_count": null,
   "metadata": {},
   "outputs": [],
   "source": [
    "\n",
    "\n",
    "data2=data2.iloc[:,:47]\n",
    "k_values=np.arange(1, 21, 1)\n",
    "cluster_means =[]\n",
    "for i in range(len(k_values)):\n",
    "    cls = GaussianMixture(n_components=k_values[i], random_state=RSEED).fit(X=data2[parties].values)\n",
    "#cls.predict(data2[parties].values)\n",
    "    data2.insert(data2.shape[1], \"GMM\"+str(k_values[i]), cls.predict(data2[parties].values), True)\n",
    "    cluster_means.append(cls.means_)\n",
    "    \n",
    "\n",
    "cls.means_"
   ]
  },
  {
   "cell_type": "code",
   "execution_count": 88,
   "metadata": {},
   "outputs": [],
   "source": [
    "Y = GaussianMixture(n_components=9, random_state=RSEED).fit_predict(X=data2[parties].values)"
   ]
  },
  {
   "cell_type": "code",
   "execution_count": 89,
   "metadata": {},
   "outputs": [
    {
     "data": {
      "text/plain": [
       "(array([0, 1, 2, 3, 4, 5, 6, 7, 8], dtype=int64),\n",
       " array([305,  74,  40,  99,  52,  55, 227,  50, 141], dtype=int64))"
      ]
     },
     "execution_count": 89,
     "metadata": {},
     "output_type": "execute_result"
    }
   ],
   "source": [
    "np.unique(Y,return_counts=True)"
   ]
  },
  {
   "cell_type": "code",
   "execution_count": 90,
   "metadata": {},
   "outputs": [
    {
     "data": {
      "text/plain": [
       "2.0953618145296726"
      ]
     },
     "execution_count": 90,
     "metadata": {},
     "output_type": "execute_result"
    }
   ],
   "source": [
    "davies_bouldin_score(data2[parties],Y)"
   ]
  },
  {
   "cell_type": "code",
   "execution_count": 91,
   "metadata": {},
   "outputs": [],
   "source": [
    "for j in range (1,21) :\n",
    "    gmmcol = \"GMM\"+str(j)\n",
    "    distcol = \"dist\"+str(j)\n",
    "    data2[distcol]=0\n",
    "    values=[]\n",
    "    for i in range (data2.shape[0]):  \n",
    "      center=cluster_means[j-1][data2[gmmcol][i],:]\n",
    "      coordinate=data2[parties].iloc[i,:].values\n",
    "      values.append(sum((coordinate-center)**2))\n",
    "    data2[distcol]=values\n",
    "   "
   ]
  },
  {
   "cell_type": "code",
   "execution_count": 92,
   "metadata": {},
   "outputs": [],
   "source": [
    "dist = [\"dist\"+str(j) for j in range(1,21)]\n",
    "GMMDistanceToCenter=data2[dist].mean(axis=0)"
   ]
  },
  {
   "cell_type": "code",
   "execution_count": 93,
   "metadata": {},
   "outputs": [
    {
     "data": {
      "text/plain": [
       "0    0.019048\n",
       "1    0.038389\n",
       "2    0.008241\n",
       "3    0.004678\n",
       "4    0.024684\n",
       "Name: dist9, dtype: float64"
      ]
     },
     "execution_count": 93,
     "metadata": {},
     "output_type": "execute_result"
    }
   ],
   "source": [
    "data2[\"dist9\"].head()"
   ]
  },
  {
   "cell_type": "code",
   "execution_count": 94,
   "metadata": {},
   "outputs": [
    {
     "data": {
      "image/png": "[encoded data removed]",
      "text/plain": [
       "<Figure size 432x288 with 1 Axes>"
      ]
     },
     "metadata": {
      "needs_background": "light"
     },
     "output_type": "display_data"
    }
   ],
   "source": [
    "plt.figure()\n",
    "plt.title(f\"elbow curve for GMM clustering of relative votes kneset 23\")\n",
    "plt.xlabel(\"N CLUSTERS\")\n",
    "plt.ylabel(\"GMM DISTANCE TO CENTER\")\n",
    "plt.plot(k_values, GMMDistanceToCenter, \".-\")\n",
    "plt.show()"
   ]
  },
  {
   "cell_type": "markdown",
   "metadata": {},
   "source": [
    "# Adaboost - סעיף 5\n",
    "* נתוני קלט: השורות משתי הבחירות הראשונות של כל היישובים למעט היישובים  ירושלים, בני ברק, סכנין, כרמיאל, ודאלית אל כרמל\n",
    "* נשתמש באותן תכונות של הערים כמו ב random forest"
   ]
  },
  {
   "cell_type": "code",
   "execution_count": 95,
   "metadata": {},
   "outputs": [
    {
     "data": {
      "text/plain": [
       "['דאלית אל-כרמל', 'דאלית אל-כרמל', 'דאלית אלכרמל']"
      ]
     },
     "execution_count": 95,
     "metadata": {},
     "output_type": "execute_result"
    }
   ],
   "source": [
    "sum(knesset_cities['שם ישוב'].map(lambda x: [x] if x.startswith('דאל') else []),[])"
   ]
  },
  {
   "cell_type": "code",
   "execution_count": 96,
   "metadata": {},
   "outputs": [
    {
     "name": "stdout",
     "output_type": "stream",
     "text": [
      "ירושלים 3000\n",
      "בני ברק 6100\n",
      "סחנין 7500\n",
      "כרמיאל 1139\n",
      "דאלית אל-כרמל 494\n"
     ]
    }
   ],
   "source": [
    "city_codes = dict(zip(knesset_cities['שם ישוב'],knesset_cities['סמל ישוב']))\n",
    "for town in  'ירושלים, בני ברק, סחנין, כרמיאל, דאלית אל-כרמל'.replace(', ',',').split(','):\n",
    "    print(town, city_codes[town])"
   ]
  },
  {
   "cell_type": "code",
   "execution_count": 97,
   "metadata": {},
   "outputs": [],
   "source": [
    "percent_likud = knesset_cities['מחל'].values /  knesset_cities['כשרים'].values\n",
    "percent_kahol_lavan = knesset_cities['פה'].values /  knesset_cities['כשרים'].values\n",
    "percent_arab = knesset_cities['ודעם'].values /  knesset_cities['כשרים'].values"
   ]
  },
  {
   "cell_type": "code",
   "execution_count": 98,
   "metadata": {},
   "outputs": [
    {
     "data": {
      "image/png": "[encoded data removed]",
      "text/plain": [
       "<Figure size 432x288 with 1 Axes>"
      ]
     },
     "metadata": {
      "needs_background": "light"
     },
     "output_type": "display_data"
    }
   ],
   "source": [
    "percent_jewish = knesset_cities['מזה: יהודים'].fillna(0).values / knesset_cities['סך הכל אוכלוסייה 2018'].fillna(1).values\n",
    "plt.hist(percent_jewish,bins=20);"
   ]
  },
  {
   "cell_type": "code",
   "execution_count": 103,
   "metadata": {},
   "outputs": [
    {
     "name": "stdout",
     "output_type": "stream",
     "text": [
      "(3636, 146)\n"
     ]
    }
   ],
   "source": [
    "categorical_cols_for_rf = ['צורת יישוב שוטפת', 'מעמד מונציפאלי', 'מחוז','אזור טבעי','דת יישוב']\n",
    "\n",
    "categorical_onehot = OneHotEncoder(sparse=False).fit_transform(knesset_cities[categorical_cols_for_rf].fillna(0))\n",
    "print(categorical_onehot.shape)\n"
   ]
  },
  {
   "cell_type": "code",
   "execution_count": 104,
   "metadata": {},
   "outputs": [
    {
     "data": {
      "text/html": [
       "<div>\n",
       "<style scoped>\n",
       "    .dataframe tbody tr th:only-of-type {\n",
       "        vertical-align: middle;\n",
       "    }\n",
       "\n",
       "    .dataframe tbody tr th {\n",
       "        vertical-align: top;\n",
       "    }\n",
       "\n",
       "    .dataframe thead th {\n",
       "        text-align: right;\n",
       "    }\n",
       "</style>\n",
       "<table border=\"1\" class=\"dataframe\">\n",
       "  <thead>\n",
       "    <tr style=\"text-align: right;\">\n",
       "      <th></th>\n",
       "      <th>knesset</th>\n",
       "      <th>שם ישוב</th>\n",
       "      <th>סמל ישוב</th>\n",
       "      <th>בזב</th>\n",
       "      <th>מצביעים</th>\n",
       "      <th>פסולים</th>\n",
       "      <th>כשרים</th>\n",
       "      <th>אמת</th>\n",
       "      <th>ג</th>\n",
       "      <th>ודעם</th>\n",
       "      <th>...</th>\n",
       "      <th>מחוז</th>\n",
       "      <th>נפה</th>\n",
       "      <th>מעמד מונציפאלי</th>\n",
       "      <th>דת יישוב</th>\n",
       "      <th>סך הכל אוכלוסייה 2018</th>\n",
       "      <th>מזה: יהודים</th>\n",
       "      <th>ערבים</th>\n",
       "      <th>אזור טבעי</th>\n",
       "      <th>שם יישוב באנגלית</th>\n",
       "      <th>צורת יישוב שוטפת</th>\n",
       "    </tr>\n",
       "  </thead>\n",
       "  <tbody>\n",
       "  </tbody>\n",
       "</table>\n",
       "<p>0 rows × 31 columns</p>\n",
       "</div>"
      ],
      "text/plain": [
       "Empty DataFrame\n",
       "Columns: [knesset, שם ישוב, סמל ישוב, בזב, מצביעים, פסולים, כשרים, אמת, ג, ודעם, טב, ל, מחל, פה, שס, bloc_right, bloc_center, bloc_left, bloc_rest, שם יישוב, סמל יישוב, מחוז, נפה, מעמד מונציפאלי, דת יישוב, סך הכל אוכלוסייה 2018, מזה: יהודים, ערבים, אזור טבעי, שם יישוב באנגלית, צורת יישוב שוטפת]\n",
       "Index: []\n",
       "\n",
       "[0 rows x 31 columns]"
      ]
     },
     "execution_count": 104,
     "metadata": {},
     "output_type": "execute_result"
    }
   ],
   "source": [
    "# יש ישובים בלי נתוני אוכלוסיה\n",
    "# כדי למנוע nan\n",
    "# הכנסתי בהם ערך של 1\n",
    "\n",
    "knesset_cities[np.isnan(percent_jewish)]"
   ]
  },
  {
   "cell_type": "code",
   "execution_count": 105,
   "metadata": {},
   "outputs": [],
   "source": [
    "# הוצאת היישובים שהם test מהדאטה\n",
    "# חלוקה אקראית של רשימת הישובים הנותרים לtrain, validation"
   ]
  },
  {
   "cell_type": "code",
   "execution_count": 145,
   "metadata": {},
   "outputs": [
    {
     "data": {
      "text/html": [
       "<div>\n",
       "<style scoped>\n",
       "    .dataframe tbody tr th:only-of-type {\n",
       "        vertical-align: middle;\n",
       "    }\n",
       "\n",
       "    .dataframe tbody tr th {\n",
       "        vertical-align: top;\n",
       "    }\n",
       "\n",
       "    .dataframe thead th {\n",
       "        text-align: right;\n",
       "    }\n",
       "</style>\n",
       "<table border=\"1\" class=\"dataframe\">\n",
       "  <thead>\n",
       "    <tr style=\"text-align: right;\">\n",
       "      <th></th>\n",
       "      <th>knesset</th>\n",
       "      <th>שם ישוב</th>\n",
       "      <th>סמל ישוב</th>\n",
       "      <th>בזב</th>\n",
       "      <th>מצביעים</th>\n",
       "      <th>פסולים</th>\n",
       "      <th>כשרים</th>\n",
       "      <th>אמת</th>\n",
       "      <th>ג</th>\n",
       "      <th>ודעם</th>\n",
       "      <th>...</th>\n",
       "      <th>נפה</th>\n",
       "      <th>מעמד מונציפאלי</th>\n",
       "      <th>דת יישוב</th>\n",
       "      <th>סך הכל אוכלוסייה 2018</th>\n",
       "      <th>מזה: יהודים</th>\n",
       "      <th>ערבים</th>\n",
       "      <th>אזור טבעי</th>\n",
       "      <th>שם יישוב באנגלית</th>\n",
       "      <th>צורת יישוב שוטפת</th>\n",
       "      <th>town_set</th>\n",
       "    </tr>\n",
       "  </thead>\n",
       "  <tbody>\n",
       "    <tr>\n",
       "      <th>1050</th>\n",
       "      <td>21</td>\n",
       "      <td>דאלית אל-כרמל</td>\n",
       "      <td>494</td>\n",
       "      <td>12488</td>\n",
       "      <td>7464</td>\n",
       "      <td>60</td>\n",
       "      <td>7404</td>\n",
       "      <td>760</td>\n",
       "      <td>1</td>\n",
       "      <td>152</td>\n",
       "      <td>...</td>\n",
       "      <td>31</td>\n",
       "      <td>99.0</td>\n",
       "      <td>2.0</td>\n",
       "      <td>17427.0</td>\n",
       "      <td>33.0</td>\n",
       "      <td>17382.0</td>\n",
       "      <td>311.0</td>\n",
       "      <td>Daliyat Al-Karmel</td>\n",
       "      <td>270</td>\n",
       "      <td>test</td>\n",
       "    </tr>\n",
       "    <tr>\n",
       "      <th>1051</th>\n",
       "      <td>22</td>\n",
       "      <td>דאלית אל-כרמל</td>\n",
       "      <td>494</td>\n",
       "      <td>12579</td>\n",
       "      <td>7463</td>\n",
       "      <td>47</td>\n",
       "      <td>7416</td>\n",
       "      <td>629</td>\n",
       "      <td>3</td>\n",
       "      <td>333</td>\n",
       "      <td>...</td>\n",
       "      <td>31</td>\n",
       "      <td>99.0</td>\n",
       "      <td>2.0</td>\n",
       "      <td>17427.0</td>\n",
       "      <td>33.0</td>\n",
       "      <td>17382.0</td>\n",
       "      <td>311.0</td>\n",
       "      <td>Daliyat Al-Karmel</td>\n",
       "      <td>270</td>\n",
       "      <td>test</td>\n",
       "    </tr>\n",
       "    <tr>\n",
       "      <th>1052</th>\n",
       "      <td>23</td>\n",
       "      <td>דאלית אלכרמל</td>\n",
       "      <td>494</td>\n",
       "      <td>12693</td>\n",
       "      <td>7150</td>\n",
       "      <td>48</td>\n",
       "      <td>7102</td>\n",
       "      <td>481</td>\n",
       "      <td>1</td>\n",
       "      <td>650</td>\n",
       "      <td>...</td>\n",
       "      <td>31</td>\n",
       "      <td>99.0</td>\n",
       "      <td>2.0</td>\n",
       "      <td>17427.0</td>\n",
       "      <td>33.0</td>\n",
       "      <td>17382.0</td>\n",
       "      <td>311.0</td>\n",
       "      <td>Daliyat Al-Karmel</td>\n",
       "      <td>270</td>\n",
       "      <td>test</td>\n",
       "    </tr>\n",
       "    <tr>\n",
       "      <th>2271</th>\n",
       "      <td>21</td>\n",
       "      <td>כרמיאל</td>\n",
       "      <td>1139</td>\n",
       "      <td>41234</td>\n",
       "      <td>24970</td>\n",
       "      <td>259</td>\n",
       "      <td>24711</td>\n",
       "      <td>1213</td>\n",
       "      <td>695</td>\n",
       "      <td>232</td>\n",
       "      <td>...</td>\n",
       "      <td>24</td>\n",
       "      <td>0.0</td>\n",
       "      <td>1.0</td>\n",
       "      <td>46124.0</td>\n",
       "      <td>37330.0</td>\n",
       "      <td>1507.0</td>\n",
       "      <td>242.0</td>\n",
       "      <td>Karmi'el</td>\n",
       "      <td>160</td>\n",
       "      <td>test</td>\n",
       "    </tr>\n",
       "    <tr>\n",
       "      <th>2272</th>\n",
       "      <td>22</td>\n",
       "      <td>כרמיאל</td>\n",
       "      <td>1139</td>\n",
       "      <td>41395</td>\n",
       "      <td>24549</td>\n",
       "      <td>233</td>\n",
       "      <td>24316</td>\n",
       "      <td>1398</td>\n",
       "      <td>780</td>\n",
       "      <td>348</td>\n",
       "      <td>...</td>\n",
       "      <td>24</td>\n",
       "      <td>0.0</td>\n",
       "      <td>1.0</td>\n",
       "      <td>46124.0</td>\n",
       "      <td>37330.0</td>\n",
       "      <td>1507.0</td>\n",
       "      <td>242.0</td>\n",
       "      <td>Karmi'el</td>\n",
       "      <td>160</td>\n",
       "      <td>test</td>\n",
       "    </tr>\n",
       "    <tr>\n",
       "      <th>2273</th>\n",
       "      <td>23</td>\n",
       "      <td>כרמיאל</td>\n",
       "      <td>1139</td>\n",
       "      <td>41328</td>\n",
       "      <td>24537</td>\n",
       "      <td>167</td>\n",
       "      <td>24370</td>\n",
       "      <td>822</td>\n",
       "      <td>807</td>\n",
       "      <td>468</td>\n",
       "      <td>...</td>\n",
       "      <td>24</td>\n",
       "      <td>0.0</td>\n",
       "      <td>1.0</td>\n",
       "      <td>46124.0</td>\n",
       "      <td>37330.0</td>\n",
       "      <td>1507.0</td>\n",
       "      <td>242.0</td>\n",
       "      <td>Karmi'el</td>\n",
       "      <td>160</td>\n",
       "      <td>test</td>\n",
       "    </tr>\n",
       "    <tr>\n",
       "      <th>3030</th>\n",
       "      <td>21</td>\n",
       "      <td>ירושלים</td>\n",
       "      <td>3000</td>\n",
       "      <td>410258</td>\n",
       "      <td>262103</td>\n",
       "      <td>2054</td>\n",
       "      <td>260049</td>\n",
       "      <td>16194</td>\n",
       "      <td>60632</td>\n",
       "      <td>2147</td>\n",
       "      <td>...</td>\n",
       "      <td>11</td>\n",
       "      <td>0.0</td>\n",
       "      <td>4.0</td>\n",
       "      <td>919438.0</td>\n",
       "      <td>555845.0</td>\n",
       "      <td>349572.0</td>\n",
       "      <td>111.0</td>\n",
       "      <td>Jerusalem</td>\n",
       "      <td>120</td>\n",
       "      <td>test</td>\n",
       "    </tr>\n",
       "    <tr>\n",
       "      <th>3031</th>\n",
       "      <td>22</td>\n",
       "      <td>ירושלים</td>\n",
       "      <td>3000</td>\n",
       "      <td>413140</td>\n",
       "      <td>261817</td>\n",
       "      <td>1840</td>\n",
       "      <td>259977</td>\n",
       "      <td>18237</td>\n",
       "      <td>64937</td>\n",
       "      <td>3582</td>\n",
       "      <td>...</td>\n",
       "      <td>11</td>\n",
       "      <td>0.0</td>\n",
       "      <td>4.0</td>\n",
       "      <td>919438.0</td>\n",
       "      <td>555845.0</td>\n",
       "      <td>349572.0</td>\n",
       "      <td>111.0</td>\n",
       "      <td>Jerusalem</td>\n",
       "      <td>120</td>\n",
       "      <td>test</td>\n",
       "    </tr>\n",
       "    <tr>\n",
       "      <th>3032</th>\n",
       "      <td>23</td>\n",
       "      <td>ירושלים</td>\n",
       "      <td>3000</td>\n",
       "      <td>415991</td>\n",
       "      <td>263214</td>\n",
       "      <td>1625</td>\n",
       "      <td>261589</td>\n",
       "      <td>12919</td>\n",
       "      <td>63782</td>\n",
       "      <td>5321</td>\n",
       "      <td>...</td>\n",
       "      <td>11</td>\n",
       "      <td>0.0</td>\n",
       "      <td>4.0</td>\n",
       "      <td>919438.0</td>\n",
       "      <td>555845.0</td>\n",
       "      <td>349572.0</td>\n",
       "      <td>111.0</td>\n",
       "      <td>Jerusalem</td>\n",
       "      <td>120</td>\n",
       "      <td>test</td>\n",
       "    </tr>\n",
       "    <tr>\n",
       "      <th>3523</th>\n",
       "      <td>21</td>\n",
       "      <td>בני ברק</td>\n",
       "      <td>6100</td>\n",
       "      <td>109000</td>\n",
       "      <td>84202</td>\n",
       "      <td>1398</td>\n",
       "      <td>82804</td>\n",
       "      <td>318</td>\n",
       "      <td>51178</td>\n",
       "      <td>16</td>\n",
       "      <td>...</td>\n",
       "      <td>52</td>\n",
       "      <td>0.0</td>\n",
       "      <td>1.0</td>\n",
       "      <td>198863.0</td>\n",
       "      <td>197439.0</td>\n",
       "      <td>64.0</td>\n",
       "      <td>512.0</td>\n",
       "      <td>Bene Beraq</td>\n",
       "      <td>140</td>\n",
       "      <td>test</td>\n",
       "    </tr>\n",
       "    <tr>\n",
       "      <th>3524</th>\n",
       "      <td>22</td>\n",
       "      <td>בני ברק</td>\n",
       "      <td>6100</td>\n",
       "      <td>110049</td>\n",
       "      <td>85032</td>\n",
       "      <td>1104</td>\n",
       "      <td>83928</td>\n",
       "      <td>501</td>\n",
       "      <td>51433</td>\n",
       "      <td>16</td>\n",
       "      <td>...</td>\n",
       "      <td>52</td>\n",
       "      <td>0.0</td>\n",
       "      <td>1.0</td>\n",
       "      <td>198863.0</td>\n",
       "      <td>197439.0</td>\n",
       "      <td>64.0</td>\n",
       "      <td>512.0</td>\n",
       "      <td>Bene Beraq</td>\n",
       "      <td>140</td>\n",
       "      <td>test</td>\n",
       "    </tr>\n",
       "    <tr>\n",
       "      <th>3525</th>\n",
       "      <td>23</td>\n",
       "      <td>בני ברק</td>\n",
       "      <td>6100</td>\n",
       "      <td>111344</td>\n",
       "      <td>85775</td>\n",
       "      <td>929</td>\n",
       "      <td>84846</td>\n",
       "      <td>314</td>\n",
       "      <td>51922</td>\n",
       "      <td>22</td>\n",
       "      <td>...</td>\n",
       "      <td>52</td>\n",
       "      <td>0.0</td>\n",
       "      <td>1.0</td>\n",
       "      <td>198863.0</td>\n",
       "      <td>197439.0</td>\n",
       "      <td>64.0</td>\n",
       "      <td>512.0</td>\n",
       "      <td>Bene Beraq</td>\n",
       "      <td>140</td>\n",
       "      <td>test</td>\n",
       "    </tr>\n",
       "    <tr>\n",
       "      <th>3565</th>\n",
       "      <td>21</td>\n",
       "      <td>סח'נין</td>\n",
       "      <td>7500</td>\n",
       "      <td>21019</td>\n",
       "      <td>17106</td>\n",
       "      <td>84</td>\n",
       "      <td>17022</td>\n",
       "      <td>496</td>\n",
       "      <td>14</td>\n",
       "      <td>16104</td>\n",
       "      <td>...</td>\n",
       "      <td>24</td>\n",
       "      <td>0.0</td>\n",
       "      <td>2.0</td>\n",
       "      <td>31057.0</td>\n",
       "      <td>9.0</td>\n",
       "      <td>31031.0</td>\n",
       "      <td>241.0</td>\n",
       "      <td>Sakhnin</td>\n",
       "      <td>260</td>\n",
       "      <td>test</td>\n",
       "    </tr>\n",
       "    <tr>\n",
       "      <th>3566</th>\n",
       "      <td>22</td>\n",
       "      <td>סח'נין</td>\n",
       "      <td>7500</td>\n",
       "      <td>20567</td>\n",
       "      <td>14829</td>\n",
       "      <td>185</td>\n",
       "      <td>14644</td>\n",
       "      <td>667</td>\n",
       "      <td>21</td>\n",
       "      <td>13115</td>\n",
       "      <td>...</td>\n",
       "      <td>24</td>\n",
       "      <td>0.0</td>\n",
       "      <td>2.0</td>\n",
       "      <td>31057.0</td>\n",
       "      <td>9.0</td>\n",
       "      <td>31031.0</td>\n",
       "      <td>241.0</td>\n",
       "      <td>Sakhnin</td>\n",
       "      <td>260</td>\n",
       "      <td>test</td>\n",
       "    </tr>\n",
       "    <tr>\n",
       "      <th>3567</th>\n",
       "      <td>23</td>\n",
       "      <td>סחנין</td>\n",
       "      <td>7500</td>\n",
       "      <td>21624</td>\n",
       "      <td>17136</td>\n",
       "      <td>51</td>\n",
       "      <td>17085</td>\n",
       "      <td>257</td>\n",
       "      <td>9</td>\n",
       "      <td>16610</td>\n",
       "      <td>...</td>\n",
       "      <td>24</td>\n",
       "      <td>0.0</td>\n",
       "      <td>2.0</td>\n",
       "      <td>31057.0</td>\n",
       "      <td>9.0</td>\n",
       "      <td>31031.0</td>\n",
       "      <td>241.0</td>\n",
       "      <td>Sakhnin</td>\n",
       "      <td>260</td>\n",
       "      <td>test</td>\n",
       "    </tr>\n",
       "  </tbody>\n",
       "</table>\n",
       "<p>15 rows × 32 columns</p>\n",
       "</div>"
      ],
      "text/plain": [
       "     knesset        שם ישוב סמל ישוב     בזב מצביעים פסולים   כשרים    אמת  \\\n",
       "1050      21  דאלית אל-כרמל      494   12488    7464     60    7404    760   \n",
       "1051      22  דאלית אל-כרמל      494   12579    7463     47    7416    629   \n",
       "1052      23   דאלית אלכרמל      494   12693    7150     48    7102    481   \n",
       "2271      21         כרמיאל     1139   41234   24970    259   24711   1213   \n",
       "2272      22         כרמיאל     1139   41395   24549    233   24316   1398   \n",
       "2273      23         כרמיאל     1139   41328   24537    167   24370    822   \n",
       "3030      21        ירושלים     3000  410258  262103   2054  260049  16194   \n",
       "3031      22        ירושלים     3000  413140  261817   1840  259977  18237   \n",
       "3032      23        ירושלים     3000  415991  263214   1625  261589  12919   \n",
       "3523      21        בני ברק     6100  109000   84202   1398   82804    318   \n",
       "3524      22        בני ברק     6100  110049   85032   1104   83928    501   \n",
       "3525      23        בני ברק     6100  111344   85775    929   84846    314   \n",
       "3565      21         סח'נין     7500   21019   17106     84   17022    496   \n",
       "3566      22         סח'נין     7500   20567   14829    185   14644    667   \n",
       "3567      23          סחנין     7500   21624   17136     51   17085    257   \n",
       "\n",
       "          ג   ודעם  ... נפה מעמד מונציפאלי דת יישוב סך הכל אוכלוסייה 2018  \\\n",
       "1050      1    152  ...  31           99.0      2.0               17427.0   \n",
       "1051      3    333  ...  31           99.0      2.0               17427.0   \n",
       "1052      1    650  ...  31           99.0      2.0               17427.0   \n",
       "2271    695    232  ...  24            0.0      1.0               46124.0   \n",
       "2272    780    348  ...  24            0.0      1.0               46124.0   \n",
       "2273    807    468  ...  24            0.0      1.0               46124.0   \n",
       "3030  60632   2147  ...  11            0.0      4.0              919438.0   \n",
       "3031  64937   3582  ...  11            0.0      4.0              919438.0   \n",
       "3032  63782   5321  ...  11            0.0      4.0              919438.0   \n",
       "3523  51178     16  ...  52            0.0      1.0              198863.0   \n",
       "3524  51433     16  ...  52            0.0      1.0              198863.0   \n",
       "3525  51922     22  ...  52            0.0      1.0              198863.0   \n",
       "3565     14  16104  ...  24            0.0      2.0               31057.0   \n",
       "3566     21  13115  ...  24            0.0      2.0               31057.0   \n",
       "3567      9  16610  ...  24            0.0      2.0               31057.0   \n",
       "\n",
       "     מזה: יהודים     ערבים  אזור טבעי   שם יישוב באנגלית צורת יישוב שוטפת  \\\n",
       "1050        33.0   17382.0      311.0  Daliyat Al-Karmel              270   \n",
       "1051        33.0   17382.0      311.0  Daliyat Al-Karmel              270   \n",
       "1052        33.0   17382.0      311.0  Daliyat Al-Karmel              270   \n",
       "2271     37330.0    1507.0      242.0           Karmi'el              160   \n",
       "2272     37330.0    1507.0      242.0           Karmi'el              160   \n",
       "2273     37330.0    1507.0      242.0           Karmi'el              160   \n",
       "3030    555845.0  349572.0      111.0          Jerusalem              120   \n",
       "3031    555845.0  349572.0      111.0          Jerusalem              120   \n",
       "3032    555845.0  349572.0      111.0          Jerusalem              120   \n",
       "3523    197439.0      64.0      512.0         Bene Beraq              140   \n",
       "3524    197439.0      64.0      512.0         Bene Beraq              140   \n",
       "3525    197439.0      64.0      512.0         Bene Beraq              140   \n",
       "3565         9.0   31031.0      241.0            Sakhnin              260   \n",
       "3566         9.0   31031.0      241.0            Sakhnin              260   \n",
       "3567         9.0   31031.0      241.0            Sakhnin              260   \n",
       "\n",
       "     town_set  \n",
       "1050     test  \n",
       "1051     test  \n",
       "1052     test  \n",
       "2271     test  \n",
       "2272     test  \n",
       "2273     test  \n",
       "3030     test  \n",
       "3031     test  \n",
       "3032     test  \n",
       "3523     test  \n",
       "3524     test  \n",
       "3525     test  \n",
       "3565     test  \n",
       "3566     test  \n",
       "3567     test  \n",
       "\n",
       "[15 rows x 32 columns]"
      ]
     },
     "metadata": {},
     "output_type": "display_data"
    },
    {
     "data": {
      "text/html": [
       "<div>\n",
       "<style scoped>\n",
       "    .dataframe tbody tr th:only-of-type {\n",
       "        vertical-align: middle;\n",
       "    }\n",
       "\n",
       "    .dataframe tbody tr th {\n",
       "        vertical-align: top;\n",
       "    }\n",
       "\n",
       "    .dataframe thead th {\n",
       "        text-align: right;\n",
       "    }\n",
       "</style>\n",
       "<table border=\"1\" class=\"dataframe\">\n",
       "  <thead>\n",
       "    <tr style=\"text-align: right;\">\n",
       "      <th></th>\n",
       "      <th>knesset</th>\n",
       "      <th>שם ישוב</th>\n",
       "      <th>סמל ישוב</th>\n",
       "      <th>בזב</th>\n",
       "      <th>מצביעים</th>\n",
       "      <th>פסולים</th>\n",
       "      <th>כשרים</th>\n",
       "      <th>אמת</th>\n",
       "      <th>ג</th>\n",
       "      <th>ודעם</th>\n",
       "      <th>...</th>\n",
       "      <th>נפה</th>\n",
       "      <th>מעמד מונציפאלי</th>\n",
       "      <th>דת יישוב</th>\n",
       "      <th>סך הכל אוכלוסייה 2018</th>\n",
       "      <th>מזה: יהודים</th>\n",
       "      <th>ערבים</th>\n",
       "      <th>אזור טבעי</th>\n",
       "      <th>שם יישוב באנגלית</th>\n",
       "      <th>צורת יישוב שוטפת</th>\n",
       "      <th>town_set</th>\n",
       "    </tr>\n",
       "  </thead>\n",
       "  <tbody>\n",
       "    <tr>\n",
       "      <th>45</th>\n",
       "      <td>21</td>\n",
       "      <td>אופקים</td>\n",
       "      <td>31</td>\n",
       "      <td>20939</td>\n",
       "      <td>13715</td>\n",
       "      <td>158</td>\n",
       "      <td>13557</td>\n",
       "      <td>215</td>\n",
       "      <td>2165</td>\n",
       "      <td>3</td>\n",
       "      <td>...</td>\n",
       "      <td>62</td>\n",
       "      <td>0.0</td>\n",
       "      <td>1.0</td>\n",
       "      <td>29021.0</td>\n",
       "      <td>26936.0</td>\n",
       "      <td>201.0</td>\n",
       "      <td>622.0</td>\n",
       "      <td>Ofaqim</td>\n",
       "      <td>160</td>\n",
       "      <td>valid</td>\n",
       "    </tr>\n",
       "    <tr>\n",
       "      <th>46</th>\n",
       "      <td>22</td>\n",
       "      <td>אופקים</td>\n",
       "      <td>31</td>\n",
       "      <td>21413</td>\n",
       "      <td>14236</td>\n",
       "      <td>134</td>\n",
       "      <td>14102</td>\n",
       "      <td>541</td>\n",
       "      <td>2202</td>\n",
       "      <td>12</td>\n",
       "      <td>...</td>\n",
       "      <td>62</td>\n",
       "      <td>0.0</td>\n",
       "      <td>1.0</td>\n",
       "      <td>29021.0</td>\n",
       "      <td>26936.0</td>\n",
       "      <td>201.0</td>\n",
       "      <td>622.0</td>\n",
       "      <td>Ofaqim</td>\n",
       "      <td>160</td>\n",
       "      <td>valid</td>\n",
       "    </tr>\n",
       "    <tr>\n",
       "      <th>47</th>\n",
       "      <td>23</td>\n",
       "      <td>אופקים</td>\n",
       "      <td>31</td>\n",
       "      <td>21810</td>\n",
       "      <td>14655</td>\n",
       "      <td>109</td>\n",
       "      <td>14546</td>\n",
       "      <td>243</td>\n",
       "      <td>2198</td>\n",
       "      <td>18</td>\n",
       "      <td>...</td>\n",
       "      <td>62</td>\n",
       "      <td>0.0</td>\n",
       "      <td>1.0</td>\n",
       "      <td>29021.0</td>\n",
       "      <td>26936.0</td>\n",
       "      <td>201.0</td>\n",
       "      <td>622.0</td>\n",
       "      <td>Ofaqim</td>\n",
       "      <td>160</td>\n",
       "      <td>valid</td>\n",
       "    </tr>\n",
       "    <tr>\n",
       "      <th>48</th>\n",
       "      <td>21</td>\n",
       "      <td>עוצם</td>\n",
       "      <td>32</td>\n",
       "      <td>426</td>\n",
       "      <td>326</td>\n",
       "      <td>2</td>\n",
       "      <td>324</td>\n",
       "      <td>1</td>\n",
       "      <td>4</td>\n",
       "      <td>0</td>\n",
       "      <td>...</td>\n",
       "      <td>61</td>\n",
       "      <td>50.0</td>\n",
       "      <td>1.0</td>\n",
       "      <td>642.0</td>\n",
       "      <td>639.0</td>\n",
       "      <td>3.0</td>\n",
       "      <td>612.0</td>\n",
       "      <td>Ozem</td>\n",
       "      <td>310</td>\n",
       "      <td>valid</td>\n",
       "    </tr>\n",
       "    <tr>\n",
       "      <th>49</th>\n",
       "      <td>22</td>\n",
       "      <td>עוצם</td>\n",
       "      <td>32</td>\n",
       "      <td>434</td>\n",
       "      <td>344</td>\n",
       "      <td>2</td>\n",
       "      <td>342</td>\n",
       "      <td>6</td>\n",
       "      <td>5</td>\n",
       "      <td>0</td>\n",
       "      <td>...</td>\n",
       "      <td>61</td>\n",
       "      <td>50.0</td>\n",
       "      <td>1.0</td>\n",
       "      <td>642.0</td>\n",
       "      <td>639.0</td>\n",
       "      <td>3.0</td>\n",
       "      <td>612.0</td>\n",
       "      <td>Ozem</td>\n",
       "      <td>310</td>\n",
       "      <td>valid</td>\n",
       "    </tr>\n",
       "    <tr>\n",
       "      <th>50</th>\n",
       "      <td>23</td>\n",
       "      <td>עוצם</td>\n",
       "      <td>32</td>\n",
       "      <td>428</td>\n",
       "      <td>364</td>\n",
       "      <td>2</td>\n",
       "      <td>362</td>\n",
       "      <td>9</td>\n",
       "      <td>6</td>\n",
       "      <td>0</td>\n",
       "      <td>...</td>\n",
       "      <td>61</td>\n",
       "      <td>50.0</td>\n",
       "      <td>1.0</td>\n",
       "      <td>642.0</td>\n",
       "      <td>639.0</td>\n",
       "      <td>3.0</td>\n",
       "      <td>612.0</td>\n",
       "      <td>Ozem</td>\n",
       "      <td>310</td>\n",
       "      <td>valid</td>\n",
       "    </tr>\n",
       "    <tr>\n",
       "      <th>54</th>\n",
       "      <td>21</td>\n",
       "      <td>גדות</td>\n",
       "      <td>35</td>\n",
       "      <td>374</td>\n",
       "      <td>248</td>\n",
       "      <td>2</td>\n",
       "      <td>246</td>\n",
       "      <td>104</td>\n",
       "      <td>0</td>\n",
       "      <td>1</td>\n",
       "      <td>...</td>\n",
       "      <td>21</td>\n",
       "      <td>1.0</td>\n",
       "      <td>1.0</td>\n",
       "      <td>441.0</td>\n",
       "      <td>390.0</td>\n",
       "      <td>NaN</td>\n",
       "      <td>213.0</td>\n",
       "      <td>Gadot</td>\n",
       "      <td>330</td>\n",
       "      <td>valid</td>\n",
       "    </tr>\n",
       "    <tr>\n",
       "      <th>55</th>\n",
       "      <td>22</td>\n",
       "      <td>גדות</td>\n",
       "      <td>35</td>\n",
       "      <td>371</td>\n",
       "      <td>242</td>\n",
       "      <td>1</td>\n",
       "      <td>241</td>\n",
       "      <td>79</td>\n",
       "      <td>0</td>\n",
       "      <td>1</td>\n",
       "      <td>...</td>\n",
       "      <td>21</td>\n",
       "      <td>1.0</td>\n",
       "      <td>1.0</td>\n",
       "      <td>441.0</td>\n",
       "      <td>390.0</td>\n",
       "      <td>NaN</td>\n",
       "      <td>213.0</td>\n",
       "      <td>Gadot</td>\n",
       "      <td>330</td>\n",
       "      <td>valid</td>\n",
       "    </tr>\n",
       "    <tr>\n",
       "      <th>56</th>\n",
       "      <td>23</td>\n",
       "      <td>גדות</td>\n",
       "      <td>35</td>\n",
       "      <td>368</td>\n",
       "      <td>242</td>\n",
       "      <td>0</td>\n",
       "      <td>242</td>\n",
       "      <td>78</td>\n",
       "      <td>0</td>\n",
       "      <td>0</td>\n",
       "      <td>...</td>\n",
       "      <td>21</td>\n",
       "      <td>1.0</td>\n",
       "      <td>1.0</td>\n",
       "      <td>441.0</td>\n",
       "      <td>390.0</td>\n",
       "      <td>NaN</td>\n",
       "      <td>213.0</td>\n",
       "      <td>Gadot</td>\n",
       "      <td>330</td>\n",
       "      <td>valid</td>\n",
       "    </tr>\n",
       "    <tr>\n",
       "      <th>57</th>\n",
       "      <td>21</td>\n",
       "      <td>שדה דוד</td>\n",
       "      <td>36</td>\n",
       "      <td>395</td>\n",
       "      <td>299</td>\n",
       "      <td>0</td>\n",
       "      <td>299</td>\n",
       "      <td>10</td>\n",
       "      <td>2</td>\n",
       "      <td>0</td>\n",
       "      <td>...</td>\n",
       "      <td>61</td>\n",
       "      <td>50.0</td>\n",
       "      <td>1.0</td>\n",
       "      <td>547.0</td>\n",
       "      <td>538.0</td>\n",
       "      <td>NaN</td>\n",
       "      <td>612.0</td>\n",
       "      <td>Sede Dawid</td>\n",
       "      <td>310</td>\n",
       "      <td>valid</td>\n",
       "    </tr>\n",
       "    <tr>\n",
       "      <th>58</th>\n",
       "      <td>22</td>\n",
       "      <td>שדה דוד</td>\n",
       "      <td>36</td>\n",
       "      <td>415</td>\n",
       "      <td>314</td>\n",
       "      <td>1</td>\n",
       "      <td>313</td>\n",
       "      <td>14</td>\n",
       "      <td>5</td>\n",
       "      <td>1</td>\n",
       "      <td>...</td>\n",
       "      <td>61</td>\n",
       "      <td>50.0</td>\n",
       "      <td>1.0</td>\n",
       "      <td>547.0</td>\n",
       "      <td>538.0</td>\n",
       "      <td>NaN</td>\n",
       "      <td>612.0</td>\n",
       "      <td>Sede Dawid</td>\n",
       "      <td>310</td>\n",
       "      <td>valid</td>\n",
       "    </tr>\n",
       "    <tr>\n",
       "      <th>59</th>\n",
       "      <td>23</td>\n",
       "      <td>שדה דוד</td>\n",
       "      <td>36</td>\n",
       "      <td>423</td>\n",
       "      <td>333</td>\n",
       "      <td>1</td>\n",
       "      <td>332</td>\n",
       "      <td>14</td>\n",
       "      <td>2</td>\n",
       "      <td>1</td>\n",
       "      <td>...</td>\n",
       "      <td>61</td>\n",
       "      <td>50.0</td>\n",
       "      <td>1.0</td>\n",
       "      <td>547.0</td>\n",
       "      <td>538.0</td>\n",
       "      <td>NaN</td>\n",
       "      <td>612.0</td>\n",
       "      <td>Sede Dawid</td>\n",
       "      <td>310</td>\n",
       "      <td>valid</td>\n",
       "    </tr>\n",
       "  </tbody>\n",
       "</table>\n",
       "<p>12 rows × 32 columns</p>\n",
       "</div>"
      ],
      "text/plain": [
       "   knesset  שם ישוב סמל ישוב    בזב מצביעים פסולים  כשרים  אמת     ג ודעם  \\\n",
       "45      21   אופקים       31  20939   13715    158  13557  215  2165    3   \n",
       "46      22   אופקים       31  21413   14236    134  14102  541  2202   12   \n",
       "47      23   אופקים       31  21810   14655    109  14546  243  2198   18   \n",
       "48      21     עוצם       32    426     326      2    324    1     4    0   \n",
       "49      22     עוצם       32    434     344      2    342    6     5    0   \n",
       "50      23     עוצם       32    428     364      2    362    9     6    0   \n",
       "54      21     גדות       35    374     248      2    246  104     0    1   \n",
       "55      22     גדות       35    371     242      1    241   79     0    1   \n",
       "56      23     גדות       35    368     242      0    242   78     0    0   \n",
       "57      21  שדה דוד       36    395     299      0    299   10     2    0   \n",
       "58      22  שדה דוד       36    415     314      1    313   14     5    1   \n",
       "59      23  שדה דוד       36    423     333      1    332   14     2    1   \n",
       "\n",
       "    ... נפה מעמד מונציפאלי דת יישוב סך הכל אוכלוסייה 2018 מזה: יהודים  ערבים  \\\n",
       "45  ...  62            0.0      1.0               29021.0     26936.0  201.0   \n",
       "46  ...  62            0.0      1.0               29021.0     26936.0  201.0   \n",
       "47  ...  62            0.0      1.0               29021.0     26936.0  201.0   \n",
       "48  ...  61           50.0      1.0                 642.0       639.0    3.0   \n",
       "49  ...  61           50.0      1.0                 642.0       639.0    3.0   \n",
       "50  ...  61           50.0      1.0                 642.0       639.0    3.0   \n",
       "54  ...  21            1.0      1.0                 441.0       390.0    NaN   \n",
       "55  ...  21            1.0      1.0                 441.0       390.0    NaN   \n",
       "56  ...  21            1.0      1.0                 441.0       390.0    NaN   \n",
       "57  ...  61           50.0      1.0                 547.0       538.0    NaN   \n",
       "58  ...  61           50.0      1.0                 547.0       538.0    NaN   \n",
       "59  ...  61           50.0      1.0                 547.0       538.0    NaN   \n",
       "\n",
       "    אזור טבעי  שם יישוב באנגלית צורת יישוב שוטפת town_set  \n",
       "45      622.0            Ofaqim              160    valid  \n",
       "46      622.0            Ofaqim              160    valid  \n",
       "47      622.0            Ofaqim              160    valid  \n",
       "48      612.0              Ozem              310    valid  \n",
       "49      612.0              Ozem              310    valid  \n",
       "50      612.0              Ozem              310    valid  \n",
       "54      213.0             Gadot              330    valid  \n",
       "55      213.0             Gadot              330    valid  \n",
       "56      213.0             Gadot              330    valid  \n",
       "57      612.0        Sede Dawid              310    valid  \n",
       "58      612.0        Sede Dawid              310    valid  \n",
       "59      612.0        Sede Dawid              310    valid  \n",
       "\n",
       "[12 rows x 32 columns]"
      ]
     },
     "metadata": {},
     "output_type": "display_data"
    },
    {
     "data": {
      "text/html": [
       "<div>\n",
       "<style scoped>\n",
       "    .dataframe tbody tr th:only-of-type {\n",
       "        vertical-align: middle;\n",
       "    }\n",
       "\n",
       "    .dataframe tbody tr th {\n",
       "        vertical-align: top;\n",
       "    }\n",
       "\n",
       "    .dataframe thead th {\n",
       "        text-align: right;\n",
       "    }\n",
       "</style>\n",
       "<table border=\"1\" class=\"dataframe\">\n",
       "  <thead>\n",
       "    <tr style=\"text-align: right;\">\n",
       "      <th></th>\n",
       "      <th>knesset</th>\n",
       "      <th>שם ישוב</th>\n",
       "      <th>סמל ישוב</th>\n",
       "      <th>בזב</th>\n",
       "      <th>מצביעים</th>\n",
       "      <th>פסולים</th>\n",
       "      <th>כשרים</th>\n",
       "      <th>אמת</th>\n",
       "      <th>ג</th>\n",
       "      <th>ודעם</th>\n",
       "      <th>...</th>\n",
       "      <th>נפה</th>\n",
       "      <th>מעמד מונציפאלי</th>\n",
       "      <th>דת יישוב</th>\n",
       "      <th>סך הכל אוכלוסייה 2018</th>\n",
       "      <th>מזה: יהודים</th>\n",
       "      <th>ערבים</th>\n",
       "      <th>אזור טבעי</th>\n",
       "      <th>שם יישוב באנגלית</th>\n",
       "      <th>צורת יישוב שוטפת</th>\n",
       "      <th>town_set</th>\n",
       "    </tr>\n",
       "  </thead>\n",
       "  <tbody>\n",
       "    <tr>\n",
       "      <th>0</th>\n",
       "      <td>21</td>\n",
       "      <td>שחר</td>\n",
       "      <td>7</td>\n",
       "      <td>516</td>\n",
       "      <td>371</td>\n",
       "      <td>0</td>\n",
       "      <td>371</td>\n",
       "      <td>26</td>\n",
       "      <td>2</td>\n",
       "      <td>0</td>\n",
       "      <td>...</td>\n",
       "      <td>61</td>\n",
       "      <td>50.0</td>\n",
       "      <td>1.0</td>\n",
       "      <td>875.0</td>\n",
       "      <td>866.0</td>\n",
       "      <td>NaN</td>\n",
       "      <td>612.0</td>\n",
       "      <td>Shahar</td>\n",
       "      <td>310</td>\n",
       "      <td>train</td>\n",
       "    </tr>\n",
       "    <tr>\n",
       "      <th>1</th>\n",
       "      <td>22</td>\n",
       "      <td>שחר</td>\n",
       "      <td>7</td>\n",
       "      <td>517</td>\n",
       "      <td>377</td>\n",
       "      <td>0</td>\n",
       "      <td>377</td>\n",
       "      <td>44</td>\n",
       "      <td>8</td>\n",
       "      <td>0</td>\n",
       "      <td>...</td>\n",
       "      <td>61</td>\n",
       "      <td>50.0</td>\n",
       "      <td>1.0</td>\n",
       "      <td>875.0</td>\n",
       "      <td>866.0</td>\n",
       "      <td>NaN</td>\n",
       "      <td>612.0</td>\n",
       "      <td>Shahar</td>\n",
       "      <td>310</td>\n",
       "      <td>train</td>\n",
       "    </tr>\n",
       "    <tr>\n",
       "      <th>2</th>\n",
       "      <td>23</td>\n",
       "      <td>שחר</td>\n",
       "      <td>7</td>\n",
       "      <td>521</td>\n",
       "      <td>387</td>\n",
       "      <td>0</td>\n",
       "      <td>387</td>\n",
       "      <td>21</td>\n",
       "      <td>6</td>\n",
       "      <td>0</td>\n",
       "      <td>...</td>\n",
       "      <td>61</td>\n",
       "      <td>50.0</td>\n",
       "      <td>1.0</td>\n",
       "      <td>875.0</td>\n",
       "      <td>866.0</td>\n",
       "      <td>NaN</td>\n",
       "      <td>612.0</td>\n",
       "      <td>Shahar</td>\n",
       "      <td>310</td>\n",
       "      <td>train</td>\n",
       "    </tr>\n",
       "    <tr>\n",
       "      <th>3</th>\n",
       "      <td>21</td>\n",
       "      <td>תירוש</td>\n",
       "      <td>10</td>\n",
       "      <td>333</td>\n",
       "      <td>237</td>\n",
       "      <td>2</td>\n",
       "      <td>235</td>\n",
       "      <td>5</td>\n",
       "      <td>3</td>\n",
       "      <td>0</td>\n",
       "      <td>...</td>\n",
       "      <td>11</td>\n",
       "      <td>26.0</td>\n",
       "      <td>1.0</td>\n",
       "      <td>501.0</td>\n",
       "      <td>500.0</td>\n",
       "      <td>NaN</td>\n",
       "      <td>112.0</td>\n",
       "      <td>Tirosh</td>\n",
       "      <td>310</td>\n",
       "      <td>train</td>\n",
       "    </tr>\n",
       "    <tr>\n",
       "      <th>4</th>\n",
       "      <td>22</td>\n",
       "      <td>תירוש</td>\n",
       "      <td>10</td>\n",
       "      <td>332</td>\n",
       "      <td>245</td>\n",
       "      <td>0</td>\n",
       "      <td>245</td>\n",
       "      <td>2</td>\n",
       "      <td>4</td>\n",
       "      <td>0</td>\n",
       "      <td>...</td>\n",
       "      <td>11</td>\n",
       "      <td>26.0</td>\n",
       "      <td>1.0</td>\n",
       "      <td>501.0</td>\n",
       "      <td>500.0</td>\n",
       "      <td>NaN</td>\n",
       "      <td>112.0</td>\n",
       "      <td>Tirosh</td>\n",
       "      <td>310</td>\n",
       "      <td>train</td>\n",
       "    </tr>\n",
       "    <tr>\n",
       "      <th>5</th>\n",
       "      <td>23</td>\n",
       "      <td>תירוש</td>\n",
       "      <td>10</td>\n",
       "      <td>331</td>\n",
       "      <td>252</td>\n",
       "      <td>0</td>\n",
       "      <td>252</td>\n",
       "      <td>2</td>\n",
       "      <td>3</td>\n",
       "      <td>0</td>\n",
       "      <td>...</td>\n",
       "      <td>11</td>\n",
       "      <td>26.0</td>\n",
       "      <td>1.0</td>\n",
       "      <td>501.0</td>\n",
       "      <td>500.0</td>\n",
       "      <td>NaN</td>\n",
       "      <td>112.0</td>\n",
       "      <td>Tirosh</td>\n",
       "      <td>310</td>\n",
       "      <td>train</td>\n",
       "    </tr>\n",
       "    <tr>\n",
       "      <th>6</th>\n",
       "      <td>21</td>\n",
       "      <td>ניר ח\"ן</td>\n",
       "      <td>11</td>\n",
       "      <td>403</td>\n",
       "      <td>289</td>\n",
       "      <td>1</td>\n",
       "      <td>288</td>\n",
       "      <td>31</td>\n",
       "      <td>0</td>\n",
       "      <td>0</td>\n",
       "      <td>...</td>\n",
       "      <td>61</td>\n",
       "      <td>50.0</td>\n",
       "      <td>1.0</td>\n",
       "      <td>552.0</td>\n",
       "      <td>536.0</td>\n",
       "      <td>NaN</td>\n",
       "      <td>612.0</td>\n",
       "      <td>Nir Hen</td>\n",
       "      <td>310</td>\n",
       "      <td>train</td>\n",
       "    </tr>\n",
       "    <tr>\n",
       "      <th>7</th>\n",
       "      <td>22</td>\n",
       "      <td>ניר ח\"ן</td>\n",
       "      <td>11</td>\n",
       "      <td>406</td>\n",
       "      <td>287</td>\n",
       "      <td>0</td>\n",
       "      <td>287</td>\n",
       "      <td>37</td>\n",
       "      <td>1</td>\n",
       "      <td>1</td>\n",
       "      <td>...</td>\n",
       "      <td>61</td>\n",
       "      <td>50.0</td>\n",
       "      <td>1.0</td>\n",
       "      <td>552.0</td>\n",
       "      <td>536.0</td>\n",
       "      <td>NaN</td>\n",
       "      <td>612.0</td>\n",
       "      <td>Nir Hen</td>\n",
       "      <td>310</td>\n",
       "      <td>train</td>\n",
       "    </tr>\n",
       "    <tr>\n",
       "      <th>8</th>\n",
       "      <td>23</td>\n",
       "      <td>ניר חן</td>\n",
       "      <td>11</td>\n",
       "      <td>404</td>\n",
       "      <td>271</td>\n",
       "      <td>0</td>\n",
       "      <td>271</td>\n",
       "      <td>29</td>\n",
       "      <td>0</td>\n",
       "      <td>1</td>\n",
       "      <td>...</td>\n",
       "      <td>61</td>\n",
       "      <td>50.0</td>\n",
       "      <td>1.0</td>\n",
       "      <td>552.0</td>\n",
       "      <td>536.0</td>\n",
       "      <td>NaN</td>\n",
       "      <td>612.0</td>\n",
       "      <td>Nir Hen</td>\n",
       "      <td>310</td>\n",
       "      <td>train</td>\n",
       "    </tr>\n",
       "    <tr>\n",
       "      <th>9</th>\n",
       "      <td>21</td>\n",
       "      <td>חצבה</td>\n",
       "      <td>13</td>\n",
       "      <td>502</td>\n",
       "      <td>403</td>\n",
       "      <td>0</td>\n",
       "      <td>403</td>\n",
       "      <td>61</td>\n",
       "      <td>2</td>\n",
       "      <td>0</td>\n",
       "      <td>...</td>\n",
       "      <td>62</td>\n",
       "      <td>54.0</td>\n",
       "      <td>1.0</td>\n",
       "      <td>605.0</td>\n",
       "      <td>561.0</td>\n",
       "      <td>10.0</td>\n",
       "      <td>625.0</td>\n",
       "      <td>Hazeva</td>\n",
       "      <td>310</td>\n",
       "      <td>train</td>\n",
       "    </tr>\n",
       "    <tr>\n",
       "      <th>10</th>\n",
       "      <td>22</td>\n",
       "      <td>חצבה</td>\n",
       "      <td>13</td>\n",
       "      <td>502</td>\n",
       "      <td>373</td>\n",
       "      <td>0</td>\n",
       "      <td>373</td>\n",
       "      <td>56</td>\n",
       "      <td>2</td>\n",
       "      <td>0</td>\n",
       "      <td>...</td>\n",
       "      <td>62</td>\n",
       "      <td>54.0</td>\n",
       "      <td>1.0</td>\n",
       "      <td>605.0</td>\n",
       "      <td>561.0</td>\n",
       "      <td>10.0</td>\n",
       "      <td>625.0</td>\n",
       "      <td>Hazeva</td>\n",
       "      <td>310</td>\n",
       "      <td>train</td>\n",
       "    </tr>\n",
       "    <tr>\n",
       "      <th>11</th>\n",
       "      <td>23</td>\n",
       "      <td>חצבה</td>\n",
       "      <td>13</td>\n",
       "      <td>519</td>\n",
       "      <td>396</td>\n",
       "      <td>5</td>\n",
       "      <td>391</td>\n",
       "      <td>45</td>\n",
       "      <td>1</td>\n",
       "      <td>0</td>\n",
       "      <td>...</td>\n",
       "      <td>62</td>\n",
       "      <td>54.0</td>\n",
       "      <td>1.0</td>\n",
       "      <td>605.0</td>\n",
       "      <td>561.0</td>\n",
       "      <td>10.0</td>\n",
       "      <td>625.0</td>\n",
       "      <td>Hazeva</td>\n",
       "      <td>310</td>\n",
       "      <td>train</td>\n",
       "    </tr>\n",
       "  </tbody>\n",
       "</table>\n",
       "<p>12 rows × 32 columns</p>\n",
       "</div>"
      ],
      "text/plain": [
       "   knesset  שם ישוב סמל ישוב  בזב מצביעים פסולים כשרים אמת  ג ודעם  ... נפה  \\\n",
       "0       21      שחר        7  516     371      0   371  26  2    0  ...  61   \n",
       "1       22      שחר        7  517     377      0   377  44  8    0  ...  61   \n",
       "2       23      שחר        7  521     387      0   387  21  6    0  ...  61   \n",
       "3       21    תירוש       10  333     237      2   235   5  3    0  ...  11   \n",
       "4       22    תירוש       10  332     245      0   245   2  4    0  ...  11   \n",
       "5       23    תירוש       10  331     252      0   252   2  3    0  ...  11   \n",
       "6       21  ניר ח\"ן       11  403     289      1   288  31  0    0  ...  61   \n",
       "7       22  ניר ח\"ן       11  406     287      0   287  37  1    1  ...  61   \n",
       "8       23   ניר חן       11  404     271      0   271  29  0    1  ...  61   \n",
       "9       21     חצבה       13  502     403      0   403  61  2    0  ...  62   \n",
       "10      22     חצבה       13  502     373      0   373  56  2    0  ...  62   \n",
       "11      23     חצבה       13  519     396      5   391  45  1    0  ...  62   \n",
       "\n",
       "   מעמד מונציפאלי דת יישוב סך הכל אוכלוסייה 2018 מזה: יהודים  ערבים  \\\n",
       "0            50.0      1.0                 875.0       866.0    NaN   \n",
       "1            50.0      1.0                 875.0       866.0    NaN   \n",
       "2            50.0      1.0                 875.0       866.0    NaN   \n",
       "3            26.0      1.0                 501.0       500.0    NaN   \n",
       "4            26.0      1.0                 501.0       500.0    NaN   \n",
       "5            26.0      1.0                 501.0       500.0    NaN   \n",
       "6            50.0      1.0                 552.0       536.0    NaN   \n",
       "7            50.0      1.0                 552.0       536.0    NaN   \n",
       "8            50.0      1.0                 552.0       536.0    NaN   \n",
       "9            54.0      1.0                 605.0       561.0   10.0   \n",
       "10           54.0      1.0                 605.0       561.0   10.0   \n",
       "11           54.0      1.0                 605.0       561.0   10.0   \n",
       "\n",
       "    אזור טבעי  שם יישוב באנגלית צורת יישוב שוטפת town_set  \n",
       "0       612.0            Shahar              310    train  \n",
       "1       612.0            Shahar              310    train  \n",
       "2       612.0            Shahar              310    train  \n",
       "3       112.0            Tirosh              310    train  \n",
       "4       112.0            Tirosh              310    train  \n",
       "5       112.0            Tirosh              310    train  \n",
       "6       612.0           Nir Hen              310    train  \n",
       "7       612.0           Nir Hen              310    train  \n",
       "8       612.0           Nir Hen              310    train  \n",
       "9       625.0            Hazeva              310    train  \n",
       "10      625.0            Hazeva              310    train  \n",
       "11      625.0            Hazeva              310    train  \n",
       "\n",
       "[12 rows x 32 columns]"
      ]
     },
     "metadata": {},
     "output_type": "display_data"
    },
    {
     "name": "stdout",
     "output_type": "stream",
     "text": [
      "(array(['test', 'train', 'valid'], dtype=object), array([  15, 2895,  726], dtype=int64))\n"
     ]
    }
   ],
   "source": [
    "PERCENT_VALIDATION = 0.2\n",
    "test_town_codes = {3000, 6100, 7500, 1139, 494}\n",
    "other_town_codes = set(knesset_cities['סמל ישוב'])-test_town_codes\n",
    "\n",
    "np.random.seed(4477)\n",
    "train_town_codes, validation_town_codes = train_test_split(np.array(list(other_town_codes)),test_size=PERCENT_VALIDATION) \n",
    "\n",
    "town_set = {k: 'test' if k in test_town_codes\n",
    "                                    else 'valid' if k in set(validation_town_codes)\n",
    "                                    else 'train' \n",
    "            for k in test_town_codes | other_town_codes}\n",
    "\n",
    "town_set_str = knesset_cities['סמל ישוב'].apply(lambda t: town_set[t])\n",
    "knesset_cities['town_set'] = town_set_str \n",
    "display(knesset_cities[town_set_str == 'test'])\n",
    "display(knesset_cities[town_set_str == 'valid'].head(12))\n",
    "display(knesset_cities[town_set_str == 'train'].head(12))\n",
    "\n",
    "print(np.unique(knesset_cities['town_set'].values,return_counts=True))"
   ]
  },
  {
   "cell_type": "code",
   "execution_count": 107,
   "metadata": {},
   "outputs": [],
   "source": [
    "X = np.concatenate([percent_jewish[:,np.newaxis], categorical_onehot],axis=1)\n",
    "\n",
    "\n",
    "Xtr_vd = X[:2424,:]\n",
    "X_train = Xtr_vd[knesset_cities['town_set'][:2424]=='train']\n",
    "X_valid = Xtr_vd[knesset_cities['town_set'][:2424]=='valid']\n",
    "X_test = X[town_set_str=='test']"
   ]
  },
  {
   "cell_type": "markdown",
   "metadata": {},
   "source": [
    "### Fit and optimize - Likud"
   ]
  },
  {
   "cell_type": "code",
   "execution_count": 146,
   "metadata": {},
   "outputs": [
    {
     "name": "stdout",
     "output_type": "stream",
     "text": [
      "(3636, 147) (3636,)\n",
      "(2424, 147) (2424,)\n",
      "[(1941, 147), (477, 147), (1941,), (477,)]\n"
     ]
    }
   ],
   "source": [
    "Y = percent_likud\n",
    "Ytr_vd = Y[:2424]\n",
    "y_train = Ytr_vd[knesset_cities['town_set'][:2424]=='train']\n",
    "y_valid = Ytr_vd[knesset_cities['town_set'][:2424]=='valid']\n",
    "Y_test = Y[town_set_str=='test']\n",
    "\n",
    "print(X.shape, Y.shape)\n",
    "print(Xtr_vd.shape, Ytr_vd.shape)\n",
    "\n",
    "#X_train, X_valid, y_train, y_valid = train_test_split(Xtr, Ytr, test_size=0.20, random_state=42)\n",
    "\n",
    "print([a.shape for a in (X_train, X_valid, y_train, y_valid)])\n"
   ]
  },
  {
   "cell_type": "code",
   "execution_count": 111,
   "metadata": {},
   "outputs": [],
   "source": [
    "from sklearn.ensemble import RandomForestRegressor,AdaBoostRegressor\n",
    "\n",
    "model = AdaBoostRegressor(random_state=RSEED).fit(X_train,y_train)"
   ]
  },
  {
   "cell_type": "code",
   "execution_count": 112,
   "metadata": {},
   "outputs": [],
   "source": [
    "yhat_valid = model.predict(X_valid)"
   ]
  },
  {
   "cell_type": "code",
   "execution_count": 113,
   "metadata": {},
   "outputs": [
    {
     "data": {
      "text/plain": [
       "(0.1, 1)"
      ]
     },
     "execution_count": 113,
     "metadata": {},
     "output_type": "execute_result"
    },
    {
     "data": {
      "image/png": "[encoded data removed]",
      "text/plain": [
       "<Figure size 432x432 with 1 Axes>"
      ]
     },
     "metadata": {
      "needs_background": "light"
     },
     "output_type": "display_data"
    }
   ],
   "source": [
    "plt.figure(figsize=(6,6))\n",
    "plt.plot(y_valid, yhat_valid,'.')\n",
    "plt.plot([0.3, 0.9],[0.3, 0.9],'g--')\n",
    "plt.gca().set_aspect('equal', adjustable='box')\n",
    "plt.xlim(0.1, 1)\n",
    "plt.ylim(0.1,1)"
   ]
  },
  {
   "cell_type": "code",
   "execution_count": 114,
   "metadata": {},
   "outputs": [
    {
     "data": {
      "text/plain": [
       "0.1309369732972879"
      ]
     },
     "execution_count": 114,
     "metadata": {},
     "output_type": "execute_result"
    }
   ],
   "source": [
    "np.sqrt(mean_squared_error(y_valid, yhat_valid))"
   ]
  },
  {
   "cell_type": "markdown",
   "metadata": {},
   "source": [
    "### Optimization\n",
    "trying different hyperparameters of the adaboost regressor"
   ]
  },
  {
   "cell_type": "markdown",
   "metadata": {},
   "source": [
    "### 1. change number of estimators"
   ]
  },
  {
   "cell_type": "code",
   "execution_count": 115,
   "metadata": {},
   "outputs": [
    {
     "data": {
      "text/plain": [
       "0.1309369732972879"
      ]
     },
     "execution_count": 115,
     "metadata": {},
     "output_type": "execute_result"
    }
   ],
   "source": [
    "model = AdaBoostRegressor(random_state=RSEED,n_estimators=80).fit(X_train,y_train)\n",
    "yhat_valid = model.predict(X_valid)\n",
    "np.sqrt(mean_squared_error(y_valid,yhat_valid))"
   ]
  },
  {
   "cell_type": "code",
   "execution_count": 116,
   "metadata": {},
   "outputs": [
    {
     "data": {
      "text/plain": [
       "0.13164888432540803"
      ]
     },
     "execution_count": 116,
     "metadata": {},
     "output_type": "execute_result"
    }
   ],
   "source": [
    "model = AdaBoostRegressor(random_state=RSEED,n_estimators=5).fit(X_train,y_train)\n",
    "yhat_valid = model.predict(X_valid)\n",
    "np.sqrt(mean_squared_error(y_valid,yhat_valid))"
   ]
  },
  {
   "cell_type": "code",
   "execution_count": 117,
   "metadata": {},
   "outputs": [
    {
     "data": {
      "text/plain": [
       "0.1309369732972879"
      ]
     },
     "execution_count": 117,
     "metadata": {},
     "output_type": "execute_result"
    }
   ],
   "source": [
    "model = AdaBoostRegressor(random_state=RSEED,n_estimators=1800).fit(X_train,y_train)\n",
    "yhat_valid = model.predict(X_valid)\n",
    "np.sqrt(mean_squared_error(y_valid,yhat_valid))"
   ]
  },
  {
   "cell_type": "markdown",
   "metadata": {},
   "source": [
    "no change in performance for a wide range of n_estimators.\n",
    "\n",
    "### 2. change learning rate "
   ]
  },
  {
   "cell_type": "code",
   "execution_count": 118,
   "metadata": {},
   "outputs": [
    {
     "data": {
      "text/plain": [
       "0.13692203416822193"
      ]
     },
     "execution_count": 118,
     "metadata": {},
     "output_type": "execute_result"
    }
   ],
   "source": [
    "model = AdaBoostRegressor(random_state=RSEED,learning_rate=1.01).fit(X_train,y_train)\n",
    "yhat_valid = model.predict(X_valid)\n",
    "np.sqrt(mean_squared_error(y_valid,yhat_valid))"
   ]
  },
  {
   "cell_type": "code",
   "execution_count": 119,
   "metadata": {},
   "outputs": [
    {
     "data": {
      "text/plain": [
       "0.13428026973183568"
      ]
     },
     "execution_count": 119,
     "metadata": {},
     "output_type": "execute_result"
    }
   ],
   "source": [
    "model = AdaBoostRegressor(random_state=RSEED,learning_rate=1.02).fit(X_train,y_train)\n",
    "yhat_valid = model.predict(X_valid)\n",
    "np.sqrt(mean_squared_error(y_valid,yhat_valid))\n"
   ]
  },
  {
   "cell_type": "code",
   "execution_count": 120,
   "metadata": {},
   "outputs": [
    {
     "data": {
      "text/plain": [
       "0.13538819839520147"
      ]
     },
     "execution_count": 120,
     "metadata": {},
     "output_type": "execute_result"
    }
   ],
   "source": [
    "model = AdaBoostRegressor(random_state=RSEED,learning_rate=1.03).fit(X_train,y_train)\n",
    "yhat_valid = model.predict(X_valid)\n",
    "np.sqrt(mean_squared_error(y_valid,yhat_valid))"
   ]
  },
  {
   "cell_type": "code",
   "execution_count": 121,
   "metadata": {},
   "outputs": [
    {
     "data": {
      "text/plain": [
       "0.14079433618191667"
      ]
     },
     "execution_count": 121,
     "metadata": {},
     "output_type": "execute_result"
    }
   ],
   "source": [
    "model = AdaBoostRegressor(random_state=RSEED,learning_rate=0.99).fit(X_train,y_train)\n",
    "yhat_valid = model.predict(X_valid)\n",
    "np.sqrt(mean_squared_error(y_valid,yhat_valid))"
   ]
  },
  {
   "cell_type": "markdown",
   "metadata": {},
   "source": [
    "#### performance on validation set not stable - no optimization possible"
   ]
  },
  {
   "cell_type": "code",
   "execution_count": 150,
   "metadata": {},
   "outputs": [],
   "source": [
    "model_likud = AdaBoostRegressor(random_state=RSEED).fit(np.vstack([X_train, X_valid]),np.concatenate([y_train,y_valid]))\n"
   ]
  },
  {
   "cell_type": "markdown",
   "metadata": {},
   "source": [
    "### Fit and optimize - Kahol Lavan"
   ]
  },
  {
   "cell_type": "code",
   "execution_count": 152,
   "metadata": {},
   "outputs": [
    {
     "name": "stdout",
     "output_type": "stream",
     "text": [
      "(3636, 147) (3636,)\n",
      "(2424, 147) (2424,)\n",
      "[(1941, 147), (477, 147), (1941,), (477,)]\n"
     ]
    }
   ],
   "source": [
    "Y = percent_kahol_lavan\n",
    "Ytr_vd = Y[:2424]\n",
    "y_train = Ytr_vd[knesset_cities['town_set'][:2424]=='train']\n",
    "y_valid = Ytr_vd[knesset_cities['town_set'][:2424]=='valid']\n",
    "Y_test = Y[town_set_str=='test']\n",
    "\n",
    "print(X.shape, Y.shape)\n",
    "print(Xtr_vd.shape, Ytr_vd.shape)\n",
    "\n",
    "#X_train, X_valid, y_train, y_valid = train_test_split(Xtr, Ytr, test_size=0.20, random_state=42)\n",
    "\n",
    "print([a.shape for a in (X_train, X_valid, y_train, y_valid)])"
   ]
  },
  {
   "cell_type": "code",
   "execution_count": 124,
   "metadata": {},
   "outputs": [
    {
     "data": {
      "text/plain": [
       "0.1708876861795306"
      ]
     },
     "execution_count": 124,
     "metadata": {},
     "output_type": "execute_result"
    }
   ],
   "source": [
    "model = AdaBoostRegressor(random_state=RSEED).fit(X_train,y_train)\n",
    "yhat_valid = model.predict(X_valid)\n",
    "np.sqrt(mean_squared_error(y_valid,yhat_valid))"
   ]
  },
  {
   "cell_type": "code",
   "execution_count": 125,
   "metadata": {},
   "outputs": [
    {
     "data": {
      "text/plain": [
       "0.1708876861795306"
      ]
     },
     "execution_count": 125,
     "metadata": {},
     "output_type": "execute_result"
    }
   ],
   "source": [
    "model = AdaBoostRegressor(random_state=RSEED,n_estimators=80).fit(X_train,y_train)\n",
    "yhat_valid = model.predict(X_valid)\n",
    "np.sqrt(mean_squared_error(y_valid,yhat_valid))"
   ]
  },
  {
   "cell_type": "code",
   "execution_count": 126,
   "metadata": {},
   "outputs": [
    {
     "data": {
      "text/plain": [
       "0.1708876861795306"
      ]
     },
     "execution_count": 126,
     "metadata": {},
     "output_type": "execute_result"
    }
   ],
   "source": [
    "model = AdaBoostRegressor(random_state=RSEED,n_estimators=40).fit(X_train,y_train)\n",
    "yhat_valid = model.predict(X_valid)\n",
    "np.sqrt(mean_squared_error(y_valid,yhat_valid))"
   ]
  },
  {
   "cell_type": "code",
   "execution_count": 127,
   "metadata": {},
   "outputs": [
    {
     "data": {
      "text/plain": [
       "0.17260117345105114"
      ]
     },
     "execution_count": 127,
     "metadata": {},
     "output_type": "execute_result"
    }
   ],
   "source": [
    "model = AdaBoostRegressor(random_state=RSEED,learning_rate=1.01).fit(X_train,y_train)\n",
    "yhat_valid = model.predict(X_valid)\n",
    "np.sqrt(mean_squared_error(y_valid,yhat_valid))"
   ]
  },
  {
   "cell_type": "code",
   "execution_count": 128,
   "metadata": {},
   "outputs": [
    {
     "data": {
      "text/plain": [
       "0.17495564598377053"
      ]
     },
     "execution_count": 128,
     "metadata": {},
     "output_type": "execute_result"
    }
   ],
   "source": [
    "model = AdaBoostRegressor(random_state=RSEED,learning_rate=1.02).fit(X_train,y_train)\n",
    "yhat_valid = model.predict(X_valid)\n",
    "np.sqrt(mean_squared_error(y_valid,yhat_valid))"
   ]
  },
  {
   "cell_type": "code",
   "execution_count": 129,
   "metadata": {},
   "outputs": [
    {
     "data": {
      "text/plain": [
       "0.17536527164677632"
      ]
     },
     "execution_count": 129,
     "metadata": {},
     "output_type": "execute_result"
    }
   ],
   "source": [
    "model = AdaBoostRegressor(random_state=RSEED,learning_rate=1.05).fit(X_train,y_train)\n",
    "yhat_valid = model.predict(X_valid)\n",
    "np.sqrt(mean_squared_error(y_valid,yhat_valid))"
   ]
  },
  {
   "cell_type": "code",
   "execution_count": 154,
   "metadata": {},
   "outputs": [
    {
     "data": {
      "text/plain": [
       "0.17570363640394385"
      ]
     },
     "execution_count": 154,
     "metadata": {},
     "output_type": "execute_result"
    }
   ],
   "source": [
    "model = AdaBoostRegressor(random_state=RSEED,learning_rate=1.04).fit(X_train,y_train)\n",
    "yhat_valid = model.predict(X_valid)\n",
    "# this is the best found, keep it\n",
    "model_kahol_lavan = AdaBoostRegressor(random_state=RSEED,learning_rate=1.04).fit(np.vstack([X_train, X_valid]),np.concatenate([y_train,y_valid]))\n",
    "\n",
    "np.sqrt(mean_squared_error(y_valid,yhat_valid))"
   ]
  },
  {
   "cell_type": "code",
   "execution_count": 131,
   "metadata": {},
   "outputs": [
    {
     "data": {
      "text/plain": [
       "0.1733636096856558"
      ]
     },
     "execution_count": 131,
     "metadata": {},
     "output_type": "execute_result"
    }
   ],
   "source": [
    "model = AdaBoostRegressor(random_state=RSEED,learning_rate=1.03).fit(X_train,y_train)\n",
    "yhat_valid = model.predict(X_valid)\n",
    "np.sqrt(mean_squared_error(y_valid,yhat_valid))"
   ]
  },
  {
   "cell_type": "markdown",
   "metadata": {},
   "source": [
    "### Build and optimize model for the joint list"
   ]
  },
  {
   "cell_type": "code",
   "execution_count": 155,
   "metadata": {},
   "outputs": [
    {
     "name": "stdout",
     "output_type": "stream",
     "text": [
      "(3636, 147) (3636,)\n",
      "(2424, 147) (2424,)\n",
      "[(1941, 147), (477, 147), (1941,), (477,)]\n"
     ]
    }
   ],
   "source": [
    "Y = percent_arab\n",
    "Ytr_vd = Y[:2424]\n",
    "y_train = Ytr_vd[knesset_cities['town_set'][:2424]=='train']\n",
    "y_valid = Ytr_vd[knesset_cities['town_set'][:2424]=='valid']\n",
    "Y_test = Y[town_set_str=='test']\n",
    "\n",
    "print(X.shape, Y.shape)\n",
    "print(Xtr_vd.shape, Ytr_vd.shape)\n",
    "\n",
    "#X_train, X_valid, y_train, y_valid = train_test_split(Xtr, Ytr, test_size=0.20, random_state=42)\n",
    "\n",
    "print([a.shape for a in (X_train, X_valid, y_train, y_valid)])"
   ]
  },
  {
   "cell_type": "code",
   "execution_count": 133,
   "metadata": {},
   "outputs": [
    {
     "data": {
      "text/plain": [
       "0.11746042491613289"
      ]
     },
     "execution_count": 133,
     "metadata": {},
     "output_type": "execute_result"
    }
   ],
   "source": [
    "model = AdaBoostRegressor(random_state=RSEED).fit(X_train,y_train)\n",
    "yhat_valid = model.predict(X_valid)\n",
    "np.sqrt(mean_squared_error(y_valid,yhat_valid))"
   ]
  },
  {
   "cell_type": "code",
   "execution_count": 134,
   "metadata": {},
   "outputs": [
    {
     "data": {
      "text/plain": [
       "0.11746042491613289"
      ]
     },
     "execution_count": 134,
     "metadata": {},
     "output_type": "execute_result"
    }
   ],
   "source": [
    "model = AdaBoostRegressor(random_state=RSEED,n_estimators=100).fit(X_train,y_train)\n",
    "yhat_valid = model.predict(X_valid)\n",
    "np.sqrt(mean_squared_error(y_valid,yhat_valid))"
   ]
  },
  {
   "cell_type": "code",
   "execution_count": 135,
   "metadata": {},
   "outputs": [
    {
     "data": {
      "text/plain": [
       "0.1192340053164133"
      ]
     },
     "execution_count": 135,
     "metadata": {},
     "output_type": "execute_result"
    }
   ],
   "source": [
    "model = AdaBoostRegressor(random_state=RSEED,n_estimators=20).fit(X_train,y_train)\n",
    "yhat_valid = model.predict(X_valid)\n",
    "np.sqrt(mean_squared_error(y_valid,yhat_valid))"
   ]
  },
  {
   "cell_type": "code",
   "execution_count": 136,
   "metadata": {},
   "outputs": [
    {
     "data": {
      "text/plain": [
       "0.11169677236345694"
      ]
     },
     "execution_count": 136,
     "metadata": {},
     "output_type": "execute_result"
    }
   ],
   "source": [
    "model = AdaBoostRegressor(random_state=RSEED,learning_rate=1.01).fit(X_train,y_train)\n",
    "yhat_valid = model.predict(X_valid)\n",
    "np.sqrt(mean_squared_error(y_valid,yhat_valid))"
   ]
  },
  {
   "cell_type": "code",
   "execution_count": 137,
   "metadata": {},
   "outputs": [
    {
     "data": {
      "text/plain": [
       "0.1105720238842855"
      ]
     },
     "execution_count": 137,
     "metadata": {},
     "output_type": "execute_result"
    }
   ],
   "source": [
    "model = AdaBoostRegressor(random_state=RSEED,learning_rate=1.02).fit(X_train,y_train)\n",
    "yhat_valid = model.predict(X_valid)\n",
    "np.sqrt(mean_squared_error(y_valid,yhat_valid))"
   ]
  },
  {
   "cell_type": "code",
   "execution_count": 156,
   "metadata": {},
   "outputs": [
    {
     "data": {
      "text/plain": [
       "0.10960167631009102"
      ]
     },
     "execution_count": 156,
     "metadata": {},
     "output_type": "execute_result"
    }
   ],
   "source": [
    "model = AdaBoostRegressor(random_state=RSEED,learning_rate=1.03).fit(X_train,y_train)\n",
    "# best model found, keep it\n",
    "model_joint = AdaBoostRegressor(random_state=RSEED,learning_rate=1.03).fit(np.vstack([X_train,X_valid]),np.concatenate([y_train,y_valid]))\n",
    "yhat_valid = model.predict(X_valid)\n",
    "np.sqrt(mean_squared_error(y_valid,yhat_valid))"
   ]
  },
  {
   "cell_type": "code",
   "execution_count": 139,
   "metadata": {},
   "outputs": [
    {
     "data": {
      "text/plain": [
       "0.11461220822343517"
      ]
     },
     "execution_count": 139,
     "metadata": {},
     "output_type": "execute_result"
    }
   ],
   "source": [
    "model = AdaBoostRegressor(random_state=RSEED,learning_rate=1.04).fit(X_train,y_train)\n",
    "yhat_valid = model.predict(X_valid)\n",
    "np.sqrt(mean_squared_error(y_valid,yhat_valid))"
   ]
  },
  {
   "cell_type": "code",
   "execution_count": 144,
   "metadata": {},
   "outputs": [
    {
     "data": {
      "text/html": [
       "<div>\n",
       "<style scoped>\n",
       "    .dataframe tbody tr th:only-of-type {\n",
       "        vertical-align: middle;\n",
       "    }\n",
       "\n",
       "    .dataframe tbody tr th {\n",
       "        vertical-align: top;\n",
       "    }\n",
       "\n",
       "    .dataframe thead th {\n",
       "        text-align: right;\n",
       "    }\n",
       "</style>\n",
       "<table border=\"1\" class=\"dataframe\">\n",
       "  <thead>\n",
       "    <tr style=\"text-align: right;\">\n",
       "      <th></th>\n",
       "      <th>שם ישוב</th>\n",
       "      <th>כשרים</th>\n",
       "      <th>מחל</th>\n",
       "      <th>פה</th>\n",
       "      <th>ודעם</th>\n",
       "    </tr>\n",
       "  </thead>\n",
       "  <tbody>\n",
       "    <tr>\n",
       "      <th>0</th>\n",
       "      <td>דאלית אלכרמל</td>\n",
       "      <td>7102</td>\n",
       "      <td>407</td>\n",
       "      <td>5200</td>\n",
       "      <td>650</td>\n",
       "    </tr>\n",
       "    <tr>\n",
       "      <th>1</th>\n",
       "      <td>כרמיאל</td>\n",
       "      <td>24370</td>\n",
       "      <td>8879</td>\n",
       "      <td>6627</td>\n",
       "      <td>468</td>\n",
       "    </tr>\n",
       "    <tr>\n",
       "      <th>2</th>\n",
       "      <td>ירושלים</td>\n",
       "      <td>261589</td>\n",
       "      <td>72601</td>\n",
       "      <td>32800</td>\n",
       "      <td>5321</td>\n",
       "    </tr>\n",
       "    <tr>\n",
       "      <th>3</th>\n",
       "      <td>בני ברק</td>\n",
       "      <td>84846</td>\n",
       "      <td>4951</td>\n",
       "      <td>1133</td>\n",
       "      <td>22</td>\n",
       "    </tr>\n",
       "    <tr>\n",
       "      <th>4</th>\n",
       "      <td>סחנין</td>\n",
       "      <td>17085</td>\n",
       "      <td>39</td>\n",
       "      <td>120</td>\n",
       "      <td>16610</td>\n",
       "    </tr>\n",
       "  </tbody>\n",
       "</table>\n",
       "</div>"
      ],
      "text/plain": [
       "        שם ישוב   כשרים    מחל     פה   ודעם\n",
       "0  דאלית אלכרמל    7102    407   5200    650\n",
       "1        כרמיאל   24370   8879   6627    468\n",
       "2       ירושלים  261589  72601  32800   5321\n",
       "3       בני ברק   84846   4951   1133     22\n",
       "4         סחנין   17085     39    120  16610"
      ]
     },
     "metadata": {},
     "output_type": "display_data"
    },
    {
     "data": {
      "text/html": [
       "<div>\n",
       "<style scoped>\n",
       "    .dataframe tbody tr th:only-of-type {\n",
       "        vertical-align: middle;\n",
       "    }\n",
       "\n",
       "    .dataframe tbody tr th {\n",
       "        vertical-align: top;\n",
       "    }\n",
       "\n",
       "    .dataframe thead th {\n",
       "        text-align: right;\n",
       "    }\n",
       "</style>\n",
       "<table border=\"1\" class=\"dataframe\">\n",
       "  <thead>\n",
       "    <tr style=\"text-align: right;\">\n",
       "      <th></th>\n",
       "      <th>שם ישוב</th>\n",
       "      <th>כשרים</th>\n",
       "      <th>מחל</th>\n",
       "      <th>פה</th>\n",
       "      <th>ודעם</th>\n",
       "    </tr>\n",
       "  </thead>\n",
       "  <tbody>\n",
       "    <tr>\n",
       "      <th>0</th>\n",
       "      <td>דאלית אלכרמל</td>\n",
       "      <td>7102</td>\n",
       "      <td>5.7%</td>\n",
       "      <td>73.2%</td>\n",
       "      <td>9.2%</td>\n",
       "    </tr>\n",
       "    <tr>\n",
       "      <th>1</th>\n",
       "      <td>כרמיאל</td>\n",
       "      <td>24370</td>\n",
       "      <td>36.4%</td>\n",
       "      <td>27.2%</td>\n",
       "      <td>1.9%</td>\n",
       "    </tr>\n",
       "    <tr>\n",
       "      <th>2</th>\n",
       "      <td>ירושלים</td>\n",
       "      <td>261589</td>\n",
       "      <td>27.8%</td>\n",
       "      <td>12.5%</td>\n",
       "      <td>2.0%</td>\n",
       "    </tr>\n",
       "    <tr>\n",
       "      <th>3</th>\n",
       "      <td>בני ברק</td>\n",
       "      <td>84846</td>\n",
       "      <td>5.8%</td>\n",
       "      <td>1.3%</td>\n",
       "      <td>0.0%</td>\n",
       "    </tr>\n",
       "    <tr>\n",
       "      <th>4</th>\n",
       "      <td>סחנין</td>\n",
       "      <td>17085</td>\n",
       "      <td>0.2%</td>\n",
       "      <td>0.7%</td>\n",
       "      <td>97.2%</td>\n",
       "    </tr>\n",
       "  </tbody>\n",
       "</table>\n",
       "</div>"
      ],
      "text/plain": [
       "        שם ישוב   כשרים    מחל     פה   ודעם\n",
       "0  דאלית אלכרמל    7102   5.7%  73.2%   9.2%\n",
       "1        כרמיאל   24370  36.4%  27.2%   1.9%\n",
       "2       ירושלים  261589  27.8%  12.5%   2.0%\n",
       "3       בני ברק   84846   5.8%   1.3%   0.0%\n",
       "4         סחנין   17085   0.2%   0.7%  97.2%"
      ]
     },
     "metadata": {},
     "output_type": "display_data"
    }
   ],
   "source": [
    "test_rows = np.logical_and(town_set_str == 'test', knesset_cities['knesset']==23)\n",
    "test_df = knesset_cities[test_rows]\n",
    "Xtest = X[test_rows,:]\n",
    "\n",
    "test_df = test_df[['שם ישוב','כשרים','מחל','פה','ודעם']].reset_index(drop=True)\n",
    "display(test_df)\n",
    "\n",
    "kosher = test_df['כשרים'].values\n",
    "test_df['מחל'] /= kosher\n",
    "test_df['פה'] /= kosher\n",
    "test_df['ודעם'] /= kosher\n",
    "\n",
    "display(test_df.applymap(lambda x: \"{:.1%}\".format(x) if type(x)==float else x))\n"
   ]
  },
  {
   "cell_type": "code",
   "execution_count": 157,
   "metadata": {},
   "outputs": [],
   "source": [
    "Y_likud = model_likud.predict(Xtest)\n",
    "Y_kahol_lavan = model_kahol_lavan.predict(Xtest)\n",
    "Y_joint_list = model_joint.predict(Xtest)\n"
   ]
  },
  {
   "cell_type": "code",
   "execution_count": 158,
   "metadata": {},
   "outputs": [
    {
     "data": {
      "text/html": [
       "<div>\n",
       "<style scoped>\n",
       "    .dataframe tbody tr th:only-of-type {\n",
       "        vertical-align: middle;\n",
       "    }\n",
       "\n",
       "    .dataframe tbody tr th {\n",
       "        vertical-align: top;\n",
       "    }\n",
       "\n",
       "    .dataframe thead th {\n",
       "        text-align: right;\n",
       "    }\n",
       "</style>\n",
       "<table border=\"1\" class=\"dataframe\">\n",
       "  <thead>\n",
       "    <tr style=\"text-align: right;\">\n",
       "      <th></th>\n",
       "      <th>שם ישוב</th>\n",
       "      <th>מפלגה</th>\n",
       "      <th>relative_vote</th>\n",
       "      <th>model_vote</th>\n",
       "    </tr>\n",
       "  </thead>\n",
       "  <tbody>\n",
       "    <tr>\n",
       "      <th>0</th>\n",
       "      <td>דאלית אלכרמל</td>\n",
       "      <td>מחל</td>\n",
       "      <td>5.7%</td>\n",
       "      <td>3.3%</td>\n",
       "    </tr>\n",
       "    <tr>\n",
       "      <th>1</th>\n",
       "      <td>כרמיאל</td>\n",
       "      <td>מחל</td>\n",
       "      <td>36.4%</td>\n",
       "      <td>31.6%</td>\n",
       "    </tr>\n",
       "    <tr>\n",
       "      <th>2</th>\n",
       "      <td>ירושלים</td>\n",
       "      <td>מחל</td>\n",
       "      <td>27.8%</td>\n",
       "      <td>28.6%</td>\n",
       "    </tr>\n",
       "    <tr>\n",
       "      <th>3</th>\n",
       "      <td>בני ברק</td>\n",
       "      <td>מחל</td>\n",
       "      <td>5.8%</td>\n",
       "      <td>28.6%</td>\n",
       "    </tr>\n",
       "    <tr>\n",
       "      <th>4</th>\n",
       "      <td>סחנין</td>\n",
       "      <td>מחל</td>\n",
       "      <td>0.2%</td>\n",
       "      <td>3.3%</td>\n",
       "    </tr>\n",
       "    <tr>\n",
       "      <th>5</th>\n",
       "      <td>דאלית אלכרמל</td>\n",
       "      <td>פה</td>\n",
       "      <td>73.2%</td>\n",
       "      <td>13.7%</td>\n",
       "    </tr>\n",
       "    <tr>\n",
       "      <th>6</th>\n",
       "      <td>כרמיאל</td>\n",
       "      <td>פה</td>\n",
       "      <td>27.2%</td>\n",
       "      <td>39.0%</td>\n",
       "    </tr>\n",
       "    <tr>\n",
       "      <th>7</th>\n",
       "      <td>ירושלים</td>\n",
       "      <td>פה</td>\n",
       "      <td>12.5%</td>\n",
       "      <td>18.4%</td>\n",
       "    </tr>\n",
       "    <tr>\n",
       "      <th>8</th>\n",
       "      <td>בני ברק</td>\n",
       "      <td>פה</td>\n",
       "      <td>1.3%</td>\n",
       "      <td>39.0%</td>\n",
       "    </tr>\n",
       "    <tr>\n",
       "      <th>9</th>\n",
       "      <td>סחנין</td>\n",
       "      <td>פה</td>\n",
       "      <td>0.7%</td>\n",
       "      <td>10.9%</td>\n",
       "    </tr>\n",
       "    <tr>\n",
       "      <th>10</th>\n",
       "      <td>דאלית אלכרמל</td>\n",
       "      <td>ודעם</td>\n",
       "      <td>9.2%</td>\n",
       "      <td>67.5%</td>\n",
       "    </tr>\n",
       "    <tr>\n",
       "      <th>11</th>\n",
       "      <td>כרמיאל</td>\n",
       "      <td>ודעם</td>\n",
       "      <td>1.9%</td>\n",
       "      <td>0.4%</td>\n",
       "    </tr>\n",
       "    <tr>\n",
       "      <th>12</th>\n",
       "      <td>ירושלים</td>\n",
       "      <td>ודעם</td>\n",
       "      <td>2.0%</td>\n",
       "      <td>21.0%</td>\n",
       "    </tr>\n",
       "    <tr>\n",
       "      <th>13</th>\n",
       "      <td>בני ברק</td>\n",
       "      <td>ודעם</td>\n",
       "      <td>0.0%</td>\n",
       "      <td>0.3%</td>\n",
       "    </tr>\n",
       "    <tr>\n",
       "      <th>14</th>\n",
       "      <td>סחנין</td>\n",
       "      <td>ודעם</td>\n",
       "      <td>97.2%</td>\n",
       "      <td>79.0%</td>\n",
       "    </tr>\n",
       "  </tbody>\n",
       "</table>\n",
       "</div>"
      ],
      "text/plain": [
       "         שם ישוב מפלגה relative_vote model_vote\n",
       "0   דאלית אלכרמל   מחל          5.7%       3.3%\n",
       "1         כרמיאל   מחל         36.4%      31.6%\n",
       "2        ירושלים   מחל         27.8%      28.6%\n",
       "3        בני ברק   מחל          5.8%      28.6%\n",
       "4          סחנין   מחל          0.2%       3.3%\n",
       "5   דאלית אלכרמל    פה         73.2%      13.7%\n",
       "6         כרמיאל    פה         27.2%      39.0%\n",
       "7        ירושלים    פה         12.5%      18.4%\n",
       "8        בני ברק    פה          1.3%      39.0%\n",
       "9          סחנין    פה          0.7%      10.9%\n",
       "10  דאלית אלכרמל  ודעם          9.2%      67.5%\n",
       "11        כרמיאל  ודעם          1.9%       0.4%\n",
       "12       ירושלים  ודעם          2.0%      21.0%\n",
       "13       בני ברק  ודעם          0.0%       0.3%\n",
       "14         סחנין  ודעם         97.2%      79.0%"
      ]
     },
     "execution_count": 158,
     "metadata": {},
     "output_type": "execute_result"
    }
   ],
   "source": [
    "test_m = test_df.melt(id_vars = 'שם ישוב', value_vars=['מחל','פה','ודעם'],value_name=\"relative_vote\",var_name='מפלגה')\n",
    "test_m['model_vote'] = np.concatenate([Y_likud,Y_kahol_lavan,Y_joint_list])\n",
    "test_m.applymap(lambda x: \"{:.1%}\".format(x) if type(x)==float else x )"
   ]
  },
  {
   "cell_type": "code",
   "execution_count": 160,
   "metadata": {},
   "outputs": [
    {
     "data": {
      "text/plain": [
       "<matplotlib.axes._subplots.AxesSubplot at 0x261332f6e88>"
      ]
     },
     "execution_count": 160,
     "metadata": {},
     "output_type": "execute_result"
    },
    {
     "data": {
      "image/png": "[encoded data removed]",
      "text/plain": [
       "<Figure size 576x576 with 1 Axes>"
      ]
     },
     "metadata": {
      "needs_background": "light"
     },
     "output_type": "display_data"
    }
   ],
   "source": [
    "plt.figure(figsize=(8,8))\n",
    "test_m['town'] = test_m['שם ישוב'].apply(lambda s: s[::-1])\n",
    "test_m['party'] = test_m['מפלגה'].apply(lambda s: s[::-1])\n",
    "\n",
    "sns.scatterplot(x=\"relative_vote\",y=\"model_vote\",data=test_m,style='town',hue='party')"
   ]
  },
  {
   "cell_type": "markdown",
   "metadata": {},
   "source": [
    "# סעיף 6 - CONFUSION MATRIX\n"
   ]
  },
  {
   "cell_type": "markdown",
   "metadata": {},
   "source": [
    "###### נתקלנו בבאג אז נאלצנו לשנות את הקבצים מ csv ל xlsx ולטעון אותם מחדש"
   ]
  },
  {
   "cell_type": "code",
   "execution_count": 171,
   "metadata": {},
   "outputs": [],
   "source": [
    "Station21 = pd.read_excel(r\"C:\\Users\\HP\\Downloads\\ByStation21.xlsx\")\n",
    "Station22 = pd.read_excel(r\"C:\\Users\\HP\\Downloads\\ByStation22.xlsx\")\n",
    "Station23 = pd.read_excel(r\"C:\\Users\\HP\\Downloads\\ByStation23.xlsx\")\n",
    "knesset21 = Station21[['סמל ישוב','מספר קלפי','מצביעים','פסולים']]\n",
    "knesset22 = Station22[['סמל ישוב','קלפי','מצביעים','פסולים']]\n",
    "knesset23 = Station23[['סמל ישוב','קלפי','מצביעים','פסולים']]\n"
   ]
  },
  {
   "cell_type": "markdown",
   "metadata": {},
   "source": [
    "# calculate the Average Votes for every station\n",
    "averageVotes = % Disqualified votes from the sum of votes\n",
    "\n",
    "HigherOrLowerFromAverage = An value that gives an estimate of the average of votes relative to the overall average"
   ]
  },
  {
   "cell_type": "code",
   "execution_count": 172,
   "metadata": {},
   "outputs": [
    {
     "name": "stderr",
     "output_type": "stream",
     "text": [
      "C:\\Users\\HP\\anaconda3\\lib\\site-packages\\ipykernel_launcher.py:1: SettingWithCopyWarning: \n",
      "A value is trying to be set on a copy of a slice from a DataFrame.\n",
      "Try using .loc[row_indexer,col_indexer] = value instead\n",
      "\n",
      "See the caveats in the documentation: https://pandas.pydata.org/pandas-docs/stable/user_guide/indexing.html#returning-a-view-versus-a-copy\n",
      "  \"\"\"Entry point for launching an IPython kernel.\n",
      "C:\\Users\\HP\\anaconda3\\lib\\site-packages\\ipykernel_launcher.py:3: SettingWithCopyWarning: \n",
      "A value is trying to be set on a copy of a slice from a DataFrame.\n",
      "Try using .loc[row_indexer,col_indexer] = value instead\n",
      "\n",
      "See the caveats in the documentation: https://pandas.pydata.org/pandas-docs/stable/user_guide/indexing.html#returning-a-view-versus-a-copy\n",
      "  This is separate from the ipykernel package so we can avoid doing imports until\n",
      "C:\\Users\\HP\\anaconda3\\lib\\site-packages\\ipykernel_launcher.py:5: SettingWithCopyWarning: \n",
      "A value is trying to be set on a copy of a slice from a DataFrame.\n",
      "Try using .loc[row_indexer,col_indexer] = value instead\n",
      "\n",
      "See the caveats in the documentation: https://pandas.pydata.org/pandas-docs/stable/user_guide/indexing.html#returning-a-view-versus-a-copy\n",
      "  \"\"\"\n",
      "C:\\Users\\HP\\anaconda3\\lib\\site-packages\\ipykernel_launcher.py:7: SettingWithCopyWarning: \n",
      "A value is trying to be set on a copy of a slice from a DataFrame.\n",
      "Try using .loc[row_indexer,col_indexer] = value instead\n",
      "\n",
      "See the caveats in the documentation: https://pandas.pydata.org/pandas-docs/stable/user_guide/indexing.html#returning-a-view-versus-a-copy\n",
      "  import sys\n",
      "C:\\Users\\HP\\anaconda3\\lib\\site-packages\\ipykernel_launcher.py:9: SettingWithCopyWarning: \n",
      "A value is trying to be set on a copy of a slice from a DataFrame.\n",
      "Try using .loc[row_indexer,col_indexer] = value instead\n",
      "\n",
      "See the caveats in the documentation: https://pandas.pydata.org/pandas-docs/stable/user_guide/indexing.html#returning-a-view-versus-a-copy\n",
      "  if __name__ == '__main__':\n",
      "C:\\Users\\HP\\anaconda3\\lib\\site-packages\\ipykernel_launcher.py:11: SettingWithCopyWarning: \n",
      "A value is trying to be set on a copy of a slice from a DataFrame.\n",
      "Try using .loc[row_indexer,col_indexer] = value instead\n",
      "\n",
      "See the caveats in the documentation: https://pandas.pydata.org/pandas-docs/stable/user_guide/indexing.html#returning-a-view-versus-a-copy\n",
      "  # This is added back by InteractiveShellApp.init_path()\n"
     ]
    }
   ],
   "source": [
    "knesset21['averageVotes'] = knesset21['פסולים']/ knesset21['מצביעים']\n",
    "average21 = knesset21['averageVotes'].mean()\n",
    "knesset21['HigherOrLowerFromAverage'] =np.where(knesset21['averageVotes'] > average21, 1,0)\n",
    "\n",
    "knesset22['averageVotes'] = knesset22['פסולים']/knesset22['מצביעים']\n",
    "average22 = knesset22['averageVotes'].mean()\n",
    "knesset22['HigherOrLowerFromAverage'] =np.where(knesset22['averageVotes'] > average22, 1,0)\n",
    "\n",
    "knesset23['averageVotes'] = knesset23['פסולים']/knesset23['מצביעים']\n",
    "average23 = knesset23['averageVotes'].mean()\n",
    "knesset23['HigherOrLowerFromAverage'] =np.where(knesset23['averageVotes'] > average23, 1,0)"
   ]
  },
  {
   "cell_type": "markdown",
   "metadata": {},
   "source": [
    "# split data into train, test set"
   ]
  },
  {
   "cell_type": "code",
   "execution_count": 173,
   "metadata": {},
   "outputs": [],
   "source": [
    "features = pd.concat([knesset21.drop('HigherOrLowerFromAverage', axis=1), knesset22.drop('HigherOrLowerFromAverage',axis=1)\n",
    "                      ,knesset23.drop('HigherOrLowerFromAverage', axis=1)], axis =0)\n",
    "labels = pd.concat([knesset21['HigherOrLowerFromAverage'], knesset22['HigherOrLowerFromAverage'],\n",
    "                    knesset23['HigherOrLowerFromAverage']], axis=0)\n",
    "\n",
    "\n",
    "X_train, X_test, y_train, y_test = train_test_split(features, labels, test_size=0.33, random_state=RSEED)\n",
    "X_train = X_train.fillna(X_train.mean())\n",
    "X_test = X_test.fillna(X_test.mean())"
   ]
  },
  {
   "cell_type": "markdown",
   "metadata": {},
   "source": [
    "# DecisionTreeClassifier"
   ]
  },
  {
   "cell_type": "code",
   "execution_count": 174,
   "metadata": {},
   "outputs": [
    {
     "name": "stdout",
     "output_type": "stream",
     "text": [
      "Decision tree has 629 nodes with maximum depth 33.\n"
     ]
    }
   ],
   "source": [
    "tree = DecisionTreeClassifier(random_state=RSEED)\n",
    "tree.fit(X_train, y_train)\n",
    "print(f'Decision tree has {tree.tree_.node_count} nodes with maximum depth {tree.tree_.max_depth}.')"
   ]
  },
  {
   "cell_type": "markdown",
   "metadata": {},
   "source": [
    "# Test set Predict"
   ]
  },
  {
   "cell_type": "code",
   "execution_count": 175,
   "metadata": {},
   "outputs": [],
   "source": [
    "train_probs = tree.predict_proba(X_train)[:, 1]\n",
    "probs = tree.predict_proba(X_test)[:, 1]\n",
    "\n",
    "train_predictions = tree.predict(X_train)\n",
    "predictions = tree.predict(X_test)"
   ]
  },
  {
   "cell_type": "markdown",
   "metadata": {},
   "source": [
    "# check the Accuracy value of Train/Test sets"
   ]
  },
  {
   "cell_type": "code",
   "execution_count": 176,
   "metadata": {},
   "outputs": [
    {
     "name": "stdout",
     "output_type": "stream",
     "text": [
      "Train ROC AUC Score: 0.9999999605321958\n",
      "Test ROC AUC  Score: 0.9162011173184357\n"
     ]
    }
   ],
   "source": [
    "from sklearn.metrics import precision_score, recall_score, roc_auc_score, roc_curve\n",
    "\n",
    "print(f'Train ROC AUC Score: {roc_auc_score(y_train, train_probs)}')\n",
    "print(f'Test ROC AUC  Score: {roc_auc_score(y_test, probs)}')"
   ]
  },
  {
   "cell_type": "markdown",
   "metadata": {},
   "source": [
    "# confuxion matrix function"
   ]
  },
  {
   "cell_type": "code",
   "execution_count": 184,
   "metadata": {},
   "outputs": [],
   "source": [
    "from sklearn.metrics import confusion_matrix\n",
    "import itertools\n",
    "\n",
    "def plot_confusion_matrix(cm, classes,\n",
    "                          normalize=False,\n",
    "                          title='Confusion matrix',\n",
    "                          cmap=plt.cm.Oranges):\n",
    "    \"\"\"\n",
    "    This function prints and plots the confusion matrix.\n",
    "    Normalization can be applied by setting `normalize=True`.\n",
    "    Source: http://scikit-learn.org/stable/auto_examples/model_selection/plot_confusion_matrix.html\n",
    "    \"\"\"\n",
    "    if normalize:\n",
    "        cm = cm.astype('float') / cm.sum(axis=1)[:, np.newaxis]\n",
    "        print(\"Normalized confusion matrix\")\n",
    "    else:\n",
    "        print('Confusion matrix, without normalization')\n",
    "\n",
    "    print(cm)\n",
    "\n",
    "    plt.figure(figsize = (8, 8))\n",
    "    plt.imshow(cm, interpolation='nearest', cmap=cmap)\n",
    "    plt.title(title, size = 24)\n",
    "    plt.colorbar(aspect=4)\n",
    "    tick_marks = np.arange(len(classes))\n",
    "    plt.xticks(tick_marks, classes, rotation=45, size = 14)\n",
    "    plt.yticks(tick_marks, classes, size = 14)\n",
    "\n",
    "    fmt = '.2f' if normalize else 'd'\n",
    "    thresh = cm.max() / 2.\n",
    "    \n",
    "    # Labeling the plot\n",
    "    for i, j in itertools.product(range(cm.shape[0]), range(cm.shape[1])):\n",
    "        plt.text(j, i, format(cm[i, j], fmt), fontsize = 20,\n",
    "                 horizontalalignment=\"center\",\n",
    "                 color=\"white\" if cm[i, j] > thresh else \"black\")\n",
    "    plt.xlim(-0.5, len(np.unique(y_test))- 0.5)\n",
    "    plt.ylim( len(np.unique(predictions))- 0.5, -0.5)\n",
    "    plt.grid(None)\n",
    "    plt.tight_layout()\n",
    "    plt.ylabel('True label', size = 18)\n",
    "    plt.xlabel('Predicted label', size = 18)"
   ]
  },
  {
   "cell_type": "markdown",
   "metadata": {},
   "source": [
    "# Confusion matrix buliding"
   ]
  },
  {
   "cell_type": "code",
   "execution_count": 185,
   "metadata": {},
   "outputs": [
    {
     "name": "stdout",
     "output_type": "stream",
     "text": [
      "Confusion matrix, without normalization\n",
      "[[6722    0]\n",
      " [ 690 3427]]\n"
     ]
    },
    {
     "data": {
      "image/png": "[encoded data removed]",
      "text/plain": [
       "<Figure size 576x576 with 2 Axes>"
      ]
     },
     "metadata": {
      "needs_background": "light"
     },
     "output_type": "display_data"
    }
   ],
   "source": [
    "cm = confusion_matrix(y_test, predictions)\n",
    "plot_confusion_matrix(cm,classes=['noNeed representative', 'Need representative'] ,\n",
    "                      title = 'Confusion Matrix')\n",
    "plt.show()"
   ]
  },
  {
   "cell_type": "markdown",
   "metadata": {},
   "source": [
    "# Another Classifier - RandomForest"
   ]
  },
  {
   "cell_type": "code",
   "execution_count": 188,
   "metadata": {},
   "outputs": [
    {
     "name": "stderr",
     "output_type": "stream",
     "text": [
      "[Parallel(n_jobs=-1)]: Using backend ThreadingBackend with 8 concurrent workers.\n",
      "[Parallel(n_jobs=-1)]: Done  34 tasks      | elapsed:    0.1s\n",
      "[Parallel(n_jobs=-1)]: Done 100 out of 100 | elapsed:    0.4s finished\n"
     ]
    },
    {
     "data": {
      "text/plain": [
       "RandomForestClassifier(bootstrap=True, ccp_alpha=0.0, class_weight=None,\n",
       "                       criterion='gini', max_depth=None, max_features='sqrt',\n",
       "                       max_leaf_nodes=None, max_samples=None,\n",
       "                       min_impurity_decrease=0.0, min_impurity_split=None,\n",
       "                       min_samples_leaf=1, min_samples_split=2,\n",
       "                       min_weight_fraction_leaf=0.0, n_estimators=100,\n",
       "                       n_jobs=-1, oob_score=False, random_state=1234, verbose=1,\n",
       "                       warm_start=False)"
      ]
     },
     "execution_count": 188,
     "metadata": {},
     "output_type": "execute_result"
    }
   ],
   "source": [
    "from sklearn.ensemble import RandomForestClassifier\n",
    "\n",
    "# Create the model with 100 trees\n",
    "model = RandomForestClassifier(n_estimators=100, \n",
    "                               random_state=RSEED, \n",
    "                               max_features = 'sqrt',\n",
    "                               n_jobs=-1, verbose = 1)\n",
    "\n",
    "# Fit on training data\n",
    "model.fit(X_train, y_train)"
   ]
  },
  {
   "cell_type": "markdown",
   "metadata": {},
   "source": [
    "# checking model data"
   ]
  },
  {
   "cell_type": "code",
   "execution_count": 189,
   "metadata": {},
   "outputs": [
    {
     "name": "stdout",
     "output_type": "stream",
     "text": [
      "Average number of nodes 600\n",
      "Average maximum depth 25\n"
     ]
    }
   ],
   "source": [
    "n_nodes = []\n",
    "max_depths = []\n",
    "\n",
    "for ind_tree in model.estimators_:\n",
    "    n_nodes.append(ind_tree.tree_.node_count)\n",
    "    max_depths.append(ind_tree.tree_.max_depth)\n",
    "    \n",
    "print(f'Average number of nodes {int(np.mean(n_nodes))}')\n",
    "print(f'Average maximum depth {int(np.mean(max_depths))}')"
   ]
  },
  {
   "cell_type": "markdown",
   "metadata": {},
   "source": [
    "# Test set Predict - new model"
   ]
  },
  {
   "cell_type": "code",
   "execution_count": 190,
   "metadata": {},
   "outputs": [
    {
     "name": "stderr",
     "output_type": "stream",
     "text": [
      "[Parallel(n_jobs=8)]: Using backend ThreadingBackend with 8 concurrent workers.\n",
      "[Parallel(n_jobs=8)]: Done  34 tasks      | elapsed:    0.0s\n",
      "[Parallel(n_jobs=8)]: Done 100 out of 100 | elapsed:    0.0s finished\n",
      "[Parallel(n_jobs=8)]: Using backend ThreadingBackend with 8 concurrent workers.\n",
      "[Parallel(n_jobs=8)]: Done  34 tasks      | elapsed:    0.0s\n",
      "[Parallel(n_jobs=8)]: Done 100 out of 100 | elapsed:    0.0s finished\n",
      "[Parallel(n_jobs=8)]: Using backend ThreadingBackend with 8 concurrent workers.\n",
      "[Parallel(n_jobs=8)]: Done  34 tasks      | elapsed:    0.0s\n",
      "[Parallel(n_jobs=8)]: Done 100 out of 100 | elapsed:    0.0s finished\n",
      "[Parallel(n_jobs=8)]: Using backend ThreadingBackend with 8 concurrent workers.\n",
      "[Parallel(n_jobs=8)]: Done  34 tasks      | elapsed:    0.0s\n",
      "[Parallel(n_jobs=8)]: Done 100 out of 100 | elapsed:    0.0s finished\n"
     ]
    }
   ],
   "source": [
    "train_rf_predictions = model.predict(X_train)\n",
    "train_rf_probs = model.predict_proba(X_train)[:, 1]\n",
    "\n",
    "rf_predictions = model.predict(X_test)\n",
    "rf_probs = model.predict_proba(X_test)[:, 1]"
   ]
  },
  {
   "cell_type": "markdown",
   "metadata": {},
   "source": [
    "# Confusion matrix reBuliding"
   ]
  },
  {
   "cell_type": "code",
   "execution_count": 191,
   "metadata": {},
   "outputs": [
    {
     "name": "stdout",
     "output_type": "stream",
     "text": [
      "Confusion matrix, without normalization\n",
      "[[6656   66]\n",
      " [ 162 3955]]\n"
     ]
    },
    {
     "data": {
      "image/png": "[encoded data removed]",
      "text/plain": [
       "<Figure size 576x576 with 2 Axes>"
      ]
     },
     "metadata": {
      "needs_background": "light"
     },
     "output_type": "display_data"
    }
   ],
   "source": [
    "cm = confusion_matrix(y_test, rf_predictions)\n",
    "plot_confusion_matrix(cm,classes=['noNeed representative', 'Need representative'] ,\n",
    "                      title = 'Confusion Matrix')"
   ]
  },
  {
   "cell_type": "code",
   "execution_count": null,
   "metadata": {},
   "outputs": [],
   "source": []
  }
 ],
 "metadata": {
  "kernelspec": {
   "display_name": "Python 3",
   "language": "python",
   "name": "python3"
  },
  "language_info": {
   "codemirror_mode": {
    "name": "ipython",
    "version": 3
   },
   "file_extension": ".py",
   "mimetype": "text/x-python",
   "name": "python",
   "nbconvert_exporter": "python",
   "pygments_lexer": "ipython3",
   "version": "3.7.4"
  }
 },
 "nbformat": 4,
 "nbformat_minor": 4
}
